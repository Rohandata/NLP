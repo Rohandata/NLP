{
  "nbformat": 4,
  "nbformat_minor": 0,
  "metadata": {
    "colab": {
      "name": "Basics of NLP.ipynb",
      "provenance": [],
      "authorship_tag": "ABX9TyPlHoyseZ45CSaVxpkl3yhT",
      "include_colab_link": true
    },
    "kernelspec": {
      "name": "python3",
      "display_name": "Python 3"
    },
    "language_info": {
      "name": "python"
    }
  },
  "cells": [
    {
      "cell_type": "markdown",
      "metadata": {
        "id": "view-in-github",
        "colab_type": "text"
      },
      "source": [
        "<a href=\"https://colab.research.google.com/github/ajaysaikiran2208/Natural-Language-Processing/blob/main/Basics_of_NLP.ipynb\" target=\"_parent\"><img src=\"https://colab.research.google.com/assets/colab-badge.svg\" alt=\"Open In Colab\"/></a>"
      ]
    },
    {
      "cell_type": "markdown",
      "metadata": {
        "id": "b_HiFu94EkBT"
      },
      "source": [
        "***Tokenizing words and Sentences***"
      ]
    },
    {
      "cell_type": "markdown",
      "metadata": {
        "id": "z-At6l0vErWp"
      },
      "source": [
        "Tokenizing=a form of grouping \n",
        "\n",
        "we have **word** **tokenizer**[separate by words] and **sentence tokenizer**[separate by sentences]\n",
        "\n"
      ]
    },
    {
      "cell_type": "markdown",
      "metadata": {
        "id": "inFZZeWJFtKa"
      },
      "source": [
        "Corpora=**Body of text**\n",
        "\n",
        "e.g:Medical Journals,Presidential speeches"
      ]
    },
    {
      "cell_type": "markdown",
      "metadata": {
        "id": "F83ONM31Fv04"
      },
      "source": [
        "lexicon = **words and their meanings**"
      ]
    },
    {
      "cell_type": "code",
      "metadata": {
        "id": "p2lafcYoElwR"
      },
      "source": [
        "from nltk.tokenize import sent_tokenize,word_tokenize"
      ],
      "execution_count": null,
      "outputs": []
    },
    {
      "cell_type": "code",
      "metadata": {
        "id": "GkjqQaqYDzRN"
      },
      "source": [
        "example_text=\"Paragraphs are the building blocks of papers. Many students define paragraphs in terms of length: a paragraph is a group of at least five sentences, a paragraph is half a page long, etc. In reality, though, the unity and coherence of ideas among sentences is what constitutes a paragraph. A paragraph is defined as “a group of sentences or a single sentence that forms a unit” (Lunsford and Connors 116). Length and appearance do not determine whether a section in a paper is a paragraph. For instance, in some styles of writing, particularly journalistic styles, a paragraph can be just one sentence long. Ultimately, a paragraph is a sentence or group of sentences that support one main idea. In this handout, we will refer to this as the “controlling idea,” because it controls what happens in the rest of the paragraph.\""
      ],
      "execution_count": 4,
      "outputs": []
    },
    {
      "cell_type": "markdown",
      "metadata": {
        "id": "pU0kAXrlEfm5"
      },
      "source": [
        "Punkt Sentence Tokenizer\n",
        "\n",
        "This tokenizer divides a text into a list of sentences, by using an unsupervised algorithm to build a model for abbreviation words, collocations, and words that start sentences. It must be trained on a large collection of plaintext in the target language before it can be used."
      ]
    },
    {
      "cell_type": "code",
      "metadata": {
        "colab": {
          "base_uri": "https://localhost:8080/"
        },
        "id": "SQDq2nQQEKRq",
        "outputId": "0248dab6-1d7f-4c8b-fd30-5206a75ed520"
      },
      "source": [
        "import nltk\n",
        "nltk.download('punkt')"
      ],
      "execution_count": 6,
      "outputs": [
        {
          "output_type": "stream",
          "text": [
            "[nltk_data] Downloading package punkt to /root/nltk_data...\n",
            "[nltk_data]   Unzipping tokenizers/punkt.zip.\n"
          ],
          "name": "stdout"
        },
        {
          "output_type": "execute_result",
          "data": {
            "text/plain": [
              "True"
            ]
          },
          "metadata": {
            "tags": []
          },
          "execution_count": 6
        }
      ]
    },
    {
      "cell_type": "code",
      "metadata": {
        "colab": {
          "base_uri": "https://localhost:8080/"
        },
        "id": "WqRnvcnCD88q",
        "outputId": "2875b5e4-3060-4add-fda0-57c092ae5bdb"
      },
      "source": [
        "#Grouping by sentence\n",
        "print(sent_tokenize(example_text))"
      ],
      "execution_count": 7,
      "outputs": [
        {
          "output_type": "stream",
          "text": [
            "['Paragraphs are the building blocks of papers.', 'Many students define paragraphs in terms of length: a paragraph is a group of at least five sentences, a paragraph is half a page long, etc.', 'In reality, though, the unity and coherence of ideas among sentences is what constitutes a paragraph.', 'A paragraph is defined as “a group of sentences or a single sentence that forms a unit” (Lunsford and Connors 116).', 'Length and appearance do not determine whether a section in a paper is a paragraph.', 'For instance, in some styles of writing, particularly journalistic styles, a paragraph can be just one sentence long.', 'Ultimately, a paragraph is a sentence or group of sentences that support one main idea.', 'In this handout, we will refer to this as the “controlling idea,” because it controls what happens in the rest of the paragraph.']\n"
          ],
          "name": "stdout"
        }
      ]
    },
    {
      "cell_type": "code",
      "metadata": {
        "colab": {
          "base_uri": "https://localhost:8080/"
        },
        "id": "_81G7MtjENtz",
        "outputId": "21e68c0d-2752-4493-c99e-57a35563ad5b"
      },
      "source": [
        "#Grouping by words\n",
        "print(word_tokenize(example_text))"
      ],
      "execution_count": 8,
      "outputs": [
        {
          "output_type": "stream",
          "text": [
            "['Paragraphs', 'are', 'the', 'building', 'blocks', 'of', 'papers', '.', 'Many', 'students', 'define', 'paragraphs', 'in', 'terms', 'of', 'length', ':', 'a', 'paragraph', 'is', 'a', 'group', 'of', 'at', 'least', 'five', 'sentences', ',', 'a', 'paragraph', 'is', 'half', 'a', 'page', 'long', ',', 'etc', '.', 'In', 'reality', ',', 'though', ',', 'the', 'unity', 'and', 'coherence', 'of', 'ideas', 'among', 'sentences', 'is', 'what', 'constitutes', 'a', 'paragraph', '.', 'A', 'paragraph', 'is', 'defined', 'as', '“', 'a', 'group', 'of', 'sentences', 'or', 'a', 'single', 'sentence', 'that', 'forms', 'a', 'unit', '”', '(', 'Lunsford', 'and', 'Connors', '116', ')', '.', 'Length', 'and', 'appearance', 'do', 'not', 'determine', 'whether', 'a', 'section', 'in', 'a', 'paper', 'is', 'a', 'paragraph', '.', 'For', 'instance', ',', 'in', 'some', 'styles', 'of', 'writing', ',', 'particularly', 'journalistic', 'styles', ',', 'a', 'paragraph', 'can', 'be', 'just', 'one', 'sentence', 'long', '.', 'Ultimately', ',', 'a', 'paragraph', 'is', 'a', 'sentence', 'or', 'group', 'of', 'sentences', 'that', 'support', 'one', 'main', 'idea', '.', 'In', 'this', 'handout', ',', 'we', 'will', 'refer', 'to', 'this', 'as', 'the', '“', 'controlling', 'idea', ',', '”', 'because', 'it', 'controls', 'what', 'happens', 'in', 'the', 'rest', 'of', 'the', 'paragraph', '.']\n"
          ],
          "name": "stdout"
        }
      ]
    }
  ]
}
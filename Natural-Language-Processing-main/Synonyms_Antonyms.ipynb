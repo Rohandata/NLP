{
  "nbformat": 4,
  "nbformat_minor": 0,
  "metadata": {
    "colab": {
      "name": "Synonyms/Antonyms.ipynb",
      "provenance": [],
      "authorship_tag": "ABX9TyPcgcpIb3tzuWZLHyk+L8Rd",
      "include_colab_link": true
    },
    "kernelspec": {
      "name": "python3",
      "display_name": "Python 3"
    },
    "language_info": {
      "name": "python"
    }
  },
  "cells": [
    {
      "cell_type": "markdown",
      "metadata": {
        "id": "view-in-github",
        "colab_type": "text"
      },
      "source": [
        "<a href=\"https://colab.research.google.com/github/ajaysaikiran2208/Natural-Language-Processing/blob/main/Synonyms_Antonyms.ipynb\" target=\"_parent\"><img src=\"https://colab.research.google.com/assets/colab-badge.svg\" alt=\"Open In Colab\"/></a>"
      ]
    },
    {
      "cell_type": "markdown",
      "metadata": {
        "id": "CeVWGO0QWpuh"
      },
      "source": [
        "#Synonyms/Antonyms from NLTK WordNet"
      ]
    },
    {
      "cell_type": "code",
      "metadata": {
        "colab": {
          "base_uri": "https://localhost:8080/"
        },
        "id": "5_RwBe3CVrF_",
        "outputId": "2844f4ae-a58f-43fe-e886-8627bd814d1e"
      },
      "source": [
        "nltk.download('wordnet')"
      ],
      "execution_count": 3,
      "outputs": [
        {
          "output_type": "stream",
          "text": [
            "[nltk_data] Downloading package wordnet to /root/nltk_data...\n",
            "[nltk_data]   Unzipping corpora/wordnet.zip.\n"
          ],
          "name": "stdout"
        },
        {
          "output_type": "execute_result",
          "data": {
            "text/plain": [
              "True"
            ]
          },
          "metadata": {
            "tags": []
          },
          "execution_count": 3
        }
      ]
    },
    {
      "cell_type": "code",
      "metadata": {
        "colab": {
          "base_uri": "https://localhost:8080/"
        },
        "id": "TG5Znj3EVkp9",
        "outputId": "ddebdde9-39c5-4692-bcd4-bf76b230b970"
      },
      "source": [
        "import nltk\n",
        "from nltk.corpus import wordnet   #Import wordnet from the NLTK\n",
        "syn = list()\n",
        "ant = list()\n",
        "user_input=input(\"Enter the word:\")\n",
        "for synset in wordnet.synsets(user_input):\n",
        "  for lemma in synset.lemmas():\n",
        "      syn.append(lemma.name())    #add the synonyms\n",
        "      if lemma.antonyms():\n",
        "        ant.append(lemma.antonyms()[0].name())\n",
        "print('Synonyms: ' + (str(syn)))\n",
        "print('Antonyms: ' + (str(ant)))"
      ],
      "execution_count": 17,
      "outputs": [
        {
          "output_type": "stream",
          "text": [
            "Enter the word:bad\n",
            "Synonyms: ['bad', 'badness', 'bad', 'bad', 'big', 'bad', 'tough', 'bad', 'spoiled', 'spoilt', 'regretful', 'sorry', 'bad', 'bad', 'uncollectible', 'bad', 'bad', 'bad', 'risky', 'high-risk', 'speculative', 'bad', 'unfit', 'unsound', 'bad', 'bad', 'bad', 'forged', 'bad', 'defective', 'badly', 'bad', 'badly', 'bad']\n",
            "Antonyms: ['good', 'goodness', 'good', 'unregretful']\n"
          ],
          "name": "stdout"
        }
      ]
    },
    {
      "cell_type": "markdown",
      "metadata": {
        "id": "SmuZTLZaVsd5"
      },
      "source": [
        "#Word Similarity"
      ]
    },
    {
      "cell_type": "code",
      "metadata": {
        "colab": {
          "base_uri": "https://localhost:8080/"
        },
        "id": "tO6vIOQWVr8R",
        "outputId": "d603e3f9-de46-4826-96ba-02c44194d40a"
      },
      "source": [
        "first_word = wordnet.synset(\"Travel.v.01\")\n",
        "second_word = wordnet.synset(\"Walk.v.01\")\n",
        "print('Similarity: ' + str(first_word.wup_similarity(second_word)))\n",
        "first_word = wordnet.synset(\"Good.n.01\")\n",
        "second_word = wordnet.synset(\"environment.n.01\")\n",
        "print('Similarity: ' + str(first_word.wup_similarity(second_word)))"
      ],
      "execution_count": 11,
      "outputs": [
        {
          "output_type": "stream",
          "text": [
            "Similarity: 0.6666666666666666\n",
            "Similarity: 0.46153846153846156\n"
          ],
          "name": "stdout"
        }
      ]
    },
    {
      "cell_type": "code",
      "metadata": {
        "id": "hFvn7CVVVzix"
      },
      "source": [
        ""
      ],
      "execution_count": null,
      "outputs": []
    }
  ]
}
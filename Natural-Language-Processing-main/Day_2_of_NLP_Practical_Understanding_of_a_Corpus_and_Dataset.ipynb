{
  "nbformat": 4,
  "nbformat_minor": 0,
  "metadata": {
    "colab": {
      "name": "Day-2 of NLP- Practical Understanding of a Corpus and Dataset.ipynb",
      "provenance": [],
      "authorship_tag": "ABX9TyMh4L1rMGOxhhGc8iYki+oS",
      "include_colab_link": true
    },
    "kernelspec": {
      "name": "python3",
      "display_name": "Python 3"
    },
    "language_info": {
      "name": "python"
    }
  },
  "cells": [
    {
      "cell_type": "markdown",
      "metadata": {
        "id": "view-in-github",
        "colab_type": "text"
      },
      "source": [
        "<a href=\"https://colab.research.google.com/github/Ajay-Sai-Kiran/Natural-Language-Processing/blob/main/Day_2_of_NLP_Practical_Understanding_of_a_Corpus_and_Dataset.ipynb\" target=\"_parent\"><img src=\"https://colab.research.google.com/assets/colab-badge.svg\" alt=\"Open In Colab\"/></a>"
      ]
    },
    {
      "cell_type": "markdown",
      "source": [
        "#Practical Understanding of a Corpus and Dataset.\n",
        "\n",
        "1.What is corpus?\n",
        "\n",
        "2.Why do we need corpus?\n",
        "\n",
        "3.Understanding corpus analysis\n",
        "\n",
        "4.Understanding types of data attributes\n",
        "\n"
      ],
      "metadata": {
        "id": "7Vp6Hbxj7JdL"
      }
    },
    {
      "cell_type": "markdown",
      "source": [
        "#What is corpus?\n",
        "\n",
        "Corpus is a **collection of written or spoken natural language material**, stored on computer,\n",
        "and **used to find out how language is used**. So more precisely, a corpus is a systematic\n",
        "computerized collection of authentic language that is used for linguistic analysis as well as\n",
        "corpus analysis. If you have more than one corpus, it is called corpora."
      ],
      "metadata": {
        "id": "yYhn_7Qr7Zfk"
      }
    },
    {
      "cell_type": "markdown",
      "source": [
        "In\n",
        "layman's terms, you can say that a **large collection of data is called corpus**"
      ],
      "metadata": {
        "id": "Vy_KfsgD7x1d"
      }
    },
    {
      "cell_type": "markdown",
      "source": [
        "There are three types of corpus:\n",
        "\n",
        "**Monolingual corpus**: This type of corpus has **one language**\n",
        "\n",
        "**Bilingual corpus**: This type of corpus has **two languages**\n",
        "\n",
        "**Multilingual corpus**: This type of corpus has **more than one language**"
      ],
      "metadata": {
        "id": "wQrRz_tU8HUl"
      }
    },
    {
      "cell_type": "markdown",
      "source": [
        "#Why do we need corpus?\n"
      ],
      "metadata": {
        "id": "ypd3JfX07_7c"
      }
    },
    {
      "cell_type": "markdown",
      "source": [
        "A\n",
        "corpus is the most critical and basic building block of any NLP-related application. It\n",
        "provides us with quantitative data that is used to build NLP applications. We can also use\n",
        "some part of the data to test and challenge our ideas and intuitions about the language.\n",
        "Corpus plays a very big role in NLP applications. Challenges regarding creating a corpus\n",
        "for NLP applications are as follows:\n",
        "\n",
        "Deciding the type of data we need in order to solve the problem statement\n",
        "\n",
        "Availability of data\n",
        "\n",
        "Quality of the data\n",
        "\n",
        "Adequacy of the data in terms of amount"
      ],
      "metadata": {
        "id": "wt2BHqxEjOLz"
      }
    },
    {
      "cell_type": "markdown",
      "source": [
        "#Understanding corpus analysis"
      ],
      "metadata": {
        "id": "nE2pVZfIjS8W"
      }
    },
    {
      "cell_type": "markdown",
      "source": [
        "Corpus analysis can be **defined as a methodology for pursuing in-depth investigations of linguistic concepts as grounded in the context of authentic and communicative situations.** "
      ],
      "metadata": {
        "id": "Bo4nFfddjWhM"
      }
    },
    {
      "cell_type": "markdown",
      "source": [
        "Corpus analysis for **speech data** needs the **analysis of phonetic** understanding of each of the\n",
        "data instances. Apart from **phonetic analysis, we also need to do conversation analysis,**\n",
        "which gives us an idea of how social interaction happens in day-to-day life in a specific\n",
        "language."
      ],
      "metadata": {
        "id": "t_Ur6fvajumk"
      }
    },
    {
      "cell_type": "markdown",
      "source": [
        "Corpus analysis for text data consists in statistically probing, manipulating, and\n",
        "generalizing the dataset."
      ],
      "metadata": {
        "id": "azYDMKOgj22d"
      }
    },
    {
      "cell_type": "markdown",
      "source": [
        "**nltk has four types of corpora.**"
      ],
      "metadata": {
        "id": "OQfbSOOXj5rU"
      }
    },
    {
      "cell_type": "markdown",
      "source": [
        "**Isolate corpus:** This type of corpus is a collection of text or natural language. Examples\n",
        "of this kind of corpus are gutenberg, webtext, and so on.\n",
        "\n",
        "**Categorized corpus:** This type of corpus is a collection of texts that are grouped into\n",
        "different types of categories.\n",
        "An example of this kind of corpus is the brown corpus, which contains data for\n",
        "different categories such as news, hobbies, humor, and so on.\n",
        "\n",
        "**Overlapping corpus:** This type of corpus is a collection of texts that are categorized,\n",
        "but the categories overlap with each other. An example of this kind of corpus is the\n",
        "reuters corpus, which contains data that is categorized, but the defined categories\n",
        "overlap with each other.\n",
        "\n",
        "**Temporal corpus:** This type of corpus is a collection of the usages of natural language\n",
        "over a period of time."
      ],
      "metadata": {
        "id": "79vx-AqKj8vM"
      }
    },
    {
      "cell_type": "markdown",
      "source": [
        "#.Understanding types of data attributes\n"
      ],
      "metadata": {
        "id": "UUXUZIB5kMWr"
      }
    },
    {
      "cell_type": "markdown",
      "source": [
        "![image.png](data:image/png;base64,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)"
      ],
      "metadata": {
        "id": "7bG1Qri6jnjl"
      }
    },
    {
      "cell_type": "markdown",
      "source": [
        "#Categorical or qualitative data attributes\n",
        "There are two sub-types of categorical data attributes:\n",
        "\n",
        "**Ordinal data:**\n",
        "\n",
        "This type of data attribute is **used to measure non-numeric concepts** such as\n",
        "satisfaction level, happiness level, discomfort level, and so on.\n",
        "\n",
        "**Nominal data:**\n",
        "\n",
        "This type of data attribute is used to record data that **doesn't overlap.**\n",
        "\n",
        "Example: What is your gender? The answer is either male or female, and the\n",
        "answers are not overlapping."
      ],
      "metadata": {
        "id": "_M_Y1KSKkfwb"
      }
    },
    {
      "cell_type": "markdown",
      "source": [
        "**Numeric or quantitative data attributes**\n",
        "\n",
        "The following are numeric or quantitative data attributes:\n",
        "\n",
        "These kinds of data attributes are numeric and represent a measurable quantity\n",
        "Examples: Financial data, population of a city, weight of people, and so on\n",
        "\n",
        "There are two sub-types of numeric data attributes:\n",
        "\n",
        "**Continuous data:**\n",
        "\n",
        "These kinds of data attributes are continuous\n",
        "\n",
        "**Discrete data:**\n",
        "\n",
        "Discrete data can only take certain values"
      ],
      "metadata": {
        "id": "MfSlrEbVkytb"
      }
    }
  ]
}
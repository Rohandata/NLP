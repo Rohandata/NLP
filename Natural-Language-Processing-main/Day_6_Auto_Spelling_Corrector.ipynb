{
  "nbformat": 4,
  "nbformat_minor": 0,
  "metadata": {
    "colab": {
      "name": " Day-6 Auto Spelling Corrector.ipynb",
      "provenance": [],
      "authorship_tag": "ABX9TyPT9Nj+lheE2P8E27gmhepj",
      "include_colab_link": true
    },
    "kernelspec": {
      "name": "python3",
      "display_name": "Python 3"
    },
    "language_info": {
      "name": "python"
    }
  },
  "cells": [
    {
      "cell_type": "markdown",
      "metadata": {
        "id": "view-in-github",
        "colab_type": "text"
      },
      "source": [
        "<a href=\"https://colab.research.google.com/github/Ajay-Sai-Kiran/Natural-Language-Processing/blob/main/Day_6_Auto_Spelling_Corrector.ipynb\" target=\"_parent\"><img src=\"https://colab.research.google.com/assets/colab-badge.svg\" alt=\"Open In Colab\"/></a>"
      ]
    },
    {
      "cell_type": "markdown",
      "source": [
        "#Auto Spelling corrector"
      ],
      "metadata": {
        "id": "TNUlyfPPr6Bd"
      }
    },
    {
      "cell_type": "markdown",
      "source": [
        "research paper Link: http://static.googleusercontent.com/media/research.google.com/en/us/pubs/archive/36180.pdf"
      ],
      "metadata": {
        "id": "3gC5wRG4sEnH"
      }
    },
    {
      "cell_type": "markdown",
      "source": [
        "Link for Bigtxt: http://norvig.com/big.txt"
      ],
      "metadata": {
        "id": "UfFvEmT0sJZ-"
      }
    },
    {
      "cell_type": "markdown",
      "source": [
        "#How It Works: Some Probability Theory\n",
        "\n",
        "The call correction(w) tries to choose the most likely spelling correction for w. There is no way to know for sure (for example, should \"lates\" be corrected to \"late\" or \"latest\" or \"lattes\" or ...?), which suggests we use probabilities. We are trying to find the correction c, out of all possible candidate corrections, that maximizes the probability that c is the intended correction, given the original word w:\n",
        "\n"
      ],
      "metadata": {
        "id": "ckfURqd0sRkl"
      }
    },
    {
      "cell_type": "markdown",
      "source": [
        "argmaxc ∈ candidates P(c|w)\n",
        "\n",
        "By Bayes' Theorem this is equivalent to:\n",
        "\n",
        "argmaxc ∈ candidates P(c) P(w|c) / P(w)\n",
        "\n",
        "Since P(w) is the same for every possible candidate c, we can factor it out, giving:\n",
        "\n",
        "argmaxc ∈ candidates P(c) P(w|c)"
      ],
      "metadata": {
        "id": "LSidrOENsbx3"
      }
    },
    {
      "cell_type": "markdown",
      "source": [
        "The four parts of this expression are:\n",
        "\n",
        "**Selection Mechanism**: argmax\n",
        "We choose the candidate with the highest combined probability.\n",
        "\n",
        "**Candidate Model**: c ∈ candidates\n",
        "This tells us which candidate corrections, c, to consider.\n",
        "\n",
        "**Language Model**: P(c)\n",
        "The probability that c appears as a word of English text. For example, occurrences of \"the\" make up about 7% of English text, so we should have P(the) = 0.07.\n",
        "\n",
        "**Error Model**: P(w|c)\n",
        "The probability that w would be typed in a text when the author meant c. For example, P(teh|the) is relatively high, but P(theeexyz|the) would be very low."
      ],
      "metadata": {
        "id": "Rps--dn6segN"
      }
    },
    {
      "cell_type": "code",
      "execution_count": 1,
      "metadata": {
        "id": "XLT1CtjCzezq"
      },
      "outputs": [],
      "source": [
        "import re\n",
        "from collections import Counter\n",
        "#Language Model\n",
        "def words(text): return re.findall(r'\\w+', text.lower())\n",
        "\n",
        "WORDS = Counter(words(open('/content/big.txt').read()))\n",
        "\n",
        "def P(word, N=sum(WORDS.values())): \n",
        "    \"Probability of `word`.\"\n",
        "    return WORDS[word] / N\n",
        "#Error Model\n",
        "def correction(word): \n",
        "    \"Most probable spelling correction for word.\"\n",
        "    return max(candidates(word), key=P)#Selection Mechanism\n",
        "\n",
        "def candidates(word): \n",
        "    \"Generate possible spelling corrections for word.\"\n",
        "    return (known([word]) or known(edits1(word)) or known(edits2(word)) or [word])\n",
        "\n",
        "def known(words): \n",
        "    \"The subset of `words` that appear in the dictionary of WORDS.\"\n",
        "    return set(w for w in words if w in WORDS)\n",
        "#Candidate Model\n",
        "def edits1(word):\n",
        "    \"All edits that are one edit away from `word`.\"\n",
        "    letters    = 'abcdefghijklmnopqrstuvwxyz'\n",
        "    splits     = [(word[:i], word[i:])    for i in range(len(word) + 1)]\n",
        "    deletes    = [L + R[1:]               for L, R in splits if R]\n",
        "    transposes = [L + R[1] + R[0] + R[2:] for L, R in splits if len(R)>1]\n",
        "    replaces   = [L + c + R[1:]           for L, R in splits if R for c in letters]\n",
        "    inserts    = [L + c + R               for L, R in splits for c in letters]\n",
        "    return set(deletes + transposes + replaces + inserts)\n",
        "\n",
        "def edits2(word): \n",
        "    \"All edits that are two edits away from `word`.\"\n",
        "    return (e2 for e1 in edits1(word) for e2 in edits1(e1))"
      ]
    },
    {
      "cell_type": "code",
      "source": [
        "correction('speling')\n"
      ],
      "metadata": {
        "colab": {
          "base_uri": "https://localhost:8080/",
          "height": 35
        },
        "id": "9EXK0Mourh4_",
        "outputId": "921cfa23-5c82-4cd4-8361-b94b57b1e7fa"
      },
      "execution_count": 3,
      "outputs": [
        {
          "output_type": "execute_result",
          "data": {
            "application/vnd.google.colaboratory.intrinsic+json": {
              "type": "string"
            },
            "text/plain": [
              "'spelling'"
            ]
          },
          "metadata": {},
          "execution_count": 3
        }
      ]
    },
    {
      "cell_type": "code",
      "source": [
        "correction('Apple')"
      ],
      "metadata": {
        "colab": {
          "base_uri": "https://localhost:8080/",
          "height": 35
        },
        "id": "CYtZ2YH3rj7G",
        "outputId": "320f10bb-7616-4f0b-a0b7-aaf82954f609"
      },
      "execution_count": 4,
      "outputs": [
        {
          "output_type": "execute_result",
          "data": {
            "application/vnd.google.colaboratory.intrinsic+json": {
              "type": "string"
            },
            "text/plain": [
              "'apple'"
            ]
          },
          "metadata": {},
          "execution_count": 4
        }
      ]
    },
    {
      "cell_type": "code",
      "source": [
        "correction(\"guttanberg\")"
      ],
      "metadata": {
        "colab": {
          "base_uri": "https://localhost:8080/",
          "height": 35
        },
        "id": "WEg-Nm1GrmsE",
        "outputId": "50b7ea65-9b4e-4ebb-be27-5d959d1c18d2"
      },
      "execution_count": 5,
      "outputs": [
        {
          "output_type": "execute_result",
          "data": {
            "application/vnd.google.colaboratory.intrinsic+json": {
              "type": "string"
            },
            "text/plain": [
              "'gutenberg'"
            ]
          },
          "metadata": {},
          "execution_count": 5
        }
      ]
    },
    {
      "cell_type": "code",
      "source": [
        "correction(\"whael\")"
      ],
      "metadata": {
        "colab": {
          "base_uri": "https://localhost:8080/",
          "height": 35
        },
        "id": "lfEfa-kIrsH2",
        "outputId": "6dd8e790-852a-4ade-9cf2-76f1183cba79"
      },
      "execution_count": 7,
      "outputs": [
        {
          "output_type": "execute_result",
          "data": {
            "application/vnd.google.colaboratory.intrinsic+json": {
              "type": "string"
            },
            "text/plain": [
              "'wheel'"
            ]
          },
          "metadata": {},
          "execution_count": 7
        }
      ]
    },
    {
      "cell_type": "code",
      "source": [
        "correction('whalle')"
      ],
      "metadata": {
        "colab": {
          "base_uri": "https://localhost:8080/",
          "height": 35
        },
        "id": "H5t4b-xQrwSc",
        "outputId": "f40bb57f-6f9e-4647-dd96-2998d417e83c"
      },
      "execution_count": 8,
      "outputs": [
        {
          "output_type": "execute_result",
          "data": {
            "application/vnd.google.colaboratory.intrinsic+json": {
              "type": "string"
            },
            "text/plain": [
              "'whale'"
            ]
          },
          "metadata": {},
          "execution_count": 8
        }
      ]
    },
    {
      "cell_type": "markdown",
      "source": [
        "#Acknowledgments\n",
        "Peter Norvig"
      ],
      "metadata": {
        "id": "QV1qiALqtkRm"
      }
    }
  ]
}
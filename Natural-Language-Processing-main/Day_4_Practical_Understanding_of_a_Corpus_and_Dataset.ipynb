{
  "nbformat": 4,
  "nbformat_minor": 0,
  "metadata": {
    "colab": {
      "name": "Day-4 Practical Understanding of a Corpus and Dataset",
      "provenance": [],
      "authorship_tag": "ABX9TyMuFW3kj6E5nWhz6hQ5jsqH",
      "include_colab_link": true
    },
    "kernelspec": {
      "name": "python3",
      "display_name": "Python 3"
    },
    "language_info": {
      "name": "python"
    }
  },
  "cells": [
    {
      "cell_type": "markdown",
      "metadata": {
        "id": "view-in-github",
        "colab_type": "text"
      },
      "source": [
        "<a href=\"https://colab.research.google.com/github/Ajay-Sai-Kiran/Natural-Language-Processing/blob/main/Day_4_Practical_Understanding_of_a_Corpus_and_Dataset.ipynb\" target=\"_parent\"><img src=\"https://colab.research.google.com/assets/colab-badge.svg\" alt=\"Open In Colab\"/></a>"
      ]
    },
    {
      "cell_type": "markdown",
      "source": [
        "#Practical Understanding of a Corpus and Dataset"
      ],
      "metadata": {
        "id": "hMWbmG-_9IsX"
      }
    },
    {
      "cell_type": "markdown",
      "source": [
        "\n",
        "\n",
        "\n",
        "Semantic analysis\n",
        "\n",
        "Handling ambiguity\n",
        "\n",
        "Discourse integration\n",
        "\n",
        "Pragmatic analysis"
      ],
      "metadata": {
        "id": "QPJ-xH2N4cfv"
      }
    },
    {
      "cell_type": "markdown",
      "source": [
        "#What is semantic analysis?\n",
        "\n",
        "Semantic analysis is generating representation for meaning of the NL. You might think, if\n",
        "lexical analysis also focuses on the meaning of the words given in stream of text, then what\n",
        "is the difference between semantic analysis and lexical analysis? The answer is that lexical\n",
        "analysis is based on smaller tokens; its focus is on meaning of the words, but semantic\n",
        "analysis focuses on larger chunks. \n",
        "\n",
        "\n",
        "Semantic analysis can be performed at the phrase level,\n",
        "sentence level, paragraph level, and sometimes at the document level as well. \n",
        "\n",
        "Semantic analysis can be divided into two parts, as follows:\n",
        "\n",
        "The study of the meaning of the individual word is called lexical semantics\n",
        "\n",
        "The study of how individual words combine to provide meaning in sentences or paragraphs in the context of dealing with a larger unit of NL"
      ],
      "metadata": {
        "id": "dvSTIXeb4q5D"
      }
    },
    {
      "cell_type": "markdown",
      "source": [
        "#Lexical semantics\n",
        "\n",
        "Lexical semantics **includes words, sub-words, or sub-units such as affixes**, and **even compound words, and phrases**. Here words, **sub-words and so on called lexical items.**"
      ],
      "metadata": {
        "id": "nUel-8UE4yNn"
      }
    },
    {
      "cell_type": "markdown",
      "source": [
        "The study of lexical semantics includes the following points:\n",
        "\n",
        "Classification of lexical items\n",
        "\n",
        "Decomposition of lexical items\n",
        "\n",
        "Differences and similarities between various lexical semantic structures\n",
        "\n",
        "Lexical semantics is the relationship among lexical items, meaning of the\n",
        "sentences and syntax of the sentence"
      ],
      "metadata": {
        "id": "wdqHsxlX47Ux"
      }
    },
    {
      "cell_type": "markdown",
      "source": [
        "#Hyponymy and hyponyms\n",
        "\n",
        "Hyponymy describes the relationship between a generic term and instances of the specified generic term. Here, a generic term is called a hypernym, and instances of the generic term are called hyponyms.\n",
        "\n",
        "So, color is a hypernym; red, green, yellow, and so on are hyponyms."
      ],
      "metadata": {
        "id": "i_CAyDDU5Gz3"
      }
    },
    {
      "cell_type": "markdown",
      "source": [
        "#Polysemy\n",
        "\n",
        "In order to understand polysemy, we are focused on words of the sentences. Polysemy is a **word or phrase which have different, but related senses. These kinds of words are also referred as lexically ambiguous words.**"
      ],
      "metadata": {
        "id": "qluKeMcY5eOM"
      }
    },
    {
      "cell_type": "markdown",
      "source": [
        "What is the difference between polysemy and\n",
        "homonymy?\n",
        "\n",
        "A word is called **polysemous if it is used to express different meanings. The difference between the meanings of the word can be obvious.**\n",
        "\n",
        "**Two or more words are called homonyms if they either have the same sound or have the same spelling but do not have related meanings.**"
      ],
      "metadata": {
        "id": "oSJ4yHCq639F"
      }
    },
    {
      "cell_type": "markdown",
      "source": [
        "**Pragmatic analysis**\n",
        "\n",
        "**Pragmatic analysis deals with outside word knowledge, which means knowledge that is external to the documents and/or queries.**\n",
        "\n",
        "Pragmatics analysis that focuses on what was described is reinterpreted by what it actually meant, deriving the various aspects of language that require real world knowledge."
      ],
      "metadata": {
        "id": "O_p_9tYO7kgc"
      }
    },
    {
      "cell_type": "markdown",
      "source": [
        "#Discourse integration\n",
        "\n",
        "**Discourse integration is closely related to pragmatics**. **Discourse integration is considered as the larger context for any smaller part of NL structure.** NL is so complex and, most of the time, sequences of text are dependent on prior discourse.\n",
        "\n",
        "\n",
        "**This concept occurs often in pragmatic ambiguity. This analysis deals with how the immediately preceding sentence can affect the meaning and interpretation of the next sentence.**"
      ],
      "metadata": {
        "id": "ncS32Rty8c1H"
      }
    },
    {
      "cell_type": "markdown",
      "source": [
        "#Pragmatic analysis\n",
        "\n",
        "**Pragmatic analysis deals with outside word knowledge, which means knowledge that is external to the documents and/or queries.** \n",
        "\n",
        "**Pragmatics analysis that focuses on what was described is reinterpreted by what it actually meant, deriving the various aspects of language that require real world knowledge.**"
      ],
      "metadata": {
        "id": "2z7Ep69A83Fd"
      }
    }
  ]
}
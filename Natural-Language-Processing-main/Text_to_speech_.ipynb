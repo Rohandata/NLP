{
  "nbformat": 4,
  "nbformat_minor": 0,
  "metadata": {
    "colab": {
      "name": "Text to speech .ipynb",
      "provenance": [],
      "authorship_tag": "ABX9TyO7teu1hpdBEXvvye6vqy1j",
      "include_colab_link": true
    },
    "kernelspec": {
      "name": "python3",
      "display_name": "Python 3"
    },
    "language_info": {
      "name": "python"
    }
  },
  "cells": [
    {
      "cell_type": "markdown",
      "metadata": {
        "id": "view-in-github",
        "colab_type": "text"
      },
      "source": [
        "<a href=\"https://colab.research.google.com/github/ajaysaikiran2208/Natural-Language-Processing/blob/main/Text_to_speech_.ipynb\" target=\"_parent\"><img src=\"https://colab.research.google.com/assets/colab-badge.svg\" alt=\"Open In Colab\"/></a>"
      ]
    },
    {
      "cell_type": "code",
      "metadata": {
        "colab": {
          "base_uri": "https://localhost:8080/"
        },
        "id": "WMePInjBNz56",
        "outputId": "a9214e0c-3fbb-4813-8f17-646fc6e8a429"
      },
      "source": [
        "!pip install gTTS"
      ],
      "execution_count": 2,
      "outputs": [
        {
          "output_type": "stream",
          "text": [
            "Collecting gTTS\n",
            "  Downloading https://files.pythonhosted.org/packages/e4/9e/fe139150719281309c6e52a799e86d7d8d19f6f2593b340e3693f6ef2c77/gTTS-2.2.3-py3-none-any.whl\n",
            "Requirement already satisfied: click in /usr/local/lib/python3.7/dist-packages (from gTTS) (7.1.2)\n",
            "Requirement already satisfied: requests in /usr/local/lib/python3.7/dist-packages (from gTTS) (2.23.0)\n",
            "Requirement already satisfied: six in /usr/local/lib/python3.7/dist-packages (from gTTS) (1.15.0)\n",
            "Requirement already satisfied: certifi>=2017.4.17 in /usr/local/lib/python3.7/dist-packages (from requests->gTTS) (2021.5.30)\n",
            "Requirement already satisfied: chardet<4,>=3.0.2 in /usr/local/lib/python3.7/dist-packages (from requests->gTTS) (3.0.4)\n",
            "Requirement already satisfied: urllib3!=1.25.0,!=1.25.1,<1.26,>=1.21.1 in /usr/local/lib/python3.7/dist-packages (from requests->gTTS) (1.24.3)\n",
            "Requirement already satisfied: idna<3,>=2.5 in /usr/local/lib/python3.7/dist-packages (from requests->gTTS) (2.10)\n",
            "Installing collected packages: gTTS\n",
            "Successfully installed gTTS-2.2.3\n"
          ],
          "name": "stdout"
        }
      ]
    },
    {
      "cell_type": "code",
      "metadata": {
        "colab": {
          "base_uri": "https://localhost:8080/"
        },
        "id": "4sPeYMo6NVY1",
        "outputId": "c0acfda7-5781-47d1-fee4-b96339ea06ca"
      },
      "source": [
        "# Import the required module for text \n",
        "# to speech conversion\n",
        "from gtts import gTTS\n",
        "  \n",
        "# This module is imported so that we can \n",
        "# play the converted audio\n",
        "import os\n",
        "  \n",
        "# The text that you want to convert to audio\n",
        "mytext = 'This is a nice way to start something.I want to thank Innomatics Research Labs for providing wonderful opportunity to explore ourselves and grow up within the community and as a group.'\n",
        "  \n",
        "# Language in which you want to convert\n",
        "language = 'en'\n",
        "  \n",
        "# Passing the text and language to the engine, \n",
        "# here we have marked slow=False. Which tells \n",
        "# the module that the converted audio should \n",
        "# have a high speed\n",
        "myobj = gTTS(text=mytext, lang=language, slow=True)\n",
        "  \n",
        "# Saving the converted audio in a mp3 file named\n",
        "# welcome \n",
        "myobj.save(\"welcome.mp3\")\n",
        "  \n",
        "# Playing the converted file\n",
        "os.system(\"mpg321 welcome.mp3\")"
      ],
      "execution_count": 8,
      "outputs": [
        {
          "output_type": "execute_result",
          "data": {
            "text/plain": [
              "32512"
            ]
          },
          "metadata": {
            "tags": []
          },
          "execution_count": 8
        }
      ]
    }
  ]
}
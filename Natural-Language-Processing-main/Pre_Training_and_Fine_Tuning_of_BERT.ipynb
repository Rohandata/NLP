{
  "nbformat": 4,
  "nbformat_minor": 0,
  "metadata": {
    "colab": {
      "name": " Pre-Training and Fine-Tuning of BERT.ipynb",
      "provenance": [],
      "collapsed_sections": [],
      "authorship_tag": "ABX9TyNkEgMFYrLkTfSqlHbufRqy",
      "include_colab_link": true
    },
    "kernelspec": {
      "name": "python3",
      "display_name": "Python 3"
    },
    "language_info": {
      "name": "python"
    },
    "accelerator": "GPU",
    "widgets": {
      "application/vnd.jupyter.widget-state+json": {
        "f0629f4d53db443b9a48138567cae646": {
          "model_module": "@jupyter-widgets/controls",
          "model_name": "HBoxModel",
          "state": {
            "_view_name": "HBoxView",
            "_dom_classes": [],
            "_model_name": "HBoxModel",
            "_view_module": "@jupyter-widgets/controls",
            "_model_module_version": "1.5.0",
            "_view_count": null,
            "_view_module_version": "1.5.0",
            "box_style": "",
            "layout": "IPY_MODEL_4326e1a22b0b4ff289c040c554f2aa50",
            "_model_module": "@jupyter-widgets/controls",
            "children": [
              "IPY_MODEL_990c56b5e76c4830b1edaf361906e2b4",
              "IPY_MODEL_da3cc665d9564920a8a6d4bd5fbdde02"
            ]
          }
        },
        "4326e1a22b0b4ff289c040c554f2aa50": {
          "model_module": "@jupyter-widgets/base",
          "model_name": "LayoutModel",
          "state": {
            "_view_name": "LayoutView",
            "grid_template_rows": null,
            "right": null,
            "justify_content": null,
            "_view_module": "@jupyter-widgets/base",
            "overflow": null,
            "_model_module_version": "1.2.0",
            "_view_count": null,
            "flex_flow": null,
            "width": null,
            "min_width": null,
            "border": null,
            "align_items": null,
            "bottom": null,
            "_model_module": "@jupyter-widgets/base",
            "top": null,
            "grid_column": null,
            "overflow_y": null,
            "overflow_x": null,
            "grid_auto_flow": null,
            "grid_area": null,
            "grid_template_columns": null,
            "flex": null,
            "_model_name": "LayoutModel",
            "justify_items": null,
            "grid_row": null,
            "max_height": null,
            "align_content": null,
            "visibility": null,
            "align_self": null,
            "height": null,
            "min_height": null,
            "padding": null,
            "grid_auto_rows": null,
            "grid_gap": null,
            "max_width": null,
            "order": null,
            "_view_module_version": "1.2.0",
            "grid_template_areas": null,
            "object_position": null,
            "object_fit": null,
            "grid_auto_columns": null,
            "margin": null,
            "display": null,
            "left": null
          }
        },
        "990c56b5e76c4830b1edaf361906e2b4": {
          "model_module": "@jupyter-widgets/controls",
          "model_name": "FloatProgressModel",
          "state": {
            "_view_name": "ProgressView",
            "style": "IPY_MODEL_08a65087b5ce4b43b2b8a815cf23ace9",
            "_dom_classes": [],
            "description": "Downloading: 100%",
            "_model_name": "FloatProgressModel",
            "bar_style": "success",
            "max": 570,
            "_view_module": "@jupyter-widgets/controls",
            "_model_module_version": "1.5.0",
            "value": 570,
            "_view_count": null,
            "_view_module_version": "1.5.0",
            "orientation": "horizontal",
            "min": 0,
            "description_tooltip": null,
            "_model_module": "@jupyter-widgets/controls",
            "layout": "IPY_MODEL_54afb411e5114c5496c6a88b67469164"
          }
        },
        "da3cc665d9564920a8a6d4bd5fbdde02": {
          "model_module": "@jupyter-widgets/controls",
          "model_name": "HTMLModel",
          "state": {
            "_view_name": "HTMLView",
            "style": "IPY_MODEL_3bc856517306421db45fec3e15d27242",
            "_dom_classes": [],
            "description": "",
            "_model_name": "HTMLModel",
            "placeholder": "​",
            "_view_module": "@jupyter-widgets/controls",
            "_model_module_version": "1.5.0",
            "value": " 570/570 [00:00&lt;00:00, 1.67kB/s]",
            "_view_count": null,
            "_view_module_version": "1.5.0",
            "description_tooltip": null,
            "_model_module": "@jupyter-widgets/controls",
            "layout": "IPY_MODEL_9068e53d65dc445083d832ba6389a9be"
          }
        },
        "08a65087b5ce4b43b2b8a815cf23ace9": {
          "model_module": "@jupyter-widgets/controls",
          "model_name": "ProgressStyleModel",
          "state": {
            "_view_name": "StyleView",
            "_model_name": "ProgressStyleModel",
            "description_width": "initial",
            "_view_module": "@jupyter-widgets/base",
            "_model_module_version": "1.5.0",
            "_view_count": null,
            "_view_module_version": "1.2.0",
            "bar_color": null,
            "_model_module": "@jupyter-widgets/controls"
          }
        },
        "54afb411e5114c5496c6a88b67469164": {
          "model_module": "@jupyter-widgets/base",
          "model_name": "LayoutModel",
          "state": {
            "_view_name": "LayoutView",
            "grid_template_rows": null,
            "right": null,
            "justify_content": null,
            "_view_module": "@jupyter-widgets/base",
            "overflow": null,
            "_model_module_version": "1.2.0",
            "_view_count": null,
            "flex_flow": null,
            "width": null,
            "min_width": null,
            "border": null,
            "align_items": null,
            "bottom": null,
            "_model_module": "@jupyter-widgets/base",
            "top": null,
            "grid_column": null,
            "overflow_y": null,
            "overflow_x": null,
            "grid_auto_flow": null,
            "grid_area": null,
            "grid_template_columns": null,
            "flex": null,
            "_model_name": "LayoutModel",
            "justify_items": null,
            "grid_row": null,
            "max_height": null,
            "align_content": null,
            "visibility": null,
            "align_self": null,
            "height": null,
            "min_height": null,
            "padding": null,
            "grid_auto_rows": null,
            "grid_gap": null,
            "max_width": null,
            "order": null,
            "_view_module_version": "1.2.0",
            "grid_template_areas": null,
            "object_position": null,
            "object_fit": null,
            "grid_auto_columns": null,
            "margin": null,
            "display": null,
            "left": null
          }
        },
        "3bc856517306421db45fec3e15d27242": {
          "model_module": "@jupyter-widgets/controls",
          "model_name": "DescriptionStyleModel",
          "state": {
            "_view_name": "StyleView",
            "_model_name": "DescriptionStyleModel",
            "description_width": "",
            "_view_module": "@jupyter-widgets/base",
            "_model_module_version": "1.5.0",
            "_view_count": null,
            "_view_module_version": "1.2.0",
            "_model_module": "@jupyter-widgets/controls"
          }
        },
        "9068e53d65dc445083d832ba6389a9be": {
          "model_module": "@jupyter-widgets/base",
          "model_name": "LayoutModel",
          "state": {
            "_view_name": "LayoutView",
            "grid_template_rows": null,
            "right": null,
            "justify_content": null,
            "_view_module": "@jupyter-widgets/base",
            "overflow": null,
            "_model_module_version": "1.2.0",
            "_view_count": null,
            "flex_flow": null,
            "width": null,
            "min_width": null,
            "border": null,
            "align_items": null,
            "bottom": null,
            "_model_module": "@jupyter-widgets/base",
            "top": null,
            "grid_column": null,
            "overflow_y": null,
            "overflow_x": null,
            "grid_auto_flow": null,
            "grid_area": null,
            "grid_template_columns": null,
            "flex": null,
            "_model_name": "LayoutModel",
            "justify_items": null,
            "grid_row": null,
            "max_height": null,
            "align_content": null,
            "visibility": null,
            "align_self": null,
            "height": null,
            "min_height": null,
            "padding": null,
            "grid_auto_rows": null,
            "grid_gap": null,
            "max_width": null,
            "order": null,
            "_view_module_version": "1.2.0",
            "grid_template_areas": null,
            "object_position": null,
            "object_fit": null,
            "grid_auto_columns": null,
            "margin": null,
            "display": null,
            "left": null
          }
        },
        "ab97b60285624c71837fa3f4b08feb86": {
          "model_module": "@jupyter-widgets/controls",
          "model_name": "HBoxModel",
          "state": {
            "_view_name": "HBoxView",
            "_dom_classes": [],
            "_model_name": "HBoxModel",
            "_view_module": "@jupyter-widgets/controls",
            "_model_module_version": "1.5.0",
            "_view_count": null,
            "_view_module_version": "1.5.0",
            "box_style": "",
            "layout": "IPY_MODEL_b857381c79c64729bad4ace12f6eb4a1",
            "_model_module": "@jupyter-widgets/controls",
            "children": [
              "IPY_MODEL_26b6c535ae314df5a585d91277db1d25",
              "IPY_MODEL_3beb1acfa0b2403998cd619a1fe623ea"
            ]
          }
        },
        "b857381c79c64729bad4ace12f6eb4a1": {
          "model_module": "@jupyter-widgets/base",
          "model_name": "LayoutModel",
          "state": {
            "_view_name": "LayoutView",
            "grid_template_rows": null,
            "right": null,
            "justify_content": null,
            "_view_module": "@jupyter-widgets/base",
            "overflow": null,
            "_model_module_version": "1.2.0",
            "_view_count": null,
            "flex_flow": null,
            "width": null,
            "min_width": null,
            "border": null,
            "align_items": null,
            "bottom": null,
            "_model_module": "@jupyter-widgets/base",
            "top": null,
            "grid_column": null,
            "overflow_y": null,
            "overflow_x": null,
            "grid_auto_flow": null,
            "grid_area": null,
            "grid_template_columns": null,
            "flex": null,
            "_model_name": "LayoutModel",
            "justify_items": null,
            "grid_row": null,
            "max_height": null,
            "align_content": null,
            "visibility": null,
            "align_self": null,
            "height": null,
            "min_height": null,
            "padding": null,
            "grid_auto_rows": null,
            "grid_gap": null,
            "max_width": null,
            "order": null,
            "_view_module_version": "1.2.0",
            "grid_template_areas": null,
            "object_position": null,
            "object_fit": null,
            "grid_auto_columns": null,
            "margin": null,
            "display": null,
            "left": null
          }
        },
        "26b6c535ae314df5a585d91277db1d25": {
          "model_module": "@jupyter-widgets/controls",
          "model_name": "FloatProgressModel",
          "state": {
            "_view_name": "ProgressView",
            "style": "IPY_MODEL_39776b66acc84ac6973f2bdb25bb0a35",
            "_dom_classes": [],
            "description": "Downloading: 100%",
            "_model_name": "FloatProgressModel",
            "bar_style": "success",
            "max": 440473133,
            "_view_module": "@jupyter-widgets/controls",
            "_model_module_version": "1.5.0",
            "value": 440473133,
            "_view_count": null,
            "_view_module_version": "1.5.0",
            "orientation": "horizontal",
            "min": 0,
            "description_tooltip": null,
            "_model_module": "@jupyter-widgets/controls",
            "layout": "IPY_MODEL_b49c689dbd954bab89d8fb716ac904d1"
          }
        },
        "3beb1acfa0b2403998cd619a1fe623ea": {
          "model_module": "@jupyter-widgets/controls",
          "model_name": "HTMLModel",
          "state": {
            "_view_name": "HTMLView",
            "style": "IPY_MODEL_dc4fa2640d124cdc9850f67633936597",
            "_dom_classes": [],
            "description": "",
            "_model_name": "HTMLModel",
            "placeholder": "​",
            "_view_module": "@jupyter-widgets/controls",
            "_model_module_version": "1.5.0",
            "value": " 440M/440M [00:09&lt;00:00, 46.2MB/s]",
            "_view_count": null,
            "_view_module_version": "1.5.0",
            "description_tooltip": null,
            "_model_module": "@jupyter-widgets/controls",
            "layout": "IPY_MODEL_be82f6905bae4ed8aeb2cc8516499f37"
          }
        },
        "39776b66acc84ac6973f2bdb25bb0a35": {
          "model_module": "@jupyter-widgets/controls",
          "model_name": "ProgressStyleModel",
          "state": {
            "_view_name": "StyleView",
            "_model_name": "ProgressStyleModel",
            "description_width": "initial",
            "_view_module": "@jupyter-widgets/base",
            "_model_module_version": "1.5.0",
            "_view_count": null,
            "_view_module_version": "1.2.0",
            "bar_color": null,
            "_model_module": "@jupyter-widgets/controls"
          }
        },
        "b49c689dbd954bab89d8fb716ac904d1": {
          "model_module": "@jupyter-widgets/base",
          "model_name": "LayoutModel",
          "state": {
            "_view_name": "LayoutView",
            "grid_template_rows": null,
            "right": null,
            "justify_content": null,
            "_view_module": "@jupyter-widgets/base",
            "overflow": null,
            "_model_module_version": "1.2.0",
            "_view_count": null,
            "flex_flow": null,
            "width": null,
            "min_width": null,
            "border": null,
            "align_items": null,
            "bottom": null,
            "_model_module": "@jupyter-widgets/base",
            "top": null,
            "grid_column": null,
            "overflow_y": null,
            "overflow_x": null,
            "grid_auto_flow": null,
            "grid_area": null,
            "grid_template_columns": null,
            "flex": null,
            "_model_name": "LayoutModel",
            "justify_items": null,
            "grid_row": null,
            "max_height": null,
            "align_content": null,
            "visibility": null,
            "align_self": null,
            "height": null,
            "min_height": null,
            "padding": null,
            "grid_auto_rows": null,
            "grid_gap": null,
            "max_width": null,
            "order": null,
            "_view_module_version": "1.2.0",
            "grid_template_areas": null,
            "object_position": null,
            "object_fit": null,
            "grid_auto_columns": null,
            "margin": null,
            "display": null,
            "left": null
          }
        },
        "dc4fa2640d124cdc9850f67633936597": {
          "model_module": "@jupyter-widgets/controls",
          "model_name": "DescriptionStyleModel",
          "state": {
            "_view_name": "StyleView",
            "_model_name": "DescriptionStyleModel",
            "description_width": "",
            "_view_module": "@jupyter-widgets/base",
            "_model_module_version": "1.5.0",
            "_view_count": null,
            "_view_module_version": "1.2.0",
            "_model_module": "@jupyter-widgets/controls"
          }
        },
        "be82f6905bae4ed8aeb2cc8516499f37": {
          "model_module": "@jupyter-widgets/base",
          "model_name": "LayoutModel",
          "state": {
            "_view_name": "LayoutView",
            "grid_template_rows": null,
            "right": null,
            "justify_content": null,
            "_view_module": "@jupyter-widgets/base",
            "overflow": null,
            "_model_module_version": "1.2.0",
            "_view_count": null,
            "flex_flow": null,
            "width": null,
            "min_width": null,
            "border": null,
            "align_items": null,
            "bottom": null,
            "_model_module": "@jupyter-widgets/base",
            "top": null,
            "grid_column": null,
            "overflow_y": null,
            "overflow_x": null,
            "grid_auto_flow": null,
            "grid_area": null,
            "grid_template_columns": null,
            "flex": null,
            "_model_name": "LayoutModel",
            "justify_items": null,
            "grid_row": null,
            "max_height": null,
            "align_content": null,
            "visibility": null,
            "align_self": null,
            "height": null,
            "min_height": null,
            "padding": null,
            "grid_auto_rows": null,
            "grid_gap": null,
            "max_width": null,
            "order": null,
            "_view_module_version": "1.2.0",
            "grid_template_areas": null,
            "object_position": null,
            "object_fit": null,
            "grid_auto_columns": null,
            "margin": null,
            "display": null,
            "left": null
          }
        }
      }
    }
  },
  "cells": [
    {
      "cell_type": "markdown",
      "metadata": {
        "id": "view-in-github",
        "colab_type": "text"
      },
      "source": [
        "<a href=\"https://colab.research.google.com/github/ajaysaikiran2208/Natural-Language-Processing/blob/main/Pre_Training_and_Fine_Tuning_of_BERT.ipynb\" target=\"_parent\"><img src=\"https://colab.research.google.com/assets/colab-badge.svg\" alt=\"Open In Colab\"/></a>"
      ]
    },
    {
      "cell_type": "markdown",
      "metadata": {
        "id": "1xpEYIctZ_if"
      },
      "source": [
        "#Pre-Training and Fine-Tuning BERT Models"
      ]
    },
    {
      "cell_type": "markdown",
      "metadata": {
        "id": "0F5uu7vDK1dG"
      },
      "source": [
        "#The architecture of BERT\n",
        "\n",
        "**BERT** introduces **bidirectional attention to transformer models** . Bidirectional attention requires many other changes to the original Transformer model."
      ]
    },
    {
      "cell_type": "markdown",
      "metadata": {
        "id": "jcZMtt16K1ae"
      },
      "source": [
        "#The encoder stack"
      ]
    },
    {
      "cell_type": "markdown",
      "metadata": {
        "id": "BUkCSZUwK1X-"
      },
      "source": [
        "![image.png](data:image/png;base64,iVBORw0KGgoAAAANSUhEUgAAALEAAAE0CAYAAABjI9IaAAAgAElEQVR4AexdBVgVSxteu7u7u712d3dfu7t/u7u7u7tFFFQQJA2wQbG7u/v9n/dbFo/ngrSyuPs8c87G1M68881XM6vAOIwW0HkLKDqvv1F9owVggNgAge5bwACx7rvQeAEDxAYGdN8CBoh134XGCxggNjCg+xYwQKz7LjRewACxgQHdt4ABYt13ofECBogNDOi+BQwQ674LjRcwQKxDDJw7dw5Lly7F169fdVj7kK+yAeKQb9NQz3HQoEGIESMGrly5Eupl6aEAA8R66CWTOl67dg3p0qWDoijo3bu3yZO/99QAsc76fvDgwQJggjhRokQ4c+aMzt4g5KtrgDjk2zTUcrx58yby5s2LqFGjCpCjRYuGUaNG4fv376FWph4yNkCsh17yruObN29w9epVdO/eXUDs7OyMS5cu4dOnTzp6i5CvqgHikG/TUM9x4sSJAuIPHz6Eell6KMAAsR56yayOY8eOFRC/fPnS7MnfeWmAWIf9boD4504zQPxze+jiygDxz91kgPjn9tDFlQHin7vJAPHP7aGLKwPEP3eTAeKf20MXVwaIf+4mA8Q/t4curqZPny7aCV1U9jdU8q8C8eXLl2FhYYFVq1Zh8uTJ6Nu3L9q0aaO7kCtXLgFxs2bNwmzd27dvDzoqzZw5E+vXr8fBgwfx8OHDUIF0uAYxjQFnz57FrFmzUKpUKcSPH1/8DehzkDBhQiRIkECXIVWqVMiSJYsu3oFtnThxYqkr27x+/frYsGEDrl+/HmKADrcgPnDgAGrWrCkUK2bMmChSpAi6dOmC+fPnY9OmTUIZ3N3dxYzLBqV3mBFCpg3Ynl5eXnB1dYWlpSXWrl2LadOmoWnTpsiZM6f0SezYsdG1a1ecOnUq2GAOdyB2cXFBo0aNxEkmQ4YM4iCzd+9eeHh44MmTJ7h//z7u3LmDW7du4caNG0IRDPCGDHhN25FApsPS7du3cffuXTx48ACPHj3CyZMnsXnzZiEo9IlOkiQJBg4cKP0RVDSHGxDTCWb8+PGIHDkykiZNKvwYRzn5MDYgAUsnciP8uTag8xKJB/uEwLaxsQH5+lixYiF16tQgsQnKES5ATOpK6ksfW/47OTlJQ5ESsOEM4P454PrV9qTapNLsu+3bt6Nw4cIye06YMCHQy650D2LyXuR3CeBx48bJCOco96vxjPthC9AkMpwpPT098e+//0o/UnZ5//59gImyrkFMsBYqVAiRIkXCokWLfKhvYIHKhiS//PTpUyP8gTYge0E5hSwfhT0SpA4dOuDz588BArJuQfz27VtUrVpVpiBqHDgtUZgILICZ5vz586JvrVe3HmpUr4maNWoZ4Te0Adu6QYOGIr9oQiAJSqdOnQTItEwG5NAliL99+yYSLUfs1KlT8fjxY1GPBRbAjM/Go6qNeUWMoiBZmsRInCKBEX5DGyRLnUjaPUuWrLh3754QIAp+DBprsWfPHn9xrEsQ79q1S16eU09QKbAGeIKYWgxFiYhOA1rC66Mrjt+1MsJvaAPPN074p1ReZMuSXWQZTQgna0EemcJeihQphM34FZJ1B2Iy/AULFgRNr9xEhBKuBsjA/Gs6TVMQd/xfC1x85wzX2weM8Bva4MJLBxQslec/IGY/UtjbvXu3sIv+bU2gOxAvXrxYqPDChQuFjQgMcLW4HPEXLlyQaYsK+NOnTwsl7tC/OTzeOML5pmWAwqnHNjj91NbPuE439uHE/YO48MoBHq8dwfimefM573m8Vp8zLu+ZxjE9d7m9H+df2Et+zPPYXSs43fC9ri639uPcczufvFlP5s1w8sEhnzzcHx32szzTskPj/NxzexQs6TuI2UcEcosWLUDr3q8se7oCMVmHbNmyoXjx4qAzj6kgx2tKt5yK/AvUROzYsQNt27YFzdO05kVQIiEwID5+zxpz1o/HxMVDBagut/4LJreHh7Bq3xw061gPzTs3wPRVo3HszgEQYAwn7llj/MIh+LdTfXm+/uBCuD30HVTH7lhJ2k4DWqFR29po3aMJrM9tBe+bA4z3bC/uRMd+LdC0Q13Je/KyETj/8ijcH9tgwdYpaNKuDpq0r4upy0f61Mk8n9C+/hWISXA4y9rZ2SFu3Lho166dn6u6dQXilStXChVes2aN8MIErkZdyR5QQONL+xdo058yZYrkRbNnw4YNEUGJgE7/a4kLrx3+AwrzziQQeS9PoZxInzkNbDy24+SDgz/S3bAUcF185wRSz/otakhZ9ZpXE+C63joAAvziWyccOL0JGbKkledj5w0SoJmXR/aGFLR+yxqoWKu0AD9qtKgoX7MUzjw9AvMBxDKPXt2LtVbzUahkPsmb8RdtnwrPt07Yc3wtOg9oLfltd1wp6TkoVSp/FKefqLOL03V1piDVP/vcTig/BwJnD7dHh4Wa85oDj3F4zrryOa+1fMzfR7v2D8SkxhT4evToIdt2cXsC3w7dgJib53FqSZYsGS5evPgfM/KzZ8/EtZI6Y2oaghKadawv4CKV1Brat3/3RzZYuFUdBCxnxurROPXExgdMBARBNHrO/zBoUk90H9JO6kOKfPyutXTuTufVGDixB2auHYvi5QrJ80lLhuHcC/v/lM0pf5PNYsRNEBetujXCY3iiQPG8KF25mACHgqh5nXlNIXXU7AHImE3d9ipFmmRYd3AhLr1zxnaHFZi9bpzUheyF3aVdGDGrP/qO7owlO6aBZTLM3TgBI2b2k1nE1nMHRs76H1bsnYVle2Zi2PS+GDt/kAyWARO6Y/yCwSIQs22GTO2NpbtmyCzlWxvynn8gJoEiS0FBnv26fPly3zCsn+/Y0bCRJk0atGrVSgBMyqtRYf4TxJqinD4UM2bMEPUbVXDmYfbs2aC/qwb0jBkzynnbXk2F4pgDwrwTzj47go79WyJvYdWvt3yNUkJxSaFJiRyuWaBWkyqIGz8Ohk7rg8KlC0j+ZBvOPLPDLpfVyJkvKwqXyg92fup0KVQQLx3uK4gJ7N2ua5AkeSLETxgX9VrWwMCJ3bHDcSXsr+zBYY/t8m9eb4Jw0tLhWLprJgqXzi9l5MiXFRYn12On0yphJUg1yXqUq1YChUrlR4e+zWV2GT6jnwwQDiy2U6KkCdGiS0PEjhsLpSoVxex14xErTkx5RlapQq3Scl6manF0HdQGqdImR7yEcbHNYYVQbfM2DCiIqW4jP5wnTx7UqFFD3yCmvpCNSZaCo9MUwBqIO3fuLCOWvNSrV6/ECkf+1zzQUMLRTRXOyJEjYWtri4gRIomKjdOtbw2u3WOnrzkwTyjWwm1TETlyJMSKHQMbDy8SqsNpd9a6cVLXei2q4w5Oo8dQdcCwswnIdr1V8+rs9eNx6b0ziniD3JwSU2jjVH3k0i7MWjsWBCDbIGf+rDJlz9kwAemzpEWBormx1mqBCGxaPflPEI+ZNxB7T6zD3mNrkSl7BklfslJRLNs1QyjxmWdHMGJmf7k/dt5AYQMKFMuDaNGjCtjtL+9GkuSJETlKZAyZ0gsEd+cBrYRyZ8udWdJxQCzYos5MWXJmxKnHtqjZuLI8m7JshK8Dk/ULCCVm31L4Jk9MRyESM/NDN+wEVwmQlSC/S8HNNxDT5s5ph6o3qs7M42jX5LXIP7u5uYmpmpoK6on9E+xI6Tj19hnVCQTQuZf2MqUTWGRFyBOee2GHbt7sQ9eBreUeO59xWnZtJAOkbLUScr105wx5XrpKMbk2BzG1FTudV6FEhcKoXLcsZq4Zi2gxoiFa9GgCToere1GtfnnMWjNWAGsKYFMQb7FbJtqR5XtmImHi+FJW/iK5MWP1GNGucLCxfsyfmpKKNVWqyncklY+fMB7iJYiLrfbLcP6lvQwgqzObkTGryqbYeO7ArLXqwC1ZsQguvXdB9YYVJc8xcwfKO5rXLTAgplmaVlkKeL4ZP3QDYrIR3EyPwOMUowFS+yc7EVAQMw3ZEWoztOkqICCm8HbownahnOysWk0qI1vuTNJZ7FB2JlV07fp4O7IMaC2Ubdi0PhKnfZ9/hXctVvYfuSbPSNBwClZBNEbiax3OQdGiSwN5NnBCd9zFGXQb1FauOZWXq14CC7ZMFh7X3mv3f2aQU48PY9yCwdhitxQn7h8SikjgRowYUfKYuHgYzj6zQ4NW6uIBPqNAVqFGKXm+cOtUHL6wTQCcPFVSYV84E3Egm4L44LmtMgD4DsXLF5IBo4HYL2E1MCAm9d26dav4HnNzcfNDNyCuWLGiLDGiJcc33+DAglgDv6mx41eUmFSYrMDImf0xclZ/ASz51F0ua5A9bxbp9G6D2+Am3H3YCWoSrn09gTY9m8hzUj8CvX2f5nLNqZ7sRz5v3rp5lwaiAXD1VsNRt0uNBMGRJWcG7HJehSufjqFV98Zyj/dbdmsEUrvJy4b/pJ5jfT1fO2LUnP9h7/G1Qj15j/rq/43vjkiRI0k6gnbc/EGSH2cMgpRsS9LkiXDowjZhG8jbJ0uZBPvcNshzzhDkozNlSy/pqMXQ2ImSlYrgFk6hVtMq8ozshF+694CyE2QPDx06JH7ivvlT6ALE1EzkyJEDtWrVEsppLtQRkKEJYgpsR6/sET6YHVqlbjnRFlx4dRRTV4xE2oyppMNixo6BNr2aioRO9iJGzGhC5QoWzYM0GVKhY/8W2H9qo4CDfG36LGnQpmdTJE+dTNR1BDVBrqnwSPm3HV0Bjd3IkDktWnRtJIJTt8FtESVKFCmXswJVddRSkMJxELC+PYa1B/lWAoo8MZ9T8CQIyfIQ/FSDEdxtezZF7n9yCHuSt1BOLNk5HZ5vHDF4ck8BPHnkjv2aw8Wb16Z+O3acWFI+eXzOShxU1IBwkGTOofLfFWqWBtkeGma0GUb7DyiISbTI/tEE3a1bN3NCrA/tBFdtcFEnVWwU0jQqavofmiB2vb0fjtctsHr/PKy0mC3qNVIlGis2Hl4sKifqZFfum4Nlu2cKWByvWWDN/nmYu3GiaAL2HFsrlJzqN+pYCTrGXWU5F+RZrc5sEYpFHa/Wyc43KJzZwM5rl6ixyH6QT91ku0TAt9Fmsdyn4EdgaumYB+vLujINAUmqSgAzjkbpye8637KU96CBhPWfv3kSWFcaRfh+LIuCLN+d/8yXg2y74wqpO997+d5ZWGU5R+rC96EKjv9am1A41MrW6sj/gIKYRIuGLS6QpU7f/NAFJSaIKZlyeT3Bagpe7Tz4II6A7sPa4g7OCNjIOpgG8qdeH1xx9fNxCaRSNOtSiNHu8f/yx2OSjlOodt/rgwsYVMFPzZdaCTW+Ky5/dBW+1rQ803MaRbS8+K/lRdaC19SomMbnOctivnzOeGQbTOOIqZvv4P2eNPJo+Xm9dxHDB1kd0/e7/MFV7jMNfUy0OrEcvrfptZYX/03fWyuP/ze/u6Nw2fzImjnbTw5AWp9q/wQxhXkuYapTp445hvVDiWk/b926daiAWHPFTJIyIUpWLowiZfPrJhQukx/la5REmarFULhMPt3Um21comIhRI4WCdmyZhPLHLVGGnBN/wli8sUEcd26dQ0QmzYOz8lvcW+KcuXKIlfO3MiUITMyZ8yik5AVWTKpuuNIESIje9YcOqm32r5s67x586Fly5YCUgPEgVSxmYOZI90/x6Gw9px+BTT8UOCpXbs23r17p7t3YJv6pjI17R+DEgdwmT6pgN4ChR2qCJMnTy4mWcoFensHrb6moDU/N0AcQBCbN5wertm5ZIe4VVSVKlVkkase6h3YOhogDgCISQ1oFeL0rKdAVoImWe4zR2slfUL0VH+trmTlfgVsA8T+gJgA5t4VtAhZWVnpMqxbt1a2hrK2ttZl/e3t7X+5yY0BYn9ArJmduWMmLU5G+P1tQG9CzoQkKL5RZAPEAQQxvd9q1GqINZt2Yv7SDX8sLFm1FWs27/MzLFm1LVh1W75ul5r3JgssXrklWHkFt51WbtiJLNlyIkd2/40dhp74F0DWKDEp8ODhE/EVwKM3fyY8fQecvvQAG7ZbYe9BFwk8X7PJAms378NOS3tcvPkCT94Fvn6P3wKPXgM2jmexa78DDtiexJW7b4OUV0i1z0cApctVQZbMmQxKzCko+GZnBX3+NwJP3wOX77z57YGAuv7gI6yOnESDJi192Jr6jVugV7+h6NZ7IBImSoxR42fg9pMvuHb/g/zz/Oq9dz71vXrvvdy/ZXb/xsNPuPv8O+Yv24BkydWVJBwct5989Un7u9/74WugeKnyyJolswHi8ABiAsjr9ms8fgM4nPRCwkRJET9BQtgfvwh+/JYdvn67FZav3Ylbjwni97Cyc4O1vbuc8/rGw48giHn/4NFTcs77Nx99gueNFzjsdBb2xzxRtUZdGSTrtu43QPwfI3Yo3aADUGj6Tqg7AP1ZSqxRwTtPv8HS5jgSJEwswfGkF2ydzmH0hJkCZFJgz+sv0G/gKBQrUQaFipRA/8FjcOPBR1y+8xbd+wxG4WKlUKJUeQwbPQXXHzD+c9Su30TiNm/TCZkyZ5MVMAaIQwmwvmX7N4I4WfKUiBYtOqrVqo+8+QuhRetOQqXvvwCGj5kqlHTnfgdMnblEzsnnEuj0Md6y+zCmz12OCBEiYOtuG4ybPFfirN5kgUu3XiNzluwGiH0DWmje+xtBnDhJMsSJGw+zF67BgKHj0L5zL1A4u3jzJSpWVZcTVahcHeUrVkPO3Pkwa8FqVKhcA5EiR0a5itVQvlI1ZMuRW7QP5cpXEXDvtXbGnadfUck7vUGJQxO1Znn/jSBOmCgJEiRMBBvnc6JFIKW9++wb3D3u4Z/C6kJTai4osN1++g3nrjxBrtz5ETFSJBCcFOzIO1NYTJEyNSJHjop9h44Jf0yQUxuzcYe1wRObYS3ULv8WEFOwowBnd8wTiRInFRDbOp8XNdjNx59FgLt85zVq1VXX2A0cOg6vPgN85nX7BSpVUSn0oGHjQfXVjUefcP7KU6HMBO1Oy6N48JIagbIC4jmL1+Lmo8/CS2s8+e/8N7QTZrpfvavYCB5qElxOXUO/QaMFZARe34Ej4ex+1RvAb3D3+VfheUmlo0WPjjGTZgvPu+eAI7bvOyJquOjRY2DyjIUYPmYKtu21we4DDogdOw5q1mmE8VPmy3niJElFCPS4/twn798JYJZlgDicgVjTE+875IoefYdgwNCxEnr2HSJGD7IFGsjuPocAud+gUejeexDmLFqr6o2ffsXWvbbg/W69B2HWglW49/yLsBw0lvTqPwwjx8/A7IWrsWOfPW4//Sqsipbv7/43QBzOQEwAkZ3g9E6LHI0uDDznPT7TQMZzGi6059RYaM/uPjO5/xI+6e69AGgRJHAevgIYT0vzp/4NEIdDEP8pMP2pcg0QGyD+45Q0uOA3QGyA2ACxtz5MN/tO/C1m5+BSNz2lNyixjigxBTE657DT/Ap00jEV3sISGClYavW+JTrpH0JmcOppgFhHIL756APsXD3En2Hp6u1YtmY7ZsxbgSkzF2PKrCVYsGwjHI5fEjVZcEARGmmv3n8nXnHzlqzH8rU7QOML9dkhUZYBYh2B+PaTTzh09DRatu3iY8Ro3KwNBg4bJx5odPahlY1qMAKEnmwMKnV+I7pcmpG1e4xDHS99iX/E/SyqOO2a3ms0SfNa8zcmFdWe857X7TcyQ/Ae8+M95kkLIEHKch68Ag45nEae/Op2tDTEUL1ngDiQBmq9m53JJlCXe/L8LbGoxYgRUyga/YTp1GNx0AXzlqzzATFXdWzbewRuF+7g/kvgwrXnsLZzFzAdP3sTHtef4bDjGRkY+21PyH1S+oP2pyQwruvp6zh6/CJ2H3DEKc97AsYjLhfEyMHVHQTozUfvxb+YPsmksAQm4zi5XfbxTbY8fBxHT1xC194DZQAOHjERd559M0AcSAzLp5/0LtiRr7RxOiv+EDFixIK9qycIwJHjposDDy1y9FDr1K2feKXVqd8U+QoUxtET53HzwQs0atpaXCvLVaiCEWOmIV68+ChVpiJoPqbLZf/BozF+yjxEjRpNnnGdHleBFClWSgC/3cIOTf5tg2o164lH24RpC/D47WcsWrHZ2wydDKPGz0SWrDlQpnwlXLr5UqyBGTNlResO3VGkmLp7vAHiwKLXO77eKTEpnAZiulhGihQZlavVRq48+UG2gmZkTtuTpi9UHXMWrpHpPWas2AKe+0/fY91WS3mWNGkyLF29DcVLlsPE6Qvwv8Fj5P6YibNx/eFHxI0XHzFjxoSN0zkcPHoaG7ZZCSDpyVa5am04u19B7NhxxTH+4o2XUnba9Bll9/jO3fuhz4DhsvKDi0jpu9FnwEg8ew80aNxCrg0QGyAWdoLO7otWbBHn9nadegmfeuvJZ/EBJnC27rGR6ZyrNkhlj57wEvdKPsudt4BM52QRvO68keVJpL5cyUEWpG2H7gI2+k+sWLcTbh53QSef9p17o13nXkKt48VPgPQZMsmSpWsPPoAgZt6bdlrjztMvOHv5ETp3Vz9GM3nmIlkeRV8MxjFAbIDYm52ICWv7UyKwqf/vZHlRidLlBCjbLY4IiLn8iMCxdbngA+JyFaqJr/DNR19w49FnXLr9CgUKFgWBSed58tOJEiVGunQZMWbiLKG0d599gbPbFbTt2ANlylUW9oH+yh7Xnom/ceo06WQVCZ3muSKa/HvDxupi1elzlgmIO/f8n9SFS57umvhqBEfAM7QTOtJOULCj5uH4uRtCiWPGjIXDDmfw4iOdez7hyt03uP/iG1q37ypAWbPZQsBEFiBN2vTwuvkcm3ZYy7OKVWrKlgJcT0fPN2oWCF6CfeCw8bjx4C0qVFKd3jftOChsirvnHeTJWwDp02fCXmsXJJT1e4lEG8F6pU2XAdGixRChkGwNNSGkuMyTS6Hom9yuU0+55sxBLcaVuz9WWAcVyAaIQwHEfQeMxItPkFXCXDUcUuHO08/Ci1L4IjAYuvUaCMcTXgJibZk9fYkLFy2JshWqYuTY6bLaedmaLXj6+qPEZzpSzX2HXcWvmOnuPYc4u8eLl0D2q/gMYNDw8UiSNDkuXHuGR28hGgemTZU6LXr9bxhixlK/tbFznz2s7NwRObL67Q8OAgqYzPOU531kzJQFWbPnwsTpC5En3z/g4GveuhOc3K/KipDgtg899EqUrmAs2de2PQoJp3iC+PlHgvhdiAZO51xCT70wp3g6shNoFodcReDTKBsFPPKwQ0dNxoAhY7F55yFxt7xw9ZkYSsZOmiPajPXbDoifMNPREnj+6hOQ6pKXvfNMHTAE6OW71AN/EsGOBhb6Ek+dvRSrNu6RemzaeRDUWoyeoNaJGguyGMyTumAKh6TE46bMw5LV22QTFwKceYZEG1G9aIDYhBoHB8Ta5w4iRIwMGh4SJ0keoiFh4mRIkSotsmTL9VNImTodEiVJ5lMWz03jpcuQBYkSJ0OSpCmQMXN2n7Rp0mUE82Q9mSZp8lRgXP5rZaVNnxmJk6bwSZ8hUzZJz3zSZ8wq52nSZkTqNBl88s2UJbuUxTxZbirvZ0yTIVNWScc8Q6p9kiZPKbNSlixZjM8dBGfzFG5Uff78eXTs2BGNGzdC3bp1UK9uXV2Fxo0aoVHDBrqrO9u6adOmGDZsmGwWbmwoGIzPHbDx+Gmxp0+f6ipw9nn+/Ll84+3SpUt4+fKlruqvtTf3WL58+bKvO2KSQPm1K+bnz59lT+a/3hVT46n1+M/O5QDkLvHcZJsf8tbje/hXZ79APHPmTNkExgCxCV/tX2OGtefcKX7Tpk1iEOF3OxwcHGRjvrBWz+DWxy8QOzo6CitigFinIOa3Oti5/FSwprYbMGDALwWk4ILpT6X3C8Sa7cwAsQ5BTBaCO6svW7bMB8AEcvTo0WFrayvfhPtTgAuNcg0Q6xCk/gGBIKZWZcOGDejevbvsGJo5c2b07dsXe/bskS8q+ZeHnp4bIA6HINYAyF3uTT/GyK8nUUuhPQ8v/waIwzGISY35NU4KdTVr1hR1G6l0eAGv9h4GiMMxiNm5FPC0L4pS76p1fHj6N0BsgFj3wP7rQBwxYkR4eHjIlzbD2gfFQ7o+/CKnKU9Mi114osDau/w1IKb5tW3btqJyOn78OJycnMAvVYbnQOMGFf5JkiRB+fLlRW9s8MSa9jiM/Qdkjd39+/exYMECdO7cGdOnT/9Jf6oZA8L7P1VspPbhDch/DSWmAwk7kFMqqe+kSZPCfZg8eTKmTJmCePHiIU+ePDhy5Ijoj7VpOLz8/zUg1jqMYKb+VPOQCs//ZKE4aFOmTIl69erh3bt3v/QG09pIb/9/HYj11kHBqS8711CxAeHGdyI4YNBrWgPEqvBmgFjHemQDxAaIda9TNUBsgNgAsU5mIQ7W27dvI3Xq1Khbt+5/FMAGO3HliuhVubTn8ePHugpcY/fixQvRTrBzv337pqv6a+1Nq2NQ1thpaP7rQaytdm7WrBmqVqmG8mUroEK5ivoI5SuiYoVKYtiJFyc+qlWpro96e7cv27pG9RriB01vPL+MNAYl9mfKpE5Z23ciaozISJc1FVJnTK6LkCpDcqTKkAw582dF1twZkTJ9Ul3UW2vftFnUfSeyZsn6y2VVBogDAOJTp05BUSKi86BWuPrlBNweHjLCb2gDr/euKFQ6H7Jlzi7Lrf4oJeaeDeRpyFfyXDu+fv0qTimkdpy2uU9AUI6A+E4EVdfLumkg7vi/FvB85wSXW/tDPtzeDxcGv/L277lpuoDG1eL5Vq72zDTf33x+/uVRFCyZB9myhAEQ79y5E3Xq1EGMGDGQOHFi8awiWF+/fi1rwAoXLiz7ItAEHJTjd4G4Q//m8HjjCOeblgEKTjf24eSDQzj73E7A6Wu6G5Y4fs8a7DCP1w449djm57xvWeLMsyPyjHFcbx+A0w3fy+cAYPrzL+xx4ZUD3B8d/jkvk3q73jmAc97xWC7jsr4MPGdZDCfuH5R7vtbdJL/QeNuWopwAACAASURBVH7uuX3YATGBSQkzfvz4ImRQFXLmzBnBK6nxypUrQUma0jODdhCcX758kc8ZaPd8+w9pENNUSwpM6m1KiQMLYvdHNli1bw7+N64bHK9bCADNO5sAXm05F/Vb1UCD1jUxackwHLtzQEBPwNpf2YPOA1rJs1bdG8P67BYcv2f1X3DeshTATV81GvVaVEfd5tUwf/MknLx/8D9xj9+1xp5ja9GobW2Jy3IXbpsig+3EfWuMWzBI7jOfxdun4dQTs4EVyuDV2ijMgZh6PO7IUrVqVQFykSJFxKuMoNy+fTvev38Pa2tr5M+fHzlz5kTPnj0xYsQIlCxZErNmzQLB7tcRUiDWeC43NzecPn1a1FHcQkljJwIDYrIGbg8Po27z6vK+OxxXCMi0DiLFO3bXChffOsHtwSE0bK3uD0HwnbhnLSAmBb703hlLdk6TPOgqutN5FdwfHfoPME8/scXQqb2RNVcmLN4xDf+UzI9kKZNgk+0S4d+1cvnPwWHntUtAnil7Bsk7TYaUEpfUebvDCrTo0hA9hrXH/lObpJ6kzqTuDJxdOCiP37XChVfqDEI5gXGYXqPkKoW3kXs8J1VnuPDaQag828i0XubnYQ7E5IktLCyEsuXKlUsarnbt2sIj7969W1ZakCeeM2eOPCtRogQ2btyIzZs34+NHbuPs9xFYEBOspLBaoPqGbppcCUG+feTIkWD548ePBwHNukdQIiEwID712Bbbjq5A7LjqXr+kpuee28HJm4qdfHAQdl678b/x3TB0Wh907Kd+86JZx3pCPQmEhdumos/oTpiwaAgSJ0uEuPHjYLfrmv+AUmUjbFGoVH4kSBQfnm+dMHb+IKRKmwL73Tfi9BMboe6mICGYeM1ZIl3mNNLmuQpkg8XJ9cK6sOwtdktlIJ56Yov1BxcKqHsO7yADyeO1I3a5rMaACd0xaFIPbD6yFCstZmPsvIFYtnsGBk/uKfd5j4Nr4MQe2H9qowyQ3iM7Ycy8gXC8vs9vNuumJcIkiLmlEg9XV1ekSaM2XMuWLWV/BFOBr379+tKo3A0xIEdgQEwAc9n6uXPncOLECTg7O8PKykrqsGrVKixatAjVq6vUk5SP24qyjhGUCOg8sFWAeGKCimzC5GXD8U+JfPIuGbKmhe3FneB0TX6UcSrULI0UaZJhwPjuKFOlmMQjiAn2KctGIHHShGjcrg66D2mHaNGjIX7CeP8F8Q1Lye/Kp2OoUKOU5FG8fCF0HtAai7ZNxRGvXTh4bgsOntsqgqMGZM4C1me2YM76CVi2eyYyZksvaUtVLCKDi2zEWqv5IIVfvnsmUqROin871Rc2JX3mNNh7fB0crlmgQLE8kq589ZKo3bQKIigKRs7q73OfdenQr7nEyZ43C7oMbI2SFYvI9biFQyR/rU7m/2EaxATm3r17ES1aNHmZFi1a4MMHfrVNPQgsroWjwOcfFWaKwICYlHbFihWyZIflR4kSRQTOOHHiiPN4okSJwHPTVR45cuRAhAgR0XVQmwCBmACxOrMZLbs2EmpGoPIDMRMWDcXZZ3Zwe3QIszdMkDKatKuD2zgNUieW2bxLA5nus+fJgrjxYuOwx3YJ8RLERZx4sf8DYk7pZEdW7J0lAGM50WNEw4ZDi2TQEGSp0qUQinnm6RGf6VsDMQcaWZuV++YgboK4UofqDSti3qaJ2Gq3TAZIweJ5ES9+HNh67hAqzHpWrlMWXh9c0MF7BiEwt9ovQ62mVbDbZQ2adqwneQ2d3gf2l3cjcbKEcs3BNGbuADknC0Xh0Ry82nWYAzGn7B07dmg4lX9SPjYI2QpTsHIhZ4UKFeTZ8uXLf0rj20VgQExT5ty5cyVvUtjBgwdj1KhRwq/Pnz8f27ZtQ69eveQ5BVDy8Zw5IkWIHGB2ggLduAWDhSKR523avq7kV7ZqcThdt5CO44Dgu7fv2xy34I6BE3rIdeseTbDLeTUSJkmA1OlS4MjFXTh4YRsSJU34HxC7eqvGWvdoKlSblLd0ZZWil6laXKgc2ZQOfZsLn0peWAOID4iXDhdh0fONI6atHCXEg/UqXCo/djiuFCoeM1ZMZMyaDoc9t2OH8yqpR5LkieD+2AasL+O37d0MXu9dwHd3f3hYwMz7U5aPhI3HdqlfzNgxZIYaNr2PpKnesILw2FqdzP/DFIipOqMGghvaUUthenDdF6dvApEaitWrV2PChAmymyMbgRSZVDukBDuCeN68edKIBCdnAN6jAMe6vXr1Crt27UL79u1x6NAhqRNZDxo7AsITExzUCFSuWxaFSxdA1XrlULhkfikvarSo2Gy7FJc/HkPb3v/KvfZ9/sUtnMLgSeqHWzr1b4ldApQ4SJ1eBfFhzx1IlCyh8MQHTm/24YndHx/G0l0zJJ98hXMJL7v96HIR6Nh2nL45WEj9RZi7vNuHB2U9D57diqnLR3prPKjms0e/serHbZh+46FFsLm4A7HixET6zGllRtjhtFKuU6dPCfLK1JgwbrfBbWRwshy+Pyky709cMgyHL2zzATHZKA3ENRpV1A+IDx8+DLIMzZs3F0pnCmKC6ODBg/j+/TtsbGxAHwVSR1JLntNxhddv3rwxTfbTeWApsQZiakMozJkbQijI0fhCYY8zSEC1E+ygs8+OYNqKkRg+oy+OXNwp0v2h89tk+mWn1mxcGZzWyYfyumq98gK+dn1UUJOHpvDGKZx88HbHlaIOix4zusQfv3CID4ip+uK0z3w42AlAUvUVFrMRJar6sZj8RXNj5Mz+GDS5Jw5d2CaaBlI8Cnac5icuGgr7y3tw/L61CH/UqLTp0QRRokQW1R8F1HLVSsq1pfsGbDisfhCyTc9muPr5GNr0airlU+C79M4ZzjcsZQbQtDLTV4+R2SdRkgSIHjOa6LxHe7MTtZtVEepNdsacCvM6TFHinxAXChchDWIKf7THB0ZPrAlz1DSQByYVXrBlsqiXFm6dgvxFcktnk2dt0KqmUDWqseInjIs6zauhRIXCSJk2OfqM7CSUcc3+ecJCFCqRDxT2YsWJJfGoNSAbwU4m1SMAqCFgvqT01RpUQPPODdB/bBcULVNQyiQ/vXjnNJn+mY56YhvPHajZuBJy5c+GJu3r4silncL/Ur139MoetOnZVPhsGk8OnN6EEhUKoVSlIijC2aV+eWEL9rltQM782aSMHPmyCE9MHnf9wQXIlF0VFCvULIWO/ZoLnx45SmR0GtAK5aqXlDRpM6bCVvvlogExQPzpk+z82Lp1a5n+zSmr6bUpO+EXJTaNb27s8HzrCOdblv8JBDH1nuwUSvUUlKiCouBFw8Lq/XOx5chS0cWuOTBPjBjUUlAAY1zG2XtinRgcqH6jsEaKTBXV1qPLwWmcZVAPa9rh1IJQHbfFbhk2HF4k7AVZDBpMKIhR9WVxYv0PS+AtFfxHr+4RkLJeDA5X9/poL1hnah5IoVkm8z9yaReW750lVN7xmoVQWwppVL3xvVbvnwers1uElaBQq91fZ71AQE199eYjS6Rt+M5Mw2dWZ7aos4MvbUrLY5gxO4cC8f0py5CmxL6DOAK6DW0jmgTymL6FM8/sQAGJUjsDdamayVi7x38aMDhVkmqp1y5i9Lj4zllAzDQ0VXN65nMKh5feu+DCy6OSn2nZjEtgm+bPcwKA5Ut65mtSZy1/CmJ8zvqwPNM4NGIwX8Zl0PJifBo8yBKRh9bykDJZP7mvvpeatwv4Xjxn4DnL067ZBlIfk/pp9bj+9SQKl82PrJmz/XkHoJ8QFwoXoQ1izRUzfuI4QhnyFM4OPQXqaouUKYDchbLpqt4FiudGhMgKsmXNZrhimlLWwLIT9KM4e/asfLzln4KFkCtHbuTOmUcXIU+uvMiTWzW2RI0cDQXyFdRFvbX2zZUzD4oUKSqaIrotUFYx7Uvt/K/zJw4siNlQbDxqMbgVlp4C1YZ83xQpUogXIXXxeqq/VldqiTTA+vZvgNgXFZtvDUUg6y1QTUjBVNufmHp4vb2DVl/f+kS7Z4A4gCDWGkxP/+xcYwegcLgDUFDYCT0B17SuBohVLUK4W+0cVBBr05qe/g12wgCxjzBB4FLIoG+FnoK2plET7KiK1FP9tbrym3ymM4z5ucET+8MTk6ekA1D16tVQqEhp5M5XGrnz6yPkKVAaeQqUgaJEQ+ToiVGgcHnd1F3aOF9pFCteGh07dpAdfkhMzAHMawPE/oCY0r1q7IiEZHEUlMijoER2fYWqhRVUKqigeDZ91btEbgVRuTAhW07D2GE6egPLE//wnYiPqZ0V4KoCnPQnnPB+fk4BtHBWAdwUQHvGf15rz/l/xjudFse3cpgP4/Kfz7W47ibXp7zj8J723DSulodWNq+1NNo9/pun960+v7rHsk+bvGNg87uooHohBRmzFTbMziEC4gjxMa6dN3iOKoA/4budgtPLFZxfreDqJgV3tivgPZ90jgo+2yi4vEF9fm6VgsvrzeKYl2GvwGu9Gv/eDgWw987PQcFnW++0Tgpe7ldwdaOC9wcVwMGkTMazUXB+lQKPtWo+rN+F1QqYn/tyNR3r5LZMwXMLs/Tm9fHv2lHBra0KLqxRy3pjFcj83BVULqAgU3YDxD/xUUGmxBqISS0Jnl8FBwVfbBUMaqYgZ3pF3A6TxldwbLE3tWTa4woOTlcQIyp9gRX8k03BwgEKvh5RABcFcPQGH/+14KRgYDM1fpm83iB1V3B5o4IpXRR8Z75nFQxprpZpOUUBXE3q6g3wsZ0UZE6l5pMno4LxHRVYTldQo5iCSBEVxIquoFkFBW4rFMDZrB4ErvbuPNfqxsGi3ec/n51UsGOcghzp1LI2jFDfW56ZxvXr3M0A8U/g1ajxbwExO4Wd66xgy2gFieOpoPpfU2+AOin4cEjBoH8VlMqjPptMVuW8ep8UlBSTgdTr02EFX21VUFxcp8YvllPBx8MKHlgoKJdfAfnHZ/sVvD+i4MhsBSsGKri93bsepiAh2M4raFFJzWfgv96sxGkFrovUe0niK7i/05vdYXxnlbq/sFQAJ29qyvsuCl7tV5/JLMNnLIvPnBS8tlbw/rCCHvXVfNcNM0Dsp/9baHuxycqOwFBi7458Y63Abo5Kkbn6Il0yBXcJrJMK3JaqQGtcTu3gce1VMG0boyBnOgW50is4OkdBw7IK0iZTMLqtAngoOL1CjV+hgIJ7OxW0raZeJ0ugoE11BQemKSiTT0GBLAr2TTajxKwXKeRxldKyTkNbqqCGl4KTS1VKzLzIUuCYCuC1Q9VBUrGggpWDFXxzVPDNScGBqWr5HES1Syi4tU0F9lcHBbN7Kvgnq4KONRSUzqvWcf1wA8S6A/FbawVWU1VekwAmaGRKPaNgYV8FZ1cqaOQN4rHkt08reGahIH8mNS4BP7eXet61jgJ4/gAxgfHukIJ1Q9Xn1Ysq+O6k4LuzglZV1HtrhnoD0ZQSm4G4SA4Fw1srGN5OQfNKCiJEUJAykTeIz6kzScxoCvZPUbB3ooLYMVSKzRkhWhQV1FtGqeXJQDyjYM9E9XpsWwUfj6oDQN7dALGfGA7Ukv3fxk44KHhrpcBikoLn+xSwQ9mRpFq3dijYOELBUwsFDcp4d7g3iDllF82h3qOwtaifet6rwc8gLplbnbKtp6nPaxT1ZlVcFHSspd6T6ZtaB2oFtEB+24QSkw/eOk7B1okKRrRWEDGCghQJVUGMGgvWj3tJ1CmpoHoxBeTtVw5S8HC3gtRJFczsrmDZALW8YaTqJxW0r65eW3ImcP/BThiU2G8Mh2kQ756ggtljtYJ4sdTQr5ECXpNvJjgIbo0SE/ABBrGjSiGZnpRYBEJnBR1qqnmSNbmwQQUdgcdwfYsKNApuTDe4ubdqz0OB6+If7MT1zWr9yuZT420aqeDBAQWvD6g8OgVGt7UKOEMUyqbG6dNQAewU1PV+JwquVPF1rq0+NwQ7HYL42xEFVtMUvDqgUiRNmKr8j4KPVLe5KKjvTYknd1J5XoK4YBa108laaJS4X2MF5Fs91qjPqJ0gkCy8p+5aJbxB7KoCiwDl9H9ihYLx7X8Ez3UqD9yyspqPCHbU9borcFqggjh5QlXlRgGwQWk13ozuCnBZpeJkW5hPjrQqC7J1tBqnN2cLNwUdvCkxBzDz0GYGUmzOAoZ2whcwhznB7qiCb/YK7OeoAhnB9OmYKnSR55zRTcGX4woc5imgiouAI2X03KHgyxEFbaqq9yhQ1S2lntcqruClq4IdY9XrNEkV3N2pwH2lep03o4Kd4xXc3Kag4j/qvZFtvEFDYwaNDvx3UHBqnYIi2dU4ZCdOr1Zwe6+CaV3Ve6wPqeaTowqsZiqIE0NB3JgK9k1TQP734BwFZA0Yj/z3iFbqeeVCCp7ZKnBcpCBGNAW8dlqkIHUSBZEjKWhQTtVWiIbDlE/369xQsV35cyo26oltVH0tp9K+jVSBjWo1AvjxXpU692+ioEttNTDe4n4qn0uDBu9TBTenp3reu6GCS+sVzO/9I82hGSpIF/RR79nOUnBp3Y/n1GiQsvuAxltPPKHDjzgsZ2JHlS1hHbT6dKurwH2ZynpQqOtQQ0Gnmgqmd1Xw2UXBjS0qxWc8qvOYjuc0pJAv3jNBZWsG/6tgUicV9J/svHXZfoHW/L4B4j8IYq0zvKdpMS9TK0D9KU3N1CHzmucUvEgl+U+VFtPSwMB7fM48eE7BjOk4HWvxKaQxPuMwvWYk0fLkfZaj1Yf/vKY5WIvDf14zLctg3lp5mt5XK5PPGZf5sC5aPbTnzMs0Da9ZB74H0/H9Tevi37kB4jAAYv86yXj+a1AbIDZAHCiqFxYHlAFiA8QGiFUtwF+/PMnHFTOwZuewSNn0VieDEhuU2KDEBiUWFd1vo8Q0flCCp6TvF8WkBsFUwvf2lPMzvl/5mN9n2dQqMPCcZVDzQM0Cr83j/65rgxLrjBIfU40j4nNMcJoD5ZgCmoLp8C4gc1L9icVzzDxuYK+PKXi0R/WKo6qN/hvz+yjYNd5b9RbY/EIqvgFiHYHYScFbWwUFs6pui6KzNaW4bgoublQteU/3eut43RTM6eXtc0FHfU0fTF0z9bIaRWc+mq6WDvKk9nzOgeJN/V9Zq8aK43Ta91JXj8SPraB+aW/dMeNRd810DJwReI9lshzeY7naOeOGBAU3QKwjELsp2DVONd0miKMuafJZkeGiwHGBAjrB07mepmiPrQpWD1EQJbKCKoUUWM70ptwnFXiuVUDHH/odE7CvLBXQskdH+WubFVhPV0DLHh3t+dxzo4Km5RVEjaxgQkcFp9er5nCal4/O9QbqSZU6kzJzpcYTDiR3BZ8OqXGZn9cGBY7z1bJokZT6BxfIBoh1AmJHBe9tFEzvpiBLKhXIXIIk1NNBAU21dOChn0KiuApGtlZ9lOnzwHsE94xeKhW0mKI6Dw1toaBQdgX7pih4fFBddsS49EHu5O2mObyVgo/HVF+M6FFVP2Kalg/MV8tgfHqwkQLf3qegbH4FTSuoTvDFcym4vEfBewcFdExi3HTJFdCMTh8L1u2FjYn1LqjshQFinYDYRcHJJapPwuaRKiByZ1B5VFIzrpKgczyBkieD92LQM+rKCd4jqLkC++4eBRlTqA7oV/eoTjd0xP/uomBxfzV938YqX00KzgHzwVoFabY0CqJG8XaEv67y5sybvs8EcW/v5UW3t6oUmevwGpRSqTGpNZ2aSuZRn7GOTOtBHwqNpTFA7IvbmtmtMOfFFtBOI0/prC7yvLJR5VO5pIcgEId28rLHfoCYCy5lKj/9A8QDuG7vgoLDM1VPsQwpFLSrraBFZZUycp0bnYiY59zeKlDpUUY3Sq7h40DJmlplTU4sUfPSHO25HIkCZtqkClIkUnB3h+rIlCmlgjgxFXy0UdkH5t2sooJ31gqyp1UQJZK6wtkAsRlQf3WpWxC7qKCkGyXdLzvXU5A1jQo4rlmT1csnFNzept4jiMUr7Yy6ooLgERB7KaDvLq+Fep73Fv7oenlMwbRu6jP6BNMTjiDmOj4BsbNKlUmduUwfFxWYgzhVYnXJkimIuUzpw+EfIOYyKzrME8Tkr+n3bID4V6g1e6ZLEHvrYrnaYvd4BafWKji2QoHzAgVcbUxQyUJPLwV3vEGcK4NKDd85/gAxfXmfHVVXisSLrYBaBe4lQep8Z4e6qJPr+QjwRf0VPNilgpjTvmgonBRkSK6yE8cWKXh/XBXoGL9KYZU3b+m9CoR7Z7y0VNPXLf6DnWDc5pXV/LhFAUFMV03RhAR0VvItnsETh2GemJuY2Cugry2nf/4/4nL4UwrWD1NXRRMYCeMo2DZFARecli+ggAIYfYSf7FepJsGSP7PqqE7ed2EfFaxcGTKug4LlA9UBUKeEN5UuoGBAM/Wc+12QBaF6rGcD9V7Hmqo/MoU+ls/B5LZawU0rBVzT929FBe1rqELjpZ0K3juqLAvjpk+hCqBcVMprsjCiltNUf76B1L97BohDGMRKfEzrogDXTPSlmt40sP/0sz2uqr24pJ9r0biHBK1k5EuPzlOpIUF2bqUKbu5F4TRf3aFHVmicVtVpVJ3RAV/b2urMSgU2s1Qnd9HjOqrLjrinBFVhjM9zqsO4O4+kc1DgslDBGarlXNRV2IzDlSeP96iCIzd14VIrLtOXunKpkovqOM+49nMV2MxUZxLmJbMB24U+yIFtHy2+l7GNVYiu7IgUKS5aVlJwYKHakezM4AQu5Sfr4LpQBdDhGQoOTFHgOE/BsSWqrpd6WYf5ajl2BN9CFdyMZ5qeYOc98rJanozLPDlAeI+WQBozCDA+Y2CeTEfw8ZrAZh6sgxaHwD8wWcGRWT/ucSBo5TEN2RDzvDkAgtM+knaegvwZFWTLWcjYi03b/Yf/QV2yHzt2LJkmOVUawa82iBAqbVOwYAEDxMEBMffEvXTpEvbt24c9e/Zg9+5QDHv24NChwxg+YgQiR1a/zdyzZ0/YHjkS5HL37rWA5f79qF69hgBsxMiRsLK2DnJ+pu+/Z89eWFsfRM+evSTvVq1b44CVFfbs3Rsi+bMstjm/Dc49iE370fQ83OxPHCtWLITGZ3HZWATy7/gE2JMnT6Schg0b+lC0SpUqyReQ+Ez7JFZg/p8/f45jx44hfXr1W8vVq1fH06dPwc+DBSYf3+JyVqOXX/ny5aW+WbJkkQHP/H2LH9R7gfkEWJ06dcx0Vzr68EycOHHQqlUr6SDTUWp+Hlh2wjx9aF1zoLCz1q9fDw5IjWXhh8eXLl36y02m/aoT8yTI2rRp45Mf850/f7589sCvdAG9z4E9adKkn/LmzMH7LDug+QQ3HinxrVu3kCpVKtSrV0+fIP7y5QsyZswoL8DvO/xq6gmrIGZHst5OTk7YsWMHsmfPjnTp0sm5lZWVACKwwOCnGlxdXVGmTBkkTpxYwJY6dWp06tRJyvpVO/kHLH7U5uLFi2jWrBlSpkwpefN7eVWqVJEvsLJs//IIqecsi199ZT06dOigTxB///4dpUuXRrly5WQ6YwP71UBhGcSsM+v+8uVLFCtWDDlz5gQ/oBhUQBD0BNrly5cxZMgQAZqlpaV8vsHDwyNY1JJ5e3l5wdPTU2YPUvg5c+bg/PnzOHPmzC8JiV99E9T7pMJHjhyRj06OGDFCnyBmrUkRChQoAG7Dypfyq0HCOohZb/KrRYoUQY4cOYI9NRNsr169wsSJEwXELi4uwkoElqr/qj33798vea9atQrkwYND4f0q51f3Ofvu2rULSZMmFVbJHMW6WCjKSvfu3Rtp06aFo6OjfGnHr5f+20DMdqCgNW7cOAGag4OD8N5+tU9g71NY27t3r+S9fPly8LNjgc0juPFZh2XLliFBggTYsmWLOYahGxCvWbMGkSJFwtatW38ptBggDn8gpuamT58+iBYtmrA35ijWDYg5mjkSSZHJTvg1pekFxIULF0bu3Lnx4cMH4YtJTYMa2KkzZswQakkB6N27d0HOy7wOHz9+hJ2d3R+jxJQXyJdThiAL5tuhGxCzMWvWrImsWbOKIOOXMKQXELNTqFGgCmvs2LEYM2ZMkMO0adNQq1YtAVq/fv2EPw5OfqZpJ0+ejC5dukjenNJ/NzvBr45Se0O15JQpU3zDsH7YCVNqQwncr0+p6gXENWrUQJQoqtVO0xmH5f8YMWJg3bp1IpQGl8cNaHoKpwQxBzn16W5ubvoHMaeVZMmSoX79+n5+RlUPIGbnsEOcnZ1DJFy4cAEDBw4UakkpPiTzNq1jcNV2AQWvFk/bE4TWSOqn3759q38Q8w2oD6WAt23bNl+nNj2AmJ3EDrp9+3aIBHauZlmjCZptEFJ5m+bjlxyigS6k/8m6DBgwABEjRoS1tbWvAOZN3fDE2htQx0rzY+XKlUW4IxhMG08vIDatc3DPQ1PFFty6BTU92UVaN5MkSSIzL622fh26AzFfhJYj8o9Tp079DzU2QByyKraggjA46Si008+kUaNGiBo1Ko4fP+4XfuW+LkH85s0b0JuJEqvGVmgWKgPE+gYxzfIU5kaOHCmEipoX/w5dgpgvRV4tc+bM4hRy4MABH1OrKYjpHKPpYemjEF4D20PTE3MK9s+1MThUMjTTEsD0kJs9e7YAmK4G9Jvx79AtiPliBGmiRImQJk0aYfwpCJA/nDVrljRC586dRfc6bNgwhOcwYcIE0I+YaigOaD2CmCwE5R2t76hHJ0EKyKFrEPMFqQgnkKl6I2tBBxWqnDRH7rCsew3pulFrs2nTJt2BmIOOgtz48ePFtFyqVCnR3gQEwIyjexDzJei5lS1bNhEC2BA0S7NhTpw4IaseqHYKz4HLqwYPHiyzj729vW5ATOpLv4iTJ0/6OPZTmCNPHJgjXICYL0weuUGDBtKRHMmkSGwMNhL/OdIJ7vAYKOhqemJ6+YVldoJ8L/uAnmk0XtGUTFcCzkr0xKN7QWCPcANivjiFeFI2+QAAIABJREFUuMWLFyNTpkxClWna5SqKc+fOyfREnlkDM6nA71beh5ZQFBb1xNQWEbCaUYcCG9uf993d3bFw4ULkyZMHkSNHFtbv4MGDgcWuT/xwBWLtraiF4KjmkiaOcC4D4rIWOrDQ8kP2gysUSBFIqc09t/R2TQle007Qi40WvD/9DgQsicTp06dBH2euJp85c6YYLuLFiyf9Qk8++mN8+/ZN67og/YdLEGstQUrA1QhcYKqtQUuRIoVMX1wlwiVPtMlXrVpV16F27dqy1IkDtmzZsuAM9Kffiau4ixcvjrx588rMSOGb9SPr0LdvX+zevRuvX7/WuipY/+EaxFrLkFKRB+MeB3Qz7NatG+rWrYt//vlHlrqTUus5cMWLBhIuFA0L70KWrmTJkmjSpImAltZVCp2cIUL6+CtAHNKNFhbzI6tESsfB+rcdBojDSY8vWbJEQEzB9W87DBCHkx6nVoaUmKrGv+0wQBxOetwAcTjpyL/5NQwQm/Q+JUju5cUl8twjjA4Z5Le460twDu58uHnzZtnoQ8uHDh/akhNKrStWrPBzHZWWJjj/XGqzcuVK8bEIDSk5OHULbloDxCYtSMW0tkEd9wsjiKnbo+qGIAvqQYcc5kGrFQ96KLVs2dLHTk6AkacbNWpUUIvwNx0HqLY4k74U4ekwQGzWm9z3ioAimHnY2NjINfWPtHLx4N4Ghw4dAs2F3FtMOz5//iz7FNByxPvU0XJPL5p/abXhlku05FAhT6+rtWvXiimSexvQC82U4tOaRgubra0t+PEZHlSQHz16VJx76CPAQUfPf3OrDy1FrBs92rSDdeHWUXSm92vlrBZXb/8GiM16TNu2qHnz5vKEjtYENffCos8B3R25zwEtRdxrlxv90TrGg44oJUqUEM98bsNJloE+rjQ1JkyYUEDKBo8ePbpQxY4dO8ogadeunSwI7NGjh+RD8NHq07RpU7FC8TlNmXTmoaWN9WG5rCPPtY3mCGayDPQl5rPYsWPLQGGm79+/l1mF9wwQSzOHix9ftRMaiLkEiLsu0juMK0779+8vFI9WLwKHFJXUkuuguIyeVJirLbjJCQHH/QI0ys1l19yGiMu+CURadLijD4HFY/v27ZIn97/9+vUrGjduLCAnBebUz/IGDRokcRcsWCDX3A2I+RGUGTJkkGccYIzLwcA68JwO46TCzIusUUiCmDML+WvtPaQSf+DHoMRmja6BmMD7999/BZSc9knlCDBuSUoAEqBkGcg7x48fH3QJ5AoKAoee+WQDeBBAZEW4AQcHBYFG0JE607uJBzefZjou0abnE02p3I+WB9kRejvRjMmBoi1fIZjpyENQkk3gilh6shHcNHMyME+ujOazkAIxWR6WzXVgLVq0ENaIu+RwZ0rNBVQq/ht/DBCbNbYGYnaQ+UEQcdt72uqpWCclIoC4kzspLI/p06cjZsyYwnuSN+ZhCmJSLg4QgpjsBg9TENNdj8vyGXgQxBTIODAIRG21M4VO5k8Qc2ARwDwIbDpXU3AkiIsWLSp+qqx7cCgxWZzhw4cLZadTEYHDzUrozMKZhDMPWSzOItxB0lRWkIqF4g+Fbr5rQJf0hGJVfnvWvrIT2gZymmBnWitSVX47gw2mgZggIn9KEG3YsEH+yWqQkhJwPEh5SYlJvekqSU0FeWTmQSGRzjnMkysU6BhNbyzyzTxI+fisa9euck1fVF5T9UcenQOIvqk8aHblrMD0BB3jkYJrhzbgyIYE9OAMRApLp6FevXoJe8MB4dvx4sUL2bmTLBj5eDp+h+bBupEQcBbgGjuyXpzp/qbjPyAmC6AJS+RvOcLNXeYIUHqAEczcWp9UkNoAshrsuP/973+imiNvTId0ahPYwAQUAUgAkN/mNXf0IYtBQYzXdJGkkEitQ758+UAemdStWrVqosUgD073ScblPW1ZDgHPhaPcNZ3PyOJwcz3y8gQ1BTmueiD/zudz586V+gakszkQWRYHd0APzjZkZwh81ik0Ds4AFHxJLKjpIcvF98uVK5cMNvbJ33D8B8TURBC4VHdxiuemxuR1zQ+yDpwy6T1FasiDIKYwRZ0vp1qNCpE60NDBvYVp9OBBisy8OWgIaj5jmaTkmjDIzqfBhdoGUm8e/Ge9GJcO1QxMS0rJFQM8uHiUcfjP8jZu3Ch14XOtHlQbsr7+HQQu2QMORh6ciQJzcN8EDmzNqBOYtH7FJbtEAkEWi4SGmhm6PHJw8pzlUY1IbRKJREiW7Ved/uT9/4D4T1YmrJVNnpYrQkhROUgoMFLwpJaGcgP5c/8OskZUNVIQDImDA5GyAgVrCrhkX3isXr1aQMwZgAeNSqw7NUKc9ciyhdfDAPEvepbGGU7V1EtTPqAgSQGOS5+4coI6bhpc/DvI75NH1zQx/sX36zn5fbIK3GfDnKfXXDHN60OtEik05Qm/+Hi/ytPLfQPEfvQUBSaqzSh8kmUx1wMTUKTMpqZzP7ISik05Y9GiRX5F8fc+2RhqRChbaKpL00S/UrGRxWA6sl3h8TBA7EevcoUEqR6lfr8O8ppUQ5Jn9+8gFW/fvn2geWotX8oX5HGph/ft4FpCUlyNnTCPw/VuFE7DIzU2QGze297X1E3TfK4JdH5EE16Z2hj/9kug6Z1r+8w1PX7la35fU0GOHj0aFhYWop+mjpqBO+drnySgsE1+XXtGDQY/4UU3AW6TqgnI5vnr+doAsR+9R8GI6kP/Op3aHK7e9YsCatlTIKMmgUYigimwgbp4Ulqm44ptUmUtUNCjrpzPuaqbX/7UnnF7L8anYYl5aMYlrV7h4d8AsR+9SPUed2X0TxijxZDaCv/AQWpJvTd5aAqJgQ0VK1YUkJK/ZV6kzFogpaXgRhBTPUpKrT0jVeYsQF37X0WJaWigzwSdehgolLDxyf9xWqLx4nccNPHS8kUTMo0cPLgBBx16qCsNzYOUuEKFCv56u2lqOALpVwfbr23btr+K8stn1DoQhGwT3w7/eGKa3tlufw1PzI6hMYEjm5Yg8lXkEWmpo86RkvDvOEgNtU1PNFdPGg/oi2yuYgrp+rANKIhRP+zfQfUWBzd9Pnw7+JzWNA7A4By0kFLLQEON+fEr7QSBz3Ts0/B4+MlO0O+ACnXyU9qUSiDT4UcDFBuOnlykApzGKDmbq3/o1E4DAZ1jTFfiMh6/+EP3SpZlepCq8dm8efNEQ8DBREpM0zHzoYMRPd0odLFM7s/LKZQmaBomTK1qdNxnGcyPdWV830BgWr52zrxo/fLPqME2oYmbg4ug5wDjgOd2WRx01OuyHYM78NgPQdUTU6gMj1SYfeUniPkhcAohDOSr6OxuvvU81+ERYLTXc3dDfiGTAoTmK0BgU5jhPmGMQyd36l8JbPozcBAQ4BRMuA0rD+oy+YzUg6qruHHjymxAMzenVDoOsUwCnWow+m3wmjwhLVQ8p38GD5qYKfBQn8v8+Iy+DByMATn4HrS20Xzt30E9MgFM/pimXpY3dOhQeXfysxw8ATFz+1cO+4VtwDYiZdecfcwtdqw7ByDbne/8V1rs2FiUbOl5xo6k9xcpk+nBfXEJDOog6TNBQYjXlNjZaLR2UZjhwSmVnUqqRa8y5k3KQEBp4CLAuckcpWiCls/p9snnmj+Ftnk2KSwP8st8TipNvwuekw3gQf8CXlPHSsGL57wXmIMDlWXw/QJy8L0543C2IgWnqot+DSG5qQkpOgU1ApSLCzhAtHbgOXlvusKyjXn91/pOEMQaO8EOIEiog9QOTtmaiyRNqgQdlyoRKNw0mYIX7fb0ATbVoZLXpGdZ/vz5BegUoFgOwcqOp98xHeLpF0vHI43SaqxImTJlpAwNxKQyLJOsBevHc+pMeVCnSl6QDkCU0PmM6rDAHJqTPYVbvmNgDs4WHOCa01Ng0gYkLmdICuCcyTQPNgKbLAdnH82XOyB56TmOn+wE3fgILuoc6SrJQ5uS6KVGvSgpAoFBYJmCmAs3OfWTFSClMKVizIMeVmxoUghSYsajCyZ5PnYIA0FMAJFFYRnatOkXiNlhGojp1smD+ZMXprsitQN0vwzKQScbsivkeckK/eqbasyfbcNZixqBgFjzglInLY3mT8yZSgtaW2lxwvu/nyCmsEV+klO7qdWK0yOnMk6VBDcBRvaAHUd1HK8p0PBgp/Na8xkg+DmtU8ig1oPCGtV5jEO+mYdGzRmXA4G8H59rGhHuAs9rTThjXXjNAUXA8FwDMR14uDSJ/DzzZz3I6gTl4ICioEmVH/l4OgKxXTgIyX+yLehySraJvGjr1q1lF8iglBXUNOFVcPOvPXwFMfXA5B2pl6QDDD22OJ0ycKrXli2RylGQ42bW7Dg6ovOaICW7QT9jshr8ngbTUtAjT0yWgtdU13FFCLUKBAkPpilSpIgMDK6i4DImPueeEdRosCyWQW0Alf5amQQ/9aB8VqhQIeGDCVqC2jTweVCBzPpxYPE9yJbwnSms0suNKja+N+tKQVB7H/86IKSe850447Bt/7bDVxDTvk/+lJSSgcAi78pAjYDG45KFIAUmdaXKi894zX/toNRONoEqJ9NpmNMg7zGd+UGWg1Mj8zftFA4AlsUyyKJwmtfqwHzIu2vls1x2LAejtuE0QU4WSaP65uUG5pogZbtwtQh5XmpXWHZIaCACUw8trrYyhjPE33b4CuLw0ghkZ0gttYPAI3tBNiM8HZr8whlHWxEent7Pv3cJ1yAmX03qy+VFDFRDUTDjLBBeDsomZCNMWSZNBgkv7+jfe4RrEPPl2cmU1hlMWRP/GkYvz8leUS+uqSKpvaEF828S8sI9iPUCxqDWU5tVtG0MKBuQbTJAHNQWNdL9sRbgqnCyFJqfyx+ryB8o2KDEf6DRQ6NITZ2oWTZDo4ywmqcB4rDaM4GsF/fwoA7ctz1CApmV7qIbIAZEf01fjH2WluLSabFvH/QWJk2eLE78mzZt1k/dLfaJwYo7NwXnMEAMiNGEjjOmairj/GdLZ2i2B7dEC85hgBgQ1VukSJHRpXVTnDlhC7dDu357cD+8C+YhMPVQ0+7+7fUOTB3N455xPYRC+XIhX/4CwcGw307xwcpVZ4mpPyalmTiMbppvgJc3f394fx/4xv3muC3Vc+DLE+D17VCuxy3gw4PfUI4f7YkXqFS6OHLlyRssxBiU2JsSK0oEjB7QA/j4EF/uef628O3BJXy9fxHrFkxDi4a10aROdTSrVxMdWzTG7VP2+P7ocqjUhWVysNrv3oC7Zxzx/ZFXqJTzq7bE27soX6IIcudVF04EFckGiP8wiAkmdvTdS8cxrI+67D5rpvRwtNiELwQaKeXHhyq1fHtXPX9yFV/uegCvbqnXpOKvbqtxX91Snz26/CPts+s/4r69K4MG7+7BestKVClXCs8unQDe3JF0vwJdSD8zQBzUYetLOpWd+DOUWAMG3t/HhoUzhK0pX6oYSKEfe7hi0rD+GDOwNzYvmYX5k0ZizMBeuHbCFt8eXcb6hdPlevb44Vg7fyqG9u4Cq80rBJBXXA9hZP8ektbZcgs2LZ4lcZfNGI/vD72wZt5UpEqRDLFixkCfTq1xxt4S3zg4fuMsZIDYFzAG9VaYAPGrW1g1Z7KAuGyJInhz/TRePbqMpnXVhQX5cmXHpGH/k+eN61THt4deWO8NevLzK2dPElYkTuxY2L91FZ7cPIeKpYtL/PmTRwngGS9tqhR4ecUNq73LSpksKZbPmoDbZxzxNZRYF78GhgHioCLWl3RhEcTPvU4C359hxujBAsR+Xdri4QVXxIwRA7myZRGQXzl2CLFixkTqlMmBFzdx8tAuidusbg1hH0b07yHX6xZMh4fDAcSKGR25smXG5zsX8MTzGCJGjIDsmTPi9bVTwo6QRfELcKFx3wCxL2AM6q2wCOIXl92AL48xcWg/AeKQXp1FAIsRPToK5MkpID5/1FJAnT5NSuDpVXg4HpBlXxVLF8O7G2cwpHcXSbt2/jScstmDmDFUEH+954kH55wFxFkzpse9s47A02u/FcAcFAaIg4pYX9LpAcSDenbCndMO8A3EGdKmFk3DBYf9spK8avlS+HDnAgb26OgD4gtH9wv/S0pMEN8/o35gkyB+7OkKvLxlgNgXbOjmVpgA8YcHWL9guoCuTPHC+HibuyI9x+ThKh9MSvz04nFZmk/++MPtcyAljh0rFhIliI9HF49j56r5kn5Qj47AxwcY2b+7XG9aMgv71i+R89zZsgCPLuPBWSehxJnSpYH74d146HFM+OzQYBv8ytOgxCE4RP4kiH30xItnguCNHSsm0qdJJdZDl8O7UL1iWblXssg/aN2kHuLFiSNahb3rFuOsnQXix4uL+PHigCD/J19u1KpSHvfOOwNv7ooFMGfWzKCgyLSZ06cV/plg//TqFrq0aYZkSRNjUI9OeHLxeKjppA0QhyBY/crqT4JY6+C7px3g5XJQ+N6bbna46GSFZxePg+c0Rlw/eUTu3T3jgFvu9nh244xQUAp26dKkAu9fP2GLdzfO+vC3VKWRejPf++ecRJhj2gfnnfHt8RV8vH1eDCq8hmHs8Ase+rgfFkDMKZ7ClU94chXfH1wCnlz1vsd/7fyaCEUnD+5ExAgRkSxJYmERqKFgPtrAEKvckytq+sdXfuT10Es1iDz0Up+ZpNHS/o5/g50IwfERFkAcGNB8f3gJn+55ivEiTcoUyJguDYb17YqXV9z/iPk4MHU3jWuA+C8GMYHw+a4Hnl8+KTreV1fdxbr36c4FfLn/+/w+TAEZlHMDxH85iAka8rzChpAVIYvwG03GIVGWAeIwBmLyn76GIAJLyys4YPlVHr49473glBfYtAaIwxCIQeGJPshv7qjeYs+uAQzPb8j9bw8CAQ56pz3yUr3S6E/sLYQFGiAU5OjlxjpR82BiUqZaT+rGZ8+u/xDyWN6zaz/FDWy5gYlvgDgMgJiU6/vTqxg/pC8a1qqKmpXKoV71SmjeoDaaN6qDhjWriF8wvdG+P7kSICr3/dUtWG5YhjpVK4KOPmds9+I7gRZAiq7W6RrmThiButUrSZ1ozPju7aH2/dk1MUG3alxXns2ZMBzfn1/Hadu94jA0bdQgMM7voMoGiMMAiAmsbw8v4e55F/Tq0EosYjQs0A3yjscx7N+8EuVKFsV5u32g/674BtP3l1Sb//QVJhV/fl09p7/w02t4dMEFNCXT68xu13oAr4H3936iyqJu+6DlofoXsz54cQP4+hTPL51EkQJ5JY8DG5eplJcUnr7J7+6JWyfz50AhxaZeunrFMlgwaZRKwTU/ZlJzre5Uxd31ELO1UHnG0eLxn/4XJhTfv4FngDisgPjBRZn6NW+zlo3qiuOOp6MVPtzzxA03O9z3PAbHfZvxv27tMWFoP+xavRADu3fEsL7dcOPkERzathr0UlsyfRw+3fEQsBYrmE/8JOaMH46BvbuI+ZkulN/JJjy/jkvO1ujTqQ36dm4jg0bYl2fX4LB3I/p1aYcJQ/qiWoXSAuJDW1eJBe/VFXeM6NcN/bq1x5gBPeVZp5ZNxAgyY8wQjB3UGxbrluCio5VYAAd274AtS2dj9IBe4ptMg8k36qqfX8eOlfPED5m+yIzHd7PbvV78nANKxQ0QhyUQP72GKSMGCCiqVSgDR8stqFy2pFA3vL4j1NHL2RqZM6STOK0a18PYgb3lnG6Vs8cNA512SBmP7Fon1LlkkYLiJ9GtbXMfd0wChbzsKdu9KJg3J6aMHCDgKVIwL55dcYPrgW1InCgB2jSpL34UqZInkzxtd6zF12fX0KBmZcSPGwf7Ni4TloflEcTvn1zB0N6dJW7tKuXx5PZ5MVXzeZ1qFX18MOiT8f3NXSyZOR7Ro0XFgG7t0b9rO+90FXDjgkug/C8MEIdREGdKn1bWyCVKmEClkLTCPb4iPKYGVNuda3Hl2GHp/H/y5hJd79QRA+V68bQxEr9owXzyvRH7PRuAx5dBp59o0aKK+bh3x9YSd/roQcJzE2wbF81ExxZN5L7j3o0i0FXxHhjHDmyDs+VWeUYne+CVrBRhurbNGghLsH35XHneuHY1mUl6tGsh1+vmT8Npmz1yXq9GZXy4dd5nwHE28HRUv4XSoGYVqXdgVH0GiMMoiEllqRGgsHf1+GGR/qnLfX/zrM9KC66fu2BvKcAoV6II3t86i/GD+8r19NGDBbQEMT/Q42ixGbTQVSxdQp6fOrxbnHwIQLINi6aPk6VJBGqJwgUQNWoUnDy4Q/THdAZiPKZZM2+KnJMFIT++zRu0AuJ397BhoepBx4Wq+HAfnVup28VuXjwLxw+oH+ZsULMqvj65CrqFsm4bF8/E+gXTJN/+Xdvj24ub+BYINZ0B4rAE4mfXfdiJZvVriY8DXSm/PfISCnxw2yq8uHwSVcqWlA4/umcDLhxVQVy2eGG8u/kDxDPHDhEQF/EGsYvlVjFqlCr6DxIljA8vxwOoVl7ldX2EPi7zf3ETBXLnRJQokXHCersIWaScBDFZmbXeICaFxadH2LNG/RQEPdnofP8TiD8+8AExKfxxq+2ST/0aVWTx6tu7Hujbua3MOFyhTV6ePh6BXd5kgDgsgfjVLR8QV61QWqW+b+/hw10PEdjmTx4pYOYCUIKKlJiCH8/J+368c8GHEguIn17BP3nVr0Yd2LgcTy4ek1UZpI6fX9wWKs+0NSqVxYf7niIcnj92GMP7dpM8l8+cgA+3zyNLRpUHJy/L8rj+jrz09xc3MGZAL4mbLXMG3Djn7MNeNKxZFfj62IdN4QJTt4M7JW6dapVksOxatQDlSxaVOk8bNRBU03HpP7UTdLj3TyuhPTdAHAZALDrZZ9cwfmg/FC+UX5zT6Yzzb/1aaN6oLupUrYD4ceOKmoxsAVdR0IG9a5t/0aV1MzmnsEfWo3TRQnJds3I5eLkeRLtmDUCelzrnWpXL4d/6NfHk+ml8f3kbz66eAvW8SRMnRN1qFTG4VyfcdDsiS5Ya1KiM/LlzoGubZkKZ2zdrCOsda8WIsWL2JKROmQKNalaRBahkP7jfhZeTNVo0rCPlFy6QB4tmThDBjnWlvppl8Jy+ye72+3yWTHEgaYFr/7jGLzArRAwQhwKIxwzsCXx+LMvladUKSKD/wv2zTrh31glc3PnY85j49dK3l77A9OdlHC7GpNGDcR5ecJE0Wnz68zJoz97fOof3N8+JJuKRhytuutsJJacO+Nt9T6H0HEDMm2XIvhG0ED69Ko5BVIXRB/ntjTPyDqLnpX/Fk6t45nVCKDfrQz6dQKIwxjqxfC4gpZ6a/7xmXrdPHZVz1oWzht3OdahYqjhqV60AajPIe3OwLp46RuQBvm9A2o68eYWSxuYpIQJlzRVz7KBewLenP5xq2PEBCTRW0MjgV6Bul37B2nPGp0lau+bmJto579MAQlBqhhA+o5bDtC681tIwvfaM6Xif+bAc03TMzzQNnz++rIaf6uNtMtfiav80Sz+/LtSZGhLZagsvZLCQWlPfLWZuvq9Wn1/9f3qICiWLGjsAhQSK+SkxTouRIypInSo5UidPYgRf2iBN8iRIlSyxDwvB6zSpkiNhvNhyL0XSREidIilSJwtg+6VU9dj8amxwDmMbKwD85l2fPn3QqlXr/7d3ZqG0hVEATpG8KC94QDyZMj2IJzJkeFAy3HO43ONGcU0ZM2UeMkbJ9eBRhhBeyJM8IMQDhQchGcpYhiJk3dbSOd1ulxzn7O2cvdcunb3PPv9a/1rrs/rPb1sLvikU8E2h5J+3fKBUgkqVAiqVSuMjZUIiqFJSAF+19R02U29tbdWFYa6KqZP3eLBBeIAzsUGEQfdJqLso6S7J+CQwxMYXs//OGBvK19TUALYUltvBEEsk4lVVVfSsBfaaltvBEEsg4tiA0dHRkXYIoqOjJWCRdiYwxNr5y+A+/fLyAqWlpZptL1NTU+pIZHATFXBCDLGAzhVDNPZ2Dg4OBisrKwLZ2toaCgoK4Pn5WQz1BqGDITaIMHx+EtiA/eLiApqamgjilZUVODo6goeHh88LNbKRDLGRBeyt6fb19RHEmJnldjDEEol4b28vQcy9nSUSUDmawRDLMeoSs5khllhA5WgOQyzHqEvMZoZYYgGVozkMsRyjLjGbGWKJBVSO5jDEcoy6xGxmiCUWUDmawxDLMeoSs5khllhA5WgOQyzHqEvMZoZYYgGVozkMsRyjLjGbGWKJBVSO5vz+/VqqlR/FlGP0JWJzd3c3PU98cHAgEYs+bgY/FP9xXxn0J7e3twGXFHd3dwY9TyEmxxAL4VWWKaoHGGJR3c3KhPAAQyyEVz8gE+tFXF1dwe3tLeB/LOMr1knG9/nQzgMMsXb+0tunEdyioiLw9fUFBwcH8PPzg7q6Ori/v9ebjrcEbW5uwujoKEilCCFD/FakRXr/58/XZoaZmZmiaDw5OQF/f38oLy8XRZ8YShhiMbz8jo6MjAzaGsvLy6NPHR8fg0KhgKCgICgpKYGcnBwICQmB2dlZuj80NARhYWEQFRUFDQ0N9Ioy1Bm8sbGRxmLR8IWFBYiMjITQ0FDAQoNYVCUwMJD0eXl5URVNHIdyEhISoL+/H0ZGRt6ZrWHeYoi/OC7p6ekEFUKHx9PTk6a2GgI3Pj5OjQ8xe+I9LB6Iyw9sz4DQjY2N0Xl2djaNn5ubo2snJyfabgsPD6frgYEBwLYOqAfHlpWVwenpKUxPT4OdnR0sLi5Cc3MzVYD/YpdorZ4h1tpl+h3wL8Qovauri0Crra0FzMyWlpbg5uYGNzc39INZ1MzMjO7h2trGxgZcXFyoNvHOzg5Br+6DkZycTLKGh4dp4i0tLXTd1tZG11NTUyQLs/Xa2hpsbGzo10ARpDHEIjj5PRX/g7ijo4NAq6yshP39fYLY09OTdjAwm+I5Qry3t0fZGTOzvb09nJ2dwd8Q407H9++vPZrVEKtrtmHWVR94bmKUyL10AAABt0lEQVRiAhYWFoDLFWM7GOIvjtivX69dQPPz8zUz6ezsJIirq6vh8PCQIMbsi1Xg/4YYs7Q6Ezs7O9PyYWtri8Z6eHiQvB8/XpuZq9e69fX1dL+9vZ3uowwsPjg/Pw/e3t7g6uoK19fXmrkYwwlD/EVRwix5fn4OcXFxBFVSUhLtGz8+PkJFRQW9l5WVBcvLy3SOmRaLBSLECBs2CMfsOjk5SffxlwEPfHbC1taWMjMuD9zd3ek+/kkat9R6enroOjU1FZaWlmBiYgJwhwTngkuMgIAA6ib1RW75lFqG+FNu030QZtDi4mKIiIggcHAXAVth7e7uQmJiIr0XGxsL2CILv+BhDWL8knd5eQk+Pj5gbm5O22S4S5GWlqbp1YG/HFghE3c0CgsLAeFGMHNzc2k5gksOpVJJeldXVwH3jAcHB0lPTEwMrK+v626cyBIYYpEdrqs6zJjqL3a41OADuI+dsUGAXZJwNwK3yWZmZmhNbGw26Hu+nIn17VGB5eGfi+Pj42ktjXu+nI05EwuMHIsXwwOcicXwMusQ1AMMsaDuZeFieIAhFsPLrENQDzDEgrqXhYvhgT/ilWtjwp5ezAAAAABJRU5ErkJggg==)"
      ]
    },
    {
      "cell_type": "markdown",
      "metadata": {
        "id": "X-2pAYvVK1Vd"
      },
      "source": [
        "The BERT model does not use decoder layers. A BERT model has an encoder stack\n",
        "but no decoder stacks. The masked tokens (hiding the tokens to predict) are in the attention layers of the encoder."
      ]
    },
    {
      "cell_type": "markdown",
      "metadata": {
        "id": "J7T_ki0zK1Sm"
      },
      "source": [
        "BERT encoder layers are larger than the original Transformer model.\n",
        "\n",
        "Two BERT models can be built with the encoder layers:\n",
        "\n",
        "      1.BERTbase which contains a stack of N=12 encoder layers,dimensions of head=768,A multi-head attention sublayer containes A=12 heads[Dimensions of each head is same as transformer i.e: 64]\n",
        "\n",
        "      2.BERTlarge which contains a stack N=24 encoder layers,dimensions=1024,A multi-head attention sublayers A=16[Dimensions of each head is same as transformer i.e: 64]"
      ]
    },
    {
      "cell_type": "markdown",
      "metadata": {
        "id": "58cZH4rBOJgK"
      },
      "source": [
        "![image.png](data:image/png;base64,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)"
      ]
    },
    {
      "cell_type": "markdown",
      "metadata": {
        "id": "qo_3JElxOXsZ"
      },
      "source": [
        "Size and dimensions play an essential role in BERT-style pretraining. BERT models are like humans. BERT models produce better results with more working memory(dimensions), and more knowledge (data). Large transformer models that learn large amounts of data will pretrain better for downstream NLP tasks."
      ]
    },
    {
      "cell_type": "markdown",
      "metadata": {
        "id": "8ZGpn6bRK1J-"
      },
      "source": [
        "#Pretraining and fine-tuning a BERT model"
      ]
    },
    {
      "cell_type": "markdown",
      "metadata": {
        "id": "A1iZ8hB5OonI"
      },
      "source": [
        "![image.png](data:image/png;base64,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)"
      ]
    },
    {
      "cell_type": "markdown",
      "metadata": {
        "id": "zLNIfq7-O0yf"
      },
      "source": [
        "#Fine-tuning BERT"
      ]
    },
    {
      "cell_type": "markdown",
      "metadata": {
        "id": "eOjIUFK_O2if"
      },
      "source": [
        "We will fine-tune a BERT model to predict the downstream task of\n",
        "**Acceptability Judgements** and measure the predictions with the Matthews Correlation\n",
        "Coefficient (MCC)."
      ]
    },
    {
      "cell_type": "markdown",
      "metadata": {
        "id": "awTJsbJVP7FC"
      },
      "source": [
        "#Activating the GPU"
      ]
    },
    {
      "cell_type": "markdown",
      "metadata": {
        "id": "gVAIopWnP9IS"
      },
      "source": [
        "Pretraining a multi-head attention transformer model requires the parallel\n",
        "processing GPUs can provide."
      ]
    },
    {
      "cell_type": "code",
      "metadata": {
        "colab": {
          "base_uri": "https://localhost:8080/"
        },
        "id": "smpW51-xcZjM",
        "outputId": "244724db-5c33-438e-c1e3-bd81540500e9"
      },
      "source": [
        "import tensorflow as tf\n",
        "device_name = tf.test.gpu_device_name()\n",
        "if device_name != '/device:GPU:0':\n",
        "  raise SystemError('GPU device not found')\n",
        "print('Found GPU at: {}'.format(device_name))"
      ],
      "execution_count": null,
      "outputs": [
        {
          "output_type": "stream",
          "text": [
            "Found GPU at: /device:GPU:0\n"
          ],
          "name": "stdout"
        }
      ]
    },
    {
      "cell_type": "markdown",
      "metadata": {
        "id": "3J9LnrQNQHUD"
      },
      "source": [
        "#Installing the Hugging Face PyTorch interface for BERT"
      ]
    },
    {
      "cell_type": "markdown",
      "metadata": {
        "id": "aIaKJKlbQNuB"
      },
      "source": [
        "Hugging Face provides a pretrained BERT model. Hugging Face developed a base\n",
        "class named PreTrainedModel. By installing this class, we can load a model from a\n",
        "pretrained model configuration.\n",
        "Hugging Face provides modules in TensorFlow and PyTorch."
      ]
    },
    {
      "cell_type": "code",
      "metadata": {
        "colab": {
          "base_uri": "https://localhost:8080/"
        },
        "id": "OOuJvcAvgVEO",
        "outputId": "d041e3dc-4f0a-495f-fc50-1cd0b502dbd5"
      },
      "source": [
        "!pip install -q transformers"
      ],
      "execution_count": null,
      "outputs": [
        {
          "output_type": "stream",
          "text": [
            "\u001b[K     |████████████████████████████████| 2.5MB 6.7MB/s \n",
            "\u001b[K     |████████████████████████████████| 3.3MB 37.2MB/s \n",
            "\u001b[K     |████████████████████████████████| 901kB 53.4MB/s \n",
            "\u001b[?25h"
          ],
          "name": "stdout"
        }
      ]
    },
    {
      "cell_type": "markdown",
      "metadata": {
        "id": "txjZl0dJQFTn"
      },
      "source": [
        "#Importing the modules"
      ]
    },
    {
      "cell_type": "markdown",
      "metadata": {
        "id": "Uf_FbUnlQYCI"
      },
      "source": [
        "We will import the pretrained modules required, such as the pretrained BERT\n",
        "tokenizer and the configuration of the BERT model. The BERTAdam optimizer is\n",
        "imported along with the sequence classification module"
      ]
    },
    {
      "cell_type": "code",
      "metadata": {
        "id": "jjGWReDygZZW"
      },
      "source": [
        "import torch\n",
        "from torch.utils.data import TensorDataset, DataLoader, RandomSampler,SequentialSampler\n",
        "from keras.preprocessing.sequence import pad_sequences\n",
        "from sklearn.model_selection import train_test_split\n",
        "from transformers import BertTokenizer, BertConfig\n",
        "from transformers import AdamW, BertForSequenceClassification, get_linear_schedule_with_warmup"
      ],
      "execution_count": null,
      "outputs": []
    },
    {
      "cell_type": "markdown",
      "metadata": {
        "id": "0_cEMIcXQgL8"
      },
      "source": [
        "A nice progress bar module is imported from tqdm"
      ]
    },
    {
      "cell_type": "code",
      "metadata": {
        "id": "DMKU2vGGgrFh"
      },
      "source": [
        "from tqdm import tqdm, trange"
      ],
      "execution_count": null,
      "outputs": []
    },
    {
      "cell_type": "markdown",
      "metadata": {
        "id": "OM-tAq3LQiez"
      },
      "source": [
        "We can now import the widely used standard Python modules"
      ]
    },
    {
      "cell_type": "code",
      "metadata": {
        "id": "jDIV-QPggua2"
      },
      "source": [
        "import pandas as pd\n",
        "import io\n",
        "import numpy as np\n",
        "import matplotlib.pyplot as plt"
      ],
      "execution_count": null,
      "outputs": []
    },
    {
      "cell_type": "markdown",
      "metadata": {
        "id": "iQc5SaL5Qoq6"
      },
      "source": [
        "#Specifying CUDA as the device for torch"
      ]
    },
    {
      "cell_type": "markdown",
      "metadata": {
        "id": "QKZt-FbSQtqX"
      },
      "source": [
        "We will now specify that torch uses the **Compute Unified Device Architecture**\n",
        "(CUDA) to put the parallel computing power of the NVIDIA card to work for our\n",
        "multi-head attention model"
      ]
    },
    {
      "cell_type": "code",
      "metadata": {
        "colab": {
          "base_uri": "https://localhost:8080/",
          "height": 35
        },
        "id": "TgfVjxOVgxNe",
        "outputId": "e302ffcd-d467-48db-ee86-488d3788f296"
      },
      "source": [
        "device = torch.device(\"cuda\" if torch.cuda.is_available() else \"cpu\")\n",
        "n_gpu = torch.cuda.device_count()\n",
        "torch.cuda.get_device_name(0)"
      ],
      "execution_count": null,
      "outputs": [
        {
          "output_type": "execute_result",
          "data": {
            "application/vnd.google.colaboratory.intrinsic+json": {
              "type": "string"
            },
            "text/plain": [
              "'Tesla T4'"
            ]
          },
          "metadata": {
            "tags": []
          },
          "execution_count": 9
        }
      ]
    },
    {
      "cell_type": "markdown",
      "metadata": {
        "id": "2gfoMDYKQwkX"
      },
      "source": [
        "#Loading the dataset"
      ]
    },
    {
      "cell_type": "code",
      "metadata": {
        "colab": {
          "base_uri": "https://localhost:8080/"
        },
        "id": "gk-4iOKyg8wl",
        "outputId": "75036418-b82d-47a3-824e-8b41698520af"
      },
      "source": [
        "df = pd.read_csv(\"/content/in_domain_train.tsv\", delimiter='\\t', header=None,\n",
        "names=['sentence_source', 'label', 'label_notes', 'sentence'])\n",
        "df.shape"
      ],
      "execution_count": null,
      "outputs": [
        {
          "output_type": "execute_result",
          "data": {
            "text/plain": [
              "(8551, 4)"
            ]
          },
          "metadata": {
            "tags": []
          },
          "execution_count": 10
        }
      ]
    },
    {
      "cell_type": "markdown",
      "metadata": {
        "id": "tz5j5pxRRnKp"
      },
      "source": [
        "Each sample in the .tsv files contains four tab-separated columns:\n",
        "\n",
        "• Column 1: the source of the sentence (code)\n",
        "\n",
        "• Column 2: the label (0=unacceptable, 1=acceptable)\n",
        "\n",
        "• Column 3: the label annotated by the author\n",
        "\n",
        "• Column 4: the sentence to be classified"
      ]
    },
    {
      "cell_type": "code",
      "metadata": {
        "colab": {
          "base_uri": "https://localhost:8080/",
          "height": 202
        },
        "id": "CwWWQRBXiLjA",
        "outputId": "9e836f03-1cfe-45fa-ff7b-7a40a69ced05"
      },
      "source": [
        "df.head()"
      ],
      "execution_count": null,
      "outputs": [
        {
          "output_type": "execute_result",
          "data": {
            "text/html": [
              "<div>\n",
              "<style scoped>\n",
              "    .dataframe tbody tr th:only-of-type {\n",
              "        vertical-align: middle;\n",
              "    }\n",
              "\n",
              "    .dataframe tbody tr th {\n",
              "        vertical-align: top;\n",
              "    }\n",
              "\n",
              "    .dataframe thead th {\n",
              "        text-align: right;\n",
              "    }\n",
              "</style>\n",
              "<table border=\"1\" class=\"dataframe\">\n",
              "  <thead>\n",
              "    <tr style=\"text-align: right;\">\n",
              "      <th></th>\n",
              "      <th>sentence_source</th>\n",
              "      <th>label</th>\n",
              "      <th>label_notes</th>\n",
              "      <th>sentence</th>\n",
              "    </tr>\n",
              "  </thead>\n",
              "  <tbody>\n",
              "    <tr>\n",
              "      <th>0</th>\n",
              "      <td>gj04</td>\n",
              "      <td>1</td>\n",
              "      <td>NaN</td>\n",
              "      <td>our friends wo n't buy this analysis , let alo...</td>\n",
              "    </tr>\n",
              "    <tr>\n",
              "      <th>1</th>\n",
              "      <td>gj04</td>\n",
              "      <td>1</td>\n",
              "      <td>NaN</td>\n",
              "      <td>one more pseudo generalization and i 'm giving...</td>\n",
              "    </tr>\n",
              "    <tr>\n",
              "      <th>2</th>\n",
              "      <td>gj04</td>\n",
              "      <td>1</td>\n",
              "      <td>NaN</td>\n",
              "      <td>one more pseudo generalization or i 'm giving ...</td>\n",
              "    </tr>\n",
              "    <tr>\n",
              "      <th>3</th>\n",
              "      <td>gj04</td>\n",
              "      <td>1</td>\n",
              "      <td>NaN</td>\n",
              "      <td>the more we study verbs , the crazier they get .</td>\n",
              "    </tr>\n",
              "    <tr>\n",
              "      <th>4</th>\n",
              "      <td>gj04</td>\n",
              "      <td>1</td>\n",
              "      <td>NaN</td>\n",
              "      <td>day by day the facts are getting murkier .</td>\n",
              "    </tr>\n",
              "  </tbody>\n",
              "</table>\n",
              "</div>"
            ],
            "text/plain": [
              "  sentence_source  ...                                           sentence\n",
              "0            gj04  ...  our friends wo n't buy this analysis , let alo...\n",
              "1            gj04  ...  one more pseudo generalization and i 'm giving...\n",
              "2            gj04  ...  one more pseudo generalization or i 'm giving ...\n",
              "3            gj04  ...   the more we study verbs , the crazier they get .\n",
              "4            gj04  ...         day by day the facts are getting murkier .\n",
              "\n",
              "[5 rows x 4 columns]"
            ]
          },
          "metadata": {
            "tags": []
          },
          "execution_count": 11
        }
      ]
    },
    {
      "cell_type": "markdown",
      "metadata": {
        "id": "2FhFoDynRzdN"
      },
      "source": [
        "Creating sentences, label lists, and adding\n",
        "BERT tokens"
      ]
    },
    {
      "cell_type": "code",
      "metadata": {
        "id": "y3663tttiMig"
      },
      "source": [
        "#@ Creating sentence, label lists and adding Bert tokens\n",
        "sentences = df.sentence.values\n",
        "# Adding CLS and SEP tokens at the beginning and end of each sentence for BERT\n",
        "sentences = [\"[CLS] \" + sentence + \" [SEP]\" for sentence in sentences]\n",
        "labels = df.label.values"
      ],
      "execution_count": null,
      "outputs": []
    },
    {
      "cell_type": "code",
      "metadata": {
        "colab": {
          "base_uri": "https://localhost:8080/"
        },
        "id": "-T5-HIUfRDEg",
        "outputId": "41a75ce7-0cf2-4271-b07e-ce5c5329cdc3"
      },
      "source": [
        "labels.shape"
      ],
      "execution_count": 73,
      "outputs": [
        {
          "output_type": "execute_result",
          "data": {
            "text/plain": [
              "(516,)"
            ]
          },
          "metadata": {
            "tags": []
          },
          "execution_count": 73
        }
      ]
    },
    {
      "cell_type": "markdown",
      "metadata": {
        "id": "wHCuHVfCRvux"
      },
      "source": [
        "#Activating the BERT tokenizer"
      ]
    },
    {
      "cell_type": "markdown",
      "metadata": {
        "id": "jxspZ2MhR7ax"
      },
      "source": [
        "In this section, we will initialize a pretrained BERT tokenizer. This will save the time\n",
        "it would take to train it from scratch."
      ]
    },
    {
      "cell_type": "markdown",
      "metadata": {
        "id": "uNVC6r5fSfnO"
      },
      "source": [
        "The program selects an uncased tokenizer[BERT base model (uncased) Pretrained model on English language using a masked language modeling (MLM) objective], activates it, and displays the first\n",
        "tokenized sentence:"
      ]
    },
    {
      "cell_type": "code",
      "metadata": {
        "colab": {
          "base_uri": "https://localhost:8080/"
        },
        "id": "XV1B9x7iiWhX",
        "outputId": "98e0367f-dbaa-4d13-99b0-b135785b1a5c"
      },
      "source": [
        "\n",
        "tokenizer = BertTokenizer.from_pretrained('bert-base-uncased', do_lower_case=True)\n",
        "tokenized_texts = [tokenizer.tokenize(sent) for sent in sentences]\n",
        "print (\"Tokenize the first sentence:\")\n",
        "print (tokenized_texts[0])"
      ],
      "execution_count": 78,
      "outputs": [
        {
          "output_type": "stream",
          "text": [
            "Tokenize the first sentence:\n",
            "['[CLS]', 'somebody', 'just', 'left', '-', 'guess', 'who', '.', '[SEP]']\n"
          ],
          "name": "stdout"
        }
      ]
    },
    {
      "cell_type": "markdown",
      "metadata": {
        "id": "VvfLoVbRSy7f"
      },
      "source": [
        "#Processing the data"
      ]
    },
    {
      "cell_type": "code",
      "metadata": {
        "id": "hRhK7d6qigUu"
      },
      "source": [
        "\n",
        "# Set the maximum sequence length. The longest sequence in our trainingset is 47, but we'll leave room on the end anyway.\n",
        "# In the original paper, the authors used a length of 512.\n",
        "MAX_LEN = 128\n",
        "# Use the BERT tokenizer to convert the tokens to their index numbers in the BERT vocabulary\n",
        "input_ids = [tokenizer.convert_tokens_to_ids(x) for x in tokenized_texts]\n",
        "# Pad our input tokens\n",
        "input_ids = pad_sequences(input_ids, maxlen=MAX_LEN, dtype=\"long\",truncating=\"post\", padding=\"post\")"
      ],
      "execution_count": null,
      "outputs": []
    },
    {
      "cell_type": "code",
      "metadata": {
        "colab": {
          "base_uri": "https://localhost:8080/"
        },
        "id": "wri7LQeATOyI",
        "outputId": "dba21c82-8402-48a3-98b4-eddc6c2bdf8d"
      },
      "source": [
        "input_ids"
      ],
      "execution_count": 79,
      "outputs": [
        {
          "output_type": "execute_result",
          "data": {
            "text/plain": [
              "array([[ 101, 8307, 2074, ...,    0,    0,    0],\n",
              "       [ 101, 2027, 3555, ...,    0,    0,    0],\n",
              "       [ 101, 2065, 3520, ...,    0,    0,    0],\n",
              "       ...,\n",
              "       [ 101, 2198, 4149, ...,    0,    0,    0],\n",
              "       [ 101, 2198, 5412, ...,    0,    0,    0],\n",
              "       [ 101, 2198, 5720, ...,    0,    0,    0]])"
            ]
          },
          "metadata": {
            "tags": []
          },
          "execution_count": 79
        }
      ]
    },
    {
      "cell_type": "markdown",
      "metadata": {
        "id": "YHVbQuO-TF1W"
      },
      "source": [
        "The sequences have been processed and now the program creates the attention\n",
        "masks."
      ]
    },
    {
      "cell_type": "markdown",
      "metadata": {
        "id": "V8EYJDgwTGjZ"
      },
      "source": [
        "#Creating attention masks"
      ]
    },
    {
      "cell_type": "markdown",
      "metadata": {
        "id": "bdwKR6j_TlGf"
      },
      "source": [
        "We padded the sequences in the previous\n",
        "cell. But we want to prevent the model from performing attention on those padded\n",
        "tokens!\n",
        "The idea is to apply a mask with a value of 1 for each token, which will be followed\n",
        "by 0s for padding:"
      ]
    },
    {
      "cell_type": "code",
      "metadata": {
        "id": "vklEsKNPtGee"
      },
      "source": [
        "attention_masks = []\n",
        "# Create a mask of 1s for each token followed by 0s for padding\n",
        "for seq in input_ids:\n",
        "  seq_mask = [float(i>0) for i in seq]\n",
        "  attention_masks.append(seq_mask)"
      ],
      "execution_count": null,
      "outputs": []
    },
    {
      "cell_type": "code",
      "metadata": {
        "colab": {
          "base_uri": "https://localhost:8080/"
        },
        "id": "Hn6v1dBDTsEB",
        "outputId": "0292e613-2877-452c-bb91-408153495981"
      },
      "source": [
        "seq_mask"
      ],
      "execution_count": 80,
      "outputs": [
        {
          "output_type": "execute_result",
          "data": {
            "text/plain": [
              "[1.0,\n",
              " 1.0,\n",
              " 1.0,\n",
              " 1.0,\n",
              " 1.0,\n",
              " 1.0,\n",
              " 1.0,\n",
              " 1.0,\n",
              " 1.0,\n",
              " 0.0,\n",
              " 0.0,\n",
              " 0.0,\n",
              " 0.0,\n",
              " 0.0,\n",
              " 0.0,\n",
              " 0.0,\n",
              " 0.0,\n",
              " 0.0,\n",
              " 0.0,\n",
              " 0.0,\n",
              " 0.0,\n",
              " 0.0,\n",
              " 0.0,\n",
              " 0.0,\n",
              " 0.0,\n",
              " 0.0,\n",
              " 0.0,\n",
              " 0.0,\n",
              " 0.0,\n",
              " 0.0,\n",
              " 0.0,\n",
              " 0.0,\n",
              " 0.0,\n",
              " 0.0,\n",
              " 0.0,\n",
              " 0.0,\n",
              " 0.0,\n",
              " 0.0,\n",
              " 0.0,\n",
              " 0.0,\n",
              " 0.0,\n",
              " 0.0,\n",
              " 0.0,\n",
              " 0.0,\n",
              " 0.0,\n",
              " 0.0,\n",
              " 0.0,\n",
              " 0.0,\n",
              " 0.0,\n",
              " 0.0,\n",
              " 0.0,\n",
              " 0.0,\n",
              " 0.0,\n",
              " 0.0,\n",
              " 0.0,\n",
              " 0.0,\n",
              " 0.0,\n",
              " 0.0,\n",
              " 0.0,\n",
              " 0.0,\n",
              " 0.0,\n",
              " 0.0,\n",
              " 0.0,\n",
              " 0.0,\n",
              " 0.0,\n",
              " 0.0,\n",
              " 0.0,\n",
              " 0.0,\n",
              " 0.0,\n",
              " 0.0,\n",
              " 0.0,\n",
              " 0.0,\n",
              " 0.0,\n",
              " 0.0,\n",
              " 0.0,\n",
              " 0.0,\n",
              " 0.0,\n",
              " 0.0,\n",
              " 0.0,\n",
              " 0.0,\n",
              " 0.0,\n",
              " 0.0,\n",
              " 0.0,\n",
              " 0.0,\n",
              " 0.0,\n",
              " 0.0,\n",
              " 0.0,\n",
              " 0.0,\n",
              " 0.0,\n",
              " 0.0,\n",
              " 0.0,\n",
              " 0.0,\n",
              " 0.0,\n",
              " 0.0,\n",
              " 0.0,\n",
              " 0.0,\n",
              " 0.0,\n",
              " 0.0,\n",
              " 0.0,\n",
              " 0.0,\n",
              " 0.0,\n",
              " 0.0,\n",
              " 0.0,\n",
              " 0.0,\n",
              " 0.0,\n",
              " 0.0,\n",
              " 0.0,\n",
              " 0.0,\n",
              " 0.0,\n",
              " 0.0,\n",
              " 0.0,\n",
              " 0.0,\n",
              " 0.0,\n",
              " 0.0,\n",
              " 0.0,\n",
              " 0.0,\n",
              " 0.0,\n",
              " 0.0,\n",
              " 0.0,\n",
              " 0.0,\n",
              " 0.0,\n",
              " 0.0,\n",
              " 0.0,\n",
              " 0.0,\n",
              " 0.0,\n",
              " 0.0,\n",
              " 0.0,\n",
              " 0.0]"
            ]
          },
          "metadata": {
            "tags": []
          },
          "execution_count": 80
        }
      ]
    },
    {
      "cell_type": "markdown",
      "metadata": {
        "id": "9yO1Zw1UT6Ql"
      },
      "source": [
        "#Splitting data into training and validation sets"
      ]
    },
    {
      "cell_type": "code",
      "metadata": {
        "id": "l1ulA_-RtU4O"
      },
      "source": [
        "# Use train_test_split to split our data into train and validation sets for training\n",
        "train_inputs, validation_inputs, train_labels, validation_labels =train_test_split(input_ids, labels, random_state=2018, test_size=0.1)\n",
        "train_masks, validation_masks, _, _ = train_test_split(attention_masks,input_ids,random_state=2018, test_size=0.1)"
      ],
      "execution_count": null,
      "outputs": []
    },
    {
      "cell_type": "markdown",
      "metadata": {
        "id": "XO-PHD1iUAVA"
      },
      "source": [
        "#Converting all the data into torch tensors"
      ]
    },
    {
      "cell_type": "markdown",
      "metadata": {
        "id": "wym3LOTZUCnn"
      },
      "source": [
        "The fine-tuning model uses torch tensors. The program must convert the data into torch tensors:"
      ]
    },
    {
      "cell_type": "code",
      "metadata": {
        "id": "YNryFA7Ktf0n"
      },
      "source": [
        "# Torch tensors are the required datatype for our model\n",
        "train_inputs = torch.tensor(train_inputs)\n",
        "validation_inputs = torch.tensor(validation_inputs)\n",
        "train_labels = torch.tensor(train_labels)\n",
        "validation_labels = torch.tensor(validation_labels)\n",
        "train_masks = torch.tensor(train_masks)\n",
        "validation_masks = torch.tensor(validation_masks)"
      ],
      "execution_count": null,
      "outputs": []
    },
    {
      "cell_type": "markdown",
      "metadata": {
        "id": "gHWkEyQOUOl9"
      },
      "source": [
        "#Selecting a batch size and creating an iterator"
      ]
    },
    {
      "cell_type": "markdown",
      "metadata": {
        "id": "sgnG3IpiUQNv"
      },
      "source": [
        "In this cell, the program selects a batch size and creates an iterator. The iterator is a\n",
        "clever way of avoiding a loop that would load all the data in memory. The iterator,\n",
        "coupled with the torch DataLoader, can batch train huge datasets without crashing\n",
        "the memory of the machine.\n",
        "\n",
        "In this model, the batch size is 32:"
      ]
    },
    {
      "cell_type": "code",
      "metadata": {
        "id": "ZBhHryGxtp4m"
      },
      "source": [
        "# Select a batch size for training. For fine-tuning BERT on a specific task, the authors recommend a batch size of 16 or 32\n",
        "batch_size = 32\n",
        "# Create an iterator of our data with torch DataLoader. This helps save on memory during training because, unlike a for loop,\n",
        "# with an iterator the entire dataset does not need to be loaded into memory\n",
        "train_data = TensorDataset(train_inputs, train_masks, train_labels)\n",
        "train_sampler = RandomSampler(train_data)\n",
        "train_dataloader = DataLoader(train_data, sampler=train_sampler, batch_size=batch_size)\n",
        "validation_data = TensorDataset(validation_inputs, validation_masks,\n",
        "validation_labels)\n",
        "validation_sampler = SequentialSampler(validation_data)\n",
        "validation_dataloader = DataLoader(validation_data, sampler=validation_sampler, batch_size=batch_size)"
      ],
      "execution_count": null,
      "outputs": []
    },
    {
      "cell_type": "markdown",
      "metadata": {
        "id": "PnyM6wghVSua"
      },
      "source": [
        "#BERT model configuration"
      ]
    },
    {
      "cell_type": "markdown",
      "metadata": {
        "id": "iUsn-QYcVVND"
      },
      "source": [
        "The program now initializes a BERT uncased configuration"
      ]
    },
    {
      "cell_type": "code",
      "metadata": {
        "colab": {
          "base_uri": "https://localhost:8080/"
        },
        "id": "dgukcqp3uRdG",
        "outputId": "89eaae40-c482-48db-9909-7e65e95e2992"
      },
      "source": [
        "try:\n",
        "  import transformers\n",
        "except:\n",
        "  print(\"Installing transformers\")\n",
        "  !pip -qq install transformers\n",
        "from transformers import BertModel, BertConfig\n",
        "configuration = BertConfig()\n",
        "# Initializing a model from the bert-base-uncased style configuration\n",
        "model = BertModel(configuration)\n",
        "# Accessing the model configuration\n",
        "configuration = model.config\n",
        "print(configuration)"
      ],
      "execution_count": null,
      "outputs": [
        {
          "output_type": "stream",
          "text": [
            "BertConfig {\n",
            "  \"attention_probs_dropout_prob\": 0.1,\n",
            "  \"gradient_checkpointing\": false,\n",
            "  \"hidden_act\": \"gelu\",\n",
            "  \"hidden_dropout_prob\": 0.1,\n",
            "  \"hidden_size\": 768,\n",
            "  \"initializer_range\": 0.02,\n",
            "  \"intermediate_size\": 3072,\n",
            "  \"layer_norm_eps\": 1e-12,\n",
            "  \"max_position_embeddings\": 512,\n",
            "  \"model_type\": \"bert\",\n",
            "  \"num_attention_heads\": 12,\n",
            "  \"num_hidden_layers\": 12,\n",
            "  \"pad_token_id\": 0,\n",
            "  \"position_embedding_type\": \"absolute\",\n",
            "  \"transformers_version\": \"4.8.2\",\n",
            "  \"type_vocab_size\": 2,\n",
            "  \"use_cache\": true,\n",
            "  \"vocab_size\": 30522\n",
            "}\n",
            "\n"
          ],
          "name": "stdout"
        }
      ]
    },
    {
      "cell_type": "markdown",
      "metadata": {
        "id": "-B4PYHeZViKI"
      },
      "source": [
        "attention_probs_dropout_prob: 0.1 applies a 0.1 dropout ratio to the\n",
        "attention probabilities.\n",
        "\n",
        "• hidden_act: \"gelu\" is a non-linear activation function in the encoder. It is a Gaussian Error Linear Units activation function. The input is weighted by its magnitude, which makes it non-linear.\n",
        "\n",
        "• hidden_dropout_prob: 0.1 is the dropout probability applied to the fully\n",
        "connected layers. Full connections can be found in the embeddings, encoder,\n",
        "and pooler layers. The pooler is there to convert the sequence tensor for\n",
        "classification tasks, which require a fixed dimension to represent the\n",
        "sequence. The pooler will thus convert the sequence tensor to (batch size,\n",
        "hidden size), which are fixed parameters.\n",
        "\n",
        "• hidden_size: 768 is the dimension of the encoded layers and also the pooler layer.\n",
        "\n",
        "• initializer_range: 0.02 is the standard deviation value when initializing the weight matrices.\n",
        "• intermediate_size: 3072 is the dimension of the feed-forward layer of the\n",
        "encoder.\n",
        "\n",
        "• layer_norm_eps: 1e-12 is the epsilon value for layer normalization layers.\n",
        "\n",
        "• max_position_embeddings: 512 is the maximum length the model uses.\n",
        "\n",
        "• model_type: \"bert\" is the name of the model.\n",
        "\n",
        "• num_attention_heads: 12 is the number of heads.\n",
        "\n",
        "• num_hidden_layers: 12 is the number of layers.\n",
        "\n",
        "• pad_token_id: 0 is the ID of the padding token to avoid training padding\n",
        "tokens.\n",
        "\n",
        "• type_vocab_size: 2 is the size of the token_type_ids, which identify the\n",
        "sequences. For example, \"the dog[SEP] The cat.[SEP]\" can be represented\n",
        "with 6 token IDs: [0,0,0, 1,1,1].\n",
        "\n",
        "• vocab_size: 30522 is the number of different tokens used by the model to\n",
        "represent the input_ids."
      ]
    },
    {
      "cell_type": "markdown",
      "metadata": {
        "id": "p7KUGgvgWEYo"
      },
      "source": [
        "#Loading the Hugging Face BERT uncased base model"
      ]
    },
    {
      "cell_type": "markdown",
      "metadata": {
        "id": "pA7FMA_SWIrM"
      },
      "source": [
        ""
      ]
    },
    {
      "cell_type": "code",
      "metadata": {
        "colab": {
          "base_uri": "https://localhost:8080/",
          "height": 1000,
          "referenced_widgets": [
            "f0629f4d53db443b9a48138567cae646",
            "4326e1a22b0b4ff289c040c554f2aa50",
            "990c56b5e76c4830b1edaf361906e2b4",
            "da3cc665d9564920a8a6d4bd5fbdde02",
            "08a65087b5ce4b43b2b8a815cf23ace9",
            "54afb411e5114c5496c6a88b67469164",
            "3bc856517306421db45fec3e15d27242",
            "9068e53d65dc445083d832ba6389a9be",
            "ab97b60285624c71837fa3f4b08feb86",
            "b857381c79c64729bad4ace12f6eb4a1",
            "26b6c535ae314df5a585d91277db1d25",
            "3beb1acfa0b2403998cd619a1fe623ea",
            "39776b66acc84ac6973f2bdb25bb0a35",
            "b49c689dbd954bab89d8fb716ac904d1",
            "dc4fa2640d124cdc9850f67633936597",
            "be82f6905bae4ed8aeb2cc8516499f37"
          ]
        },
        "id": "8joZKAaFu3Av",
        "outputId": "7ca89e75-135f-4070-b39e-579a3ffdebaa"
      },
      "source": [
        "from transformers import pipeline\n",
        "model = BertForSequenceClassification.from_pretrained(\"bert-base-uncased\",num_labels=2)\n",
        "model.cuda()"
      ],
      "execution_count": null,
      "outputs": [
        {
          "output_type": "display_data",
          "data": {
            "application/vnd.jupyter.widget-view+json": {
              "model_id": "f0629f4d53db443b9a48138567cae646",
              "version_minor": 0,
              "version_major": 2
            },
            "text/plain": [
              "HBox(children=(FloatProgress(value=0.0, description='Downloading', max=570.0, style=ProgressStyle(description_…"
            ]
          },
          "metadata": {
            "tags": []
          }
        },
        {
          "output_type": "stream",
          "text": [
            "\n"
          ],
          "name": "stdout"
        },
        {
          "output_type": "display_data",
          "data": {
            "application/vnd.jupyter.widget-view+json": {
              "model_id": "ab97b60285624c71837fa3f4b08feb86",
              "version_minor": 0,
              "version_major": 2
            },
            "text/plain": [
              "HBox(children=(FloatProgress(value=0.0, description='Downloading', max=440473133.0, style=ProgressStyle(descri…"
            ]
          },
          "metadata": {
            "tags": []
          }
        },
        {
          "output_type": "stream",
          "text": [
            "\n"
          ],
          "name": "stdout"
        },
        {
          "output_type": "stream",
          "text": [
            "Some weights of the model checkpoint at bert-base-uncased were not used when initializing BertForSequenceClassification: ['cls.predictions.transform.dense.weight', 'cls.predictions.transform.dense.bias', 'cls.predictions.transform.LayerNorm.bias', 'cls.seq_relationship.bias', 'cls.predictions.bias', 'cls.predictions.decoder.weight', 'cls.seq_relationship.weight', 'cls.predictions.transform.LayerNorm.weight']\n",
            "- This IS expected if you are initializing BertForSequenceClassification from the checkpoint of a model trained on another task or with another architecture (e.g. initializing a BertForSequenceClassification model from a BertForPreTraining model).\n",
            "- This IS NOT expected if you are initializing BertForSequenceClassification from the checkpoint of a model that you expect to be exactly identical (initializing a BertForSequenceClassification model from a BertForSequenceClassification model).\n",
            "Some weights of BertForSequenceClassification were not initialized from the model checkpoint at bert-base-uncased and are newly initialized: ['classifier.bias', 'classifier.weight']\n",
            "You should probably TRAIN this model on a down-stream task to be able to use it for predictions and inference.\n"
          ],
          "name": "stderr"
        },
        {
          "output_type": "execute_result",
          "data": {
            "text/plain": [
              "BertForSequenceClassification(\n",
              "  (bert): BertModel(\n",
              "    (embeddings): BertEmbeddings(\n",
              "      (word_embeddings): Embedding(30522, 768, padding_idx=0)\n",
              "      (position_embeddings): Embedding(512, 768)\n",
              "      (token_type_embeddings): Embedding(2, 768)\n",
              "      (LayerNorm): LayerNorm((768,), eps=1e-12, elementwise_affine=True)\n",
              "      (dropout): Dropout(p=0.1, inplace=False)\n",
              "    )\n",
              "    (encoder): BertEncoder(\n",
              "      (layer): ModuleList(\n",
              "        (0): BertLayer(\n",
              "          (attention): BertAttention(\n",
              "            (self): BertSelfAttention(\n",
              "              (query): Linear(in_features=768, out_features=768, bias=True)\n",
              "              (key): Linear(in_features=768, out_features=768, bias=True)\n",
              "              (value): Linear(in_features=768, out_features=768, bias=True)\n",
              "              (dropout): Dropout(p=0.1, inplace=False)\n",
              "            )\n",
              "            (output): BertSelfOutput(\n",
              "              (dense): Linear(in_features=768, out_features=768, bias=True)\n",
              "              (LayerNorm): LayerNorm((768,), eps=1e-12, elementwise_affine=True)\n",
              "              (dropout): Dropout(p=0.1, inplace=False)\n",
              "            )\n",
              "          )\n",
              "          (intermediate): BertIntermediate(\n",
              "            (dense): Linear(in_features=768, out_features=3072, bias=True)\n",
              "          )\n",
              "          (output): BertOutput(\n",
              "            (dense): Linear(in_features=3072, out_features=768, bias=True)\n",
              "            (LayerNorm): LayerNorm((768,), eps=1e-12, elementwise_affine=True)\n",
              "            (dropout): Dropout(p=0.1, inplace=False)\n",
              "          )\n",
              "        )\n",
              "        (1): BertLayer(\n",
              "          (attention): BertAttention(\n",
              "            (self): BertSelfAttention(\n",
              "              (query): Linear(in_features=768, out_features=768, bias=True)\n",
              "              (key): Linear(in_features=768, out_features=768, bias=True)\n",
              "              (value): Linear(in_features=768, out_features=768, bias=True)\n",
              "              (dropout): Dropout(p=0.1, inplace=False)\n",
              "            )\n",
              "            (output): BertSelfOutput(\n",
              "              (dense): Linear(in_features=768, out_features=768, bias=True)\n",
              "              (LayerNorm): LayerNorm((768,), eps=1e-12, elementwise_affine=True)\n",
              "              (dropout): Dropout(p=0.1, inplace=False)\n",
              "            )\n",
              "          )\n",
              "          (intermediate): BertIntermediate(\n",
              "            (dense): Linear(in_features=768, out_features=3072, bias=True)\n",
              "          )\n",
              "          (output): BertOutput(\n",
              "            (dense): Linear(in_features=3072, out_features=768, bias=True)\n",
              "            (LayerNorm): LayerNorm((768,), eps=1e-12, elementwise_affine=True)\n",
              "            (dropout): Dropout(p=0.1, inplace=False)\n",
              "          )\n",
              "        )\n",
              "        (2): BertLayer(\n",
              "          (attention): BertAttention(\n",
              "            (self): BertSelfAttention(\n",
              "              (query): Linear(in_features=768, out_features=768, bias=True)\n",
              "              (key): Linear(in_features=768, out_features=768, bias=True)\n",
              "              (value): Linear(in_features=768, out_features=768, bias=True)\n",
              "              (dropout): Dropout(p=0.1, inplace=False)\n",
              "            )\n",
              "            (output): BertSelfOutput(\n",
              "              (dense): Linear(in_features=768, out_features=768, bias=True)\n",
              "              (LayerNorm): LayerNorm((768,), eps=1e-12, elementwise_affine=True)\n",
              "              (dropout): Dropout(p=0.1, inplace=False)\n",
              "            )\n",
              "          )\n",
              "          (intermediate): BertIntermediate(\n",
              "            (dense): Linear(in_features=768, out_features=3072, bias=True)\n",
              "          )\n",
              "          (output): BertOutput(\n",
              "            (dense): Linear(in_features=3072, out_features=768, bias=True)\n",
              "            (LayerNorm): LayerNorm((768,), eps=1e-12, elementwise_affine=True)\n",
              "            (dropout): Dropout(p=0.1, inplace=False)\n",
              "          )\n",
              "        )\n",
              "        (3): BertLayer(\n",
              "          (attention): BertAttention(\n",
              "            (self): BertSelfAttention(\n",
              "              (query): Linear(in_features=768, out_features=768, bias=True)\n",
              "              (key): Linear(in_features=768, out_features=768, bias=True)\n",
              "              (value): Linear(in_features=768, out_features=768, bias=True)\n",
              "              (dropout): Dropout(p=0.1, inplace=False)\n",
              "            )\n",
              "            (output): BertSelfOutput(\n",
              "              (dense): Linear(in_features=768, out_features=768, bias=True)\n",
              "              (LayerNorm): LayerNorm((768,), eps=1e-12, elementwise_affine=True)\n",
              "              (dropout): Dropout(p=0.1, inplace=False)\n",
              "            )\n",
              "          )\n",
              "          (intermediate): BertIntermediate(\n",
              "            (dense): Linear(in_features=768, out_features=3072, bias=True)\n",
              "          )\n",
              "          (output): BertOutput(\n",
              "            (dense): Linear(in_features=3072, out_features=768, bias=True)\n",
              "            (LayerNorm): LayerNorm((768,), eps=1e-12, elementwise_affine=True)\n",
              "            (dropout): Dropout(p=0.1, inplace=False)\n",
              "          )\n",
              "        )\n",
              "        (4): BertLayer(\n",
              "          (attention): BertAttention(\n",
              "            (self): BertSelfAttention(\n",
              "              (query): Linear(in_features=768, out_features=768, bias=True)\n",
              "              (key): Linear(in_features=768, out_features=768, bias=True)\n",
              "              (value): Linear(in_features=768, out_features=768, bias=True)\n",
              "              (dropout): Dropout(p=0.1, inplace=False)\n",
              "            )\n",
              "            (output): BertSelfOutput(\n",
              "              (dense): Linear(in_features=768, out_features=768, bias=True)\n",
              "              (LayerNorm): LayerNorm((768,), eps=1e-12, elementwise_affine=True)\n",
              "              (dropout): Dropout(p=0.1, inplace=False)\n",
              "            )\n",
              "          )\n",
              "          (intermediate): BertIntermediate(\n",
              "            (dense): Linear(in_features=768, out_features=3072, bias=True)\n",
              "          )\n",
              "          (output): BertOutput(\n",
              "            (dense): Linear(in_features=3072, out_features=768, bias=True)\n",
              "            (LayerNorm): LayerNorm((768,), eps=1e-12, elementwise_affine=True)\n",
              "            (dropout): Dropout(p=0.1, inplace=False)\n",
              "          )\n",
              "        )\n",
              "        (5): BertLayer(\n",
              "          (attention): BertAttention(\n",
              "            (self): BertSelfAttention(\n",
              "              (query): Linear(in_features=768, out_features=768, bias=True)\n",
              "              (key): Linear(in_features=768, out_features=768, bias=True)\n",
              "              (value): Linear(in_features=768, out_features=768, bias=True)\n",
              "              (dropout): Dropout(p=0.1, inplace=False)\n",
              "            )\n",
              "            (output): BertSelfOutput(\n",
              "              (dense): Linear(in_features=768, out_features=768, bias=True)\n",
              "              (LayerNorm): LayerNorm((768,), eps=1e-12, elementwise_affine=True)\n",
              "              (dropout): Dropout(p=0.1, inplace=False)\n",
              "            )\n",
              "          )\n",
              "          (intermediate): BertIntermediate(\n",
              "            (dense): Linear(in_features=768, out_features=3072, bias=True)\n",
              "          )\n",
              "          (output): BertOutput(\n",
              "            (dense): Linear(in_features=3072, out_features=768, bias=True)\n",
              "            (LayerNorm): LayerNorm((768,), eps=1e-12, elementwise_affine=True)\n",
              "            (dropout): Dropout(p=0.1, inplace=False)\n",
              "          )\n",
              "        )\n",
              "        (6): BertLayer(\n",
              "          (attention): BertAttention(\n",
              "            (self): BertSelfAttention(\n",
              "              (query): Linear(in_features=768, out_features=768, bias=True)\n",
              "              (key): Linear(in_features=768, out_features=768, bias=True)\n",
              "              (value): Linear(in_features=768, out_features=768, bias=True)\n",
              "              (dropout): Dropout(p=0.1, inplace=False)\n",
              "            )\n",
              "            (output): BertSelfOutput(\n",
              "              (dense): Linear(in_features=768, out_features=768, bias=True)\n",
              "              (LayerNorm): LayerNorm((768,), eps=1e-12, elementwise_affine=True)\n",
              "              (dropout): Dropout(p=0.1, inplace=False)\n",
              "            )\n",
              "          )\n",
              "          (intermediate): BertIntermediate(\n",
              "            (dense): Linear(in_features=768, out_features=3072, bias=True)\n",
              "          )\n",
              "          (output): BertOutput(\n",
              "            (dense): Linear(in_features=3072, out_features=768, bias=True)\n",
              "            (LayerNorm): LayerNorm((768,), eps=1e-12, elementwise_affine=True)\n",
              "            (dropout): Dropout(p=0.1, inplace=False)\n",
              "          )\n",
              "        )\n",
              "        (7): BertLayer(\n",
              "          (attention): BertAttention(\n",
              "            (self): BertSelfAttention(\n",
              "              (query): Linear(in_features=768, out_features=768, bias=True)\n",
              "              (key): Linear(in_features=768, out_features=768, bias=True)\n",
              "              (value): Linear(in_features=768, out_features=768, bias=True)\n",
              "              (dropout): Dropout(p=0.1, inplace=False)\n",
              "            )\n",
              "            (output): BertSelfOutput(\n",
              "              (dense): Linear(in_features=768, out_features=768, bias=True)\n",
              "              (LayerNorm): LayerNorm((768,), eps=1e-12, elementwise_affine=True)\n",
              "              (dropout): Dropout(p=0.1, inplace=False)\n",
              "            )\n",
              "          )\n",
              "          (intermediate): BertIntermediate(\n",
              "            (dense): Linear(in_features=768, out_features=3072, bias=True)\n",
              "          )\n",
              "          (output): BertOutput(\n",
              "            (dense): Linear(in_features=3072, out_features=768, bias=True)\n",
              "            (LayerNorm): LayerNorm((768,), eps=1e-12, elementwise_affine=True)\n",
              "            (dropout): Dropout(p=0.1, inplace=False)\n",
              "          )\n",
              "        )\n",
              "        (8): BertLayer(\n",
              "          (attention): BertAttention(\n",
              "            (self): BertSelfAttention(\n",
              "              (query): Linear(in_features=768, out_features=768, bias=True)\n",
              "              (key): Linear(in_features=768, out_features=768, bias=True)\n",
              "              (value): Linear(in_features=768, out_features=768, bias=True)\n",
              "              (dropout): Dropout(p=0.1, inplace=False)\n",
              "            )\n",
              "            (output): BertSelfOutput(\n",
              "              (dense): Linear(in_features=768, out_features=768, bias=True)\n",
              "              (LayerNorm): LayerNorm((768,), eps=1e-12, elementwise_affine=True)\n",
              "              (dropout): Dropout(p=0.1, inplace=False)\n",
              "            )\n",
              "          )\n",
              "          (intermediate): BertIntermediate(\n",
              "            (dense): Linear(in_features=768, out_features=3072, bias=True)\n",
              "          )\n",
              "          (output): BertOutput(\n",
              "            (dense): Linear(in_features=3072, out_features=768, bias=True)\n",
              "            (LayerNorm): LayerNorm((768,), eps=1e-12, elementwise_affine=True)\n",
              "            (dropout): Dropout(p=0.1, inplace=False)\n",
              "          )\n",
              "        )\n",
              "        (9): BertLayer(\n",
              "          (attention): BertAttention(\n",
              "            (self): BertSelfAttention(\n",
              "              (query): Linear(in_features=768, out_features=768, bias=True)\n",
              "              (key): Linear(in_features=768, out_features=768, bias=True)\n",
              "              (value): Linear(in_features=768, out_features=768, bias=True)\n",
              "              (dropout): Dropout(p=0.1, inplace=False)\n",
              "            )\n",
              "            (output): BertSelfOutput(\n",
              "              (dense): Linear(in_features=768, out_features=768, bias=True)\n",
              "              (LayerNorm): LayerNorm((768,), eps=1e-12, elementwise_affine=True)\n",
              "              (dropout): Dropout(p=0.1, inplace=False)\n",
              "            )\n",
              "          )\n",
              "          (intermediate): BertIntermediate(\n",
              "            (dense): Linear(in_features=768, out_features=3072, bias=True)\n",
              "          )\n",
              "          (output): BertOutput(\n",
              "            (dense): Linear(in_features=3072, out_features=768, bias=True)\n",
              "            (LayerNorm): LayerNorm((768,), eps=1e-12, elementwise_affine=True)\n",
              "            (dropout): Dropout(p=0.1, inplace=False)\n",
              "          )\n",
              "        )\n",
              "        (10): BertLayer(\n",
              "          (attention): BertAttention(\n",
              "            (self): BertSelfAttention(\n",
              "              (query): Linear(in_features=768, out_features=768, bias=True)\n",
              "              (key): Linear(in_features=768, out_features=768, bias=True)\n",
              "              (value): Linear(in_features=768, out_features=768, bias=True)\n",
              "              (dropout): Dropout(p=0.1, inplace=False)\n",
              "            )\n",
              "            (output): BertSelfOutput(\n",
              "              (dense): Linear(in_features=768, out_features=768, bias=True)\n",
              "              (LayerNorm): LayerNorm((768,), eps=1e-12, elementwise_affine=True)\n",
              "              (dropout): Dropout(p=0.1, inplace=False)\n",
              "            )\n",
              "          )\n",
              "          (intermediate): BertIntermediate(\n",
              "            (dense): Linear(in_features=768, out_features=3072, bias=True)\n",
              "          )\n",
              "          (output): BertOutput(\n",
              "            (dense): Linear(in_features=3072, out_features=768, bias=True)\n",
              "            (LayerNorm): LayerNorm((768,), eps=1e-12, elementwise_affine=True)\n",
              "            (dropout): Dropout(p=0.1, inplace=False)\n",
              "          )\n",
              "        )\n",
              "        (11): BertLayer(\n",
              "          (attention): BertAttention(\n",
              "            (self): BertSelfAttention(\n",
              "              (query): Linear(in_features=768, out_features=768, bias=True)\n",
              "              (key): Linear(in_features=768, out_features=768, bias=True)\n",
              "              (value): Linear(in_features=768, out_features=768, bias=True)\n",
              "              (dropout): Dropout(p=0.1, inplace=False)\n",
              "            )\n",
              "            (output): BertSelfOutput(\n",
              "              (dense): Linear(in_features=768, out_features=768, bias=True)\n",
              "              (LayerNorm): LayerNorm((768,), eps=1e-12, elementwise_affine=True)\n",
              "              (dropout): Dropout(p=0.1, inplace=False)\n",
              "            )\n",
              "          )\n",
              "          (intermediate): BertIntermediate(\n",
              "            (dense): Linear(in_features=768, out_features=3072, bias=True)\n",
              "          )\n",
              "          (output): BertOutput(\n",
              "            (dense): Linear(in_features=3072, out_features=768, bias=True)\n",
              "            (LayerNorm): LayerNorm((768,), eps=1e-12, elementwise_affine=True)\n",
              "            (dropout): Dropout(p=0.1, inplace=False)\n",
              "          )\n",
              "        )\n",
              "      )\n",
              "    )\n",
              "    (pooler): BertPooler(\n",
              "      (dense): Linear(in_features=768, out_features=768, bias=True)\n",
              "      (activation): Tanh()\n",
              "    )\n",
              "  )\n",
              "  (dropout): Dropout(p=0.1, inplace=False)\n",
              "  (classifier): Linear(in_features=768, out_features=2, bias=True)\n",
              ")"
            ]
          },
          "metadata": {
            "tags": []
          },
          "execution_count": 28
        }
      ]
    },
    {
      "cell_type": "markdown",
      "metadata": {
        "id": "ukTU6hThWQfY"
      },
      "source": [
        "#Optimizer grouped parameters"
      ]
    },
    {
      "cell_type": "markdown",
      "metadata": {
        "id": "Aq7JXgGdWRlX"
      },
      "source": [
        "The program will now initialize the optimizer for the model's parameters. Finetuning\n",
        "a model begins with initializing the pretrained model parameter values (not\n",
        "their names).\n",
        "\n",
        "The parameters of the optimizer include a weight decay rate to avoid overfitting, and\n",
        "some parameters are filtered."
      ]
    },
    {
      "cell_type": "code",
      "metadata": {
        "id": "MzmgBNzOvcMl"
      },
      "source": [
        "param_optimizer = list(model.named_parameters())\n",
        "no_decay = ['bias', 'LayerNorm.weight']"
      ],
      "execution_count": null,
      "outputs": []
    },
    {
      "cell_type": "code",
      "metadata": {
        "id": "te_8aLgHvcPY"
      },
      "source": [
        "optimizer_grouped_parameters = [{'params': [p for n, p in param_optimizer if not any(nd in n for nd in no_decay)],'weight_decay_rate': 0.1},{'params': [p for n, p in param_optimizer if any(nd in n for nd in\n",
        "no_decay)],'weight_decay_rate': 0.0}\n",
        "]"
      ],
      "execution_count": null,
      "outputs": []
    },
    {
      "cell_type": "code",
      "metadata": {
        "colab": {
          "base_uri": "https://localhost:8080/"
        },
        "id": "uGaXSEv-whih",
        "outputId": "b9a487c3-02c3-4c66-f802-433fa2dac878"
      },
      "source": [
        "!pip install transformers\n",
        "from transformers import BertModel\n",
        "BertModel.from_pretrained # good to go"
      ],
      "execution_count": null,
      "outputs": [
        {
          "output_type": "stream",
          "text": [
            "Requirement already satisfied: transformers in /usr/local/lib/python3.7/dist-packages (4.8.2)\n",
            "Requirement already satisfied: importlib-metadata; python_version < \"3.8\" in /usr/local/lib/python3.7/dist-packages (from transformers) (4.5.0)\n",
            "Requirement already satisfied: sacremoses in /usr/local/lib/python3.7/dist-packages (from transformers) (0.0.45)\n",
            "Requirement already satisfied: numpy>=1.17 in /usr/local/lib/python3.7/dist-packages (from transformers) (1.19.5)\n",
            "Requirement already satisfied: huggingface-hub==0.0.12 in /usr/local/lib/python3.7/dist-packages (from transformers) (0.0.12)\n",
            "Requirement already satisfied: tokenizers<0.11,>=0.10.1 in /usr/local/lib/python3.7/dist-packages (from transformers) (0.10.3)\n",
            "Requirement already satisfied: filelock in /usr/local/lib/python3.7/dist-packages (from transformers) (3.0.12)\n",
            "Requirement already satisfied: regex!=2019.12.17 in /usr/local/lib/python3.7/dist-packages (from transformers) (2019.12.20)\n",
            "Requirement already satisfied: pyyaml in /usr/local/lib/python3.7/dist-packages (from transformers) (3.13)\n",
            "Requirement already satisfied: requests in /usr/local/lib/python3.7/dist-packages (from transformers) (2.23.0)\n",
            "Requirement already satisfied: packaging in /usr/local/lib/python3.7/dist-packages (from transformers) (20.9)\n",
            "Requirement already satisfied: tqdm>=4.27 in /usr/local/lib/python3.7/dist-packages (from transformers) (4.41.1)\n",
            "Requirement already satisfied: typing-extensions>=3.6.4; python_version < \"3.8\" in /usr/local/lib/python3.7/dist-packages (from importlib-metadata; python_version < \"3.8\"->transformers) (3.7.4.3)\n",
            "Requirement already satisfied: zipp>=0.5 in /usr/local/lib/python3.7/dist-packages (from importlib-metadata; python_version < \"3.8\"->transformers) (3.4.1)\n",
            "Requirement already satisfied: six in /usr/local/lib/python3.7/dist-packages (from sacremoses->transformers) (1.15.0)\n",
            "Requirement already satisfied: click in /usr/local/lib/python3.7/dist-packages (from sacremoses->transformers) (7.1.2)\n",
            "Requirement already satisfied: joblib in /usr/local/lib/python3.7/dist-packages (from sacremoses->transformers) (1.0.1)\n",
            "Requirement already satisfied: idna<3,>=2.5 in /usr/local/lib/python3.7/dist-packages (from requests->transformers) (2.10)\n",
            "Requirement already satisfied: urllib3!=1.25.0,!=1.25.1,<1.26,>=1.21.1 in /usr/local/lib/python3.7/dist-packages (from requests->transformers) (1.24.3)\n",
            "Requirement already satisfied: certifi>=2017.4.17 in /usr/local/lib/python3.7/dist-packages (from requests->transformers) (2021.5.30)\n",
            "Requirement already satisfied: chardet<4,>=3.0.2 in /usr/local/lib/python3.7/dist-packages (from requests->transformers) (3.0.4)\n",
            "Requirement already satisfied: pyparsing>=2.0.2 in /usr/local/lib/python3.7/dist-packages (from packaging->transformers) (2.4.7)\n"
          ],
          "name": "stdout"
        },
        {
          "output_type": "execute_result",
          "data": {
            "text/plain": [
              "<bound method PreTrainedModel.from_pretrained of <class 'transformers.models.bert.modeling_bert.BertModel'>>"
            ]
          },
          "metadata": {
            "tags": []
          },
          "execution_count": 37
        }
      ]
    },
    {
      "cell_type": "code",
      "metadata": {
        "colab": {
          "base_uri": "https://localhost:8080/"
        },
        "id": "zb2A1Ja9yZLf",
        "outputId": "6435b478-def8-4eaa-e8c9-951208a7ff70"
      },
      "source": [
        "!pip install pytorch_pretrained_bert==0.4.0"
      ],
      "execution_count": null,
      "outputs": [
        {
          "output_type": "stream",
          "text": [
            "Requirement already satisfied: pytorch_pretrained_bert==0.4.0 in /usr/local/lib/python3.7/dist-packages (0.4.0)\n",
            "Requirement already satisfied: torch>=0.4.1 in /usr/local/lib/python3.7/dist-packages (from pytorch_pretrained_bert==0.4.0) (1.9.0+cu102)\n",
            "Requirement already satisfied: tqdm in /usr/local/lib/python3.7/dist-packages (from pytorch_pretrained_bert==0.4.0) (4.41.1)\n",
            "Requirement already satisfied: boto3 in /usr/local/lib/python3.7/dist-packages (from pytorch_pretrained_bert==0.4.0) (1.17.105)\n",
            "Requirement already satisfied: numpy in /usr/local/lib/python3.7/dist-packages (from pytorch_pretrained_bert==0.4.0) (1.19.5)\n",
            "Requirement already satisfied: requests in /usr/local/lib/python3.7/dist-packages (from pytorch_pretrained_bert==0.4.0) (2.23.0)\n",
            "Requirement already satisfied: typing-extensions in /usr/local/lib/python3.7/dist-packages (from torch>=0.4.1->pytorch_pretrained_bert==0.4.0) (3.7.4.3)\n",
            "Requirement already satisfied: s3transfer<0.5.0,>=0.4.0 in /usr/local/lib/python3.7/dist-packages (from boto3->pytorch_pretrained_bert==0.4.0) (0.4.2)\n",
            "Requirement already satisfied: jmespath<1.0.0,>=0.7.1 in /usr/local/lib/python3.7/dist-packages (from boto3->pytorch_pretrained_bert==0.4.0) (0.10.0)\n",
            "Requirement already satisfied: botocore<1.21.0,>=1.20.105 in /usr/local/lib/python3.7/dist-packages (from boto3->pytorch_pretrained_bert==0.4.0) (1.20.105)\n",
            "Requirement already satisfied: urllib3!=1.25.0,!=1.25.1,<1.26,>=1.21.1 in /usr/local/lib/python3.7/dist-packages (from requests->pytorch_pretrained_bert==0.4.0) (1.24.3)\n",
            "Requirement already satisfied: idna<3,>=2.5 in /usr/local/lib/python3.7/dist-packages (from requests->pytorch_pretrained_bert==0.4.0) (2.10)\n",
            "Requirement already satisfied: chardet<4,>=3.0.2 in /usr/local/lib/python3.7/dist-packages (from requests->pytorch_pretrained_bert==0.4.0) (3.0.4)\n",
            "Requirement already satisfied: certifi>=2017.4.17 in /usr/local/lib/python3.7/dist-packages (from requests->pytorch_pretrained_bert==0.4.0) (2021.5.30)\n",
            "Requirement already satisfied: python-dateutil<3.0.0,>=2.1 in /usr/local/lib/python3.7/dist-packages (from botocore<1.21.0,>=1.20.105->boto3->pytorch_pretrained_bert==0.4.0) (2.8.1)\n",
            "Requirement already satisfied: six>=1.5 in /usr/local/lib/python3.7/dist-packages (from python-dateutil<3.0.0,>=2.1->botocore<1.21.0,>=1.20.105->boto3->pytorch_pretrained_bert==0.4.0) (1.15.0)\n"
          ],
          "name": "stdout"
        }
      ]
    },
    {
      "cell_type": "code",
      "metadata": {
        "id": "rJ72sSnN4N2x"
      },
      "source": [
        "from transformers.models.bert.modeling_bert import BertLayer"
      ],
      "execution_count": null,
      "outputs": []
    },
    {
      "cell_type": "markdown",
      "metadata": {
        "id": "uOtiuBH9Wgcq"
      },
      "source": [
        "#The hyperparameters for the training loop"
      ]
    },
    {
      "cell_type": "markdown",
      "metadata": {
        "id": "BiserBvLWiPp"
      },
      "source": [
        "The hyperparameters for the training loop are critical, though they seem innocuous.\n",
        "Adam will activate weight decay and also go through a warm-up phase, for example.\n",
        "\n",
        "The learning rate (lr) and warm-up rate (warmup) should be set to a very small value\n",
        "early in the optimization phase and gradually increase after a certain number of\n",
        "iterations. This avoids large gradients and overshooting the optimization goals."
      ]
    },
    {
      "cell_type": "code",
      "metadata": {
        "id": "sCTHBj-WwYVJ"
      },
      "source": [
        "epochs = 4\n",
        "\n",
        "optimizer = AdamW(optimizer_grouped_parameters,\n",
        "                  lr = 2e-5, # args.learning_rate - default is 5e-5, our notebook had 2e-5\n",
        "                  eps = 1e-8 # args.adam_epsilon  - default is 1e-8.\n",
        "                  )\n",
        "# Total number of training steps is number of batches * number of epochs.\n",
        "# `train_dataloader` contains batched data so `len(train_dataloader)` gives \n",
        "# us the number of batches.\n",
        "total_steps = len(train_dataloader) * epochs\n",
        "\n",
        "# Create the learning rate scheduler.\n",
        "scheduler = get_linear_schedule_with_warmup(optimizer, \n",
        "                                            num_warmup_steps = 0, # Default value in run_glue.py\n",
        "                                            num_training_steps = total_steps)"
      ],
      "execution_count": null,
      "outputs": []
    },
    {
      "cell_type": "markdown",
      "metadata": {
        "id": "xlfjrjEWWsQ6"
      },
      "source": [
        "The program adds an accuracy measurement function to compare the predictions to\n",
        "the labels:"
      ]
    },
    {
      "cell_type": "code",
      "metadata": {
        "id": "BwYPb5w56fBf"
      },
      "source": [
        "def flat_accuracy(preds, labels):\n",
        "  pred_flat = np.argmax(preds, axis=1).flatten()\n",
        "  labels_flat = labels.flatten()\n",
        "  return np.sum(pred_flat == labels_flat) / len(labels_flat)"
      ],
      "execution_count": null,
      "outputs": []
    },
    {
      "cell_type": "markdown",
      "metadata": {
        "id": "ZGFL1UPuWv47"
      },
      "source": [
        "#The training loop"
      ]
    },
    {
      "cell_type": "markdown",
      "metadata": {
        "id": "l2aaIECaWz9E"
      },
      "source": [
        "The training loop follows standard learning processes. The number of epochs is set\n",
        "to 4, and there is a measurement for loss and accuracy, which will be plotted. The\n",
        "training loop uses the dataloader load and train batches. The training process is\n",
        "measured and evaluated."
      ]
    },
    {
      "cell_type": "code",
      "metadata": {
        "colab": {
          "base_uri": "https://localhost:8080/"
        },
        "id": "6wPw6JhR6nNv",
        "outputId": "ac0fe9eb-9234-430d-c2c2-91bfdbc0a509"
      },
      "source": [
        "#@title The Training Loop\n",
        "t = [] \n",
        "\n",
        "# Store our loss and accuracy for plotting\n",
        "train_loss_set = []\n",
        "\n",
        "# trange is a tqdm wrapper around the normal python range\n",
        "for _ in trange(epochs, desc=\"Epoch\"):\n",
        "  \n",
        "  \n",
        "  # Training\n",
        "  \n",
        "  # Set our model to training mode (as opposed to evaluation mode)\n",
        "  model.train()\n",
        "  \n",
        "  # Tracking variables\n",
        "  tr_loss = 0\n",
        "  nb_tr_examples, nb_tr_steps = 0, 0\n",
        "  \n",
        "  # Train the data for one epoch\n",
        "  for step, batch in enumerate(train_dataloader):\n",
        "    # Add batch to GPU\n",
        "    batch = tuple(t.to(device) for t in batch)\n",
        "    # Unpack the inputs from our dataloader\n",
        "    b_input_ids, b_input_mask, b_labels = batch\n",
        "    # Clear out the gradients (by default they accumulate)\n",
        "    optimizer.zero_grad()\n",
        "    # Forward pass\n",
        "    outputs = model(b_input_ids, token_type_ids=None, attention_mask=b_input_mask, labels=b_labels)\n",
        "    loss = outputs['loss']\n",
        "    train_loss_set.append(loss.item())    \n",
        "    # Backward pass\n",
        "    loss.backward()\n",
        "    # Update parameters and take a step using the computed gradient\n",
        "    optimizer.step()\n",
        "\n",
        "    # Update the learning rate.\n",
        "    scheduler.step()\n",
        "    \n",
        "    \n",
        "    # Update tracking variables\n",
        "    tr_loss += loss.item()\n",
        "    nb_tr_examples += b_input_ids.size(0)\n",
        "    nb_tr_steps += 1\n",
        "\n",
        "  print(\"Train loss: {}\".format(tr_loss/nb_tr_steps))\n",
        "    \n",
        "    \n",
        "  # Validation\n",
        "\n",
        "  # Put model in evaluation mode to evaluate loss on the validation set\n",
        "  model.eval()\n",
        "\n",
        "  # Tracking variables \n",
        "  eval_loss, eval_accuracy = 0, 0\n",
        "  nb_eval_steps, nb_eval_examples = 0, 0\n",
        "\n",
        "  # Evaluate data for one epoch\n",
        "  for batch in validation_dataloader:\n",
        "    # Add batch to GPU\n",
        "    batch = tuple(t.to(device) for t in batch)\n",
        "    # Unpack the inputs from our dataloader\n",
        "    b_input_ids, b_input_mask, b_labels = batch\n",
        "    # Telling the model not to compute or store gradients, saving memory and speeding up validation\n",
        "    with torch.no_grad():\n",
        "      # Forward pass, calculate logit predictions\n",
        "      logits = model(b_input_ids, token_type_ids=None, attention_mask=b_input_mask)\n",
        "    \n",
        "    # Move logits and labels to CPU\n",
        "    logits = logits['logits'].detach().cpu().numpy()\n",
        "    label_ids = b_labels.to('cpu').numpy()\n",
        "\n",
        "    tmp_eval_accuracy = flat_accuracy(logits, label_ids)\n",
        "    \n",
        "    eval_accuracy += tmp_eval_accuracy\n",
        "    nb_eval_steps += 1\n",
        "\n",
        "  print(\"Validation Accuracy: {}\".format(eval_accuracy/nb_eval_steps))"
      ],
      "execution_count": null,
      "outputs": [
        {
          "output_type": "stream",
          "text": [
            "\rEpoch:   0%|          | 0/4 [00:00<?, ?it/s]"
          ],
          "name": "stderr"
        },
        {
          "output_type": "stream",
          "text": [
            "Train loss: 0.4735703720591375\n"
          ],
          "name": "stdout"
        },
        {
          "output_type": "stream",
          "text": [
            "\rEpoch:  25%|██▌       | 1/4 [02:50<08:31, 170.64s/it]"
          ],
          "name": "stderr"
        },
        {
          "output_type": "stream",
          "text": [
            "Validation Accuracy: 0.804783950617284\n",
            "Train loss: 0.2792951742581312\n"
          ],
          "name": "stdout"
        },
        {
          "output_type": "stream",
          "text": [
            "\rEpoch:  50%|█████     | 2/4 [05:41<05:41, 170.81s/it]"
          ],
          "name": "stderr"
        },
        {
          "output_type": "stream",
          "text": [
            "Validation Accuracy: 0.8236882716049382\n",
            "Train loss: 0.15541913138540206\n"
          ],
          "name": "stdout"
        },
        {
          "output_type": "stream",
          "text": [
            "\rEpoch:  75%|███████▌  | 3/4 [08:33<02:50, 170.99s/it]"
          ],
          "name": "stderr"
        },
        {
          "output_type": "stream",
          "text": [
            "Validation Accuracy: 0.8333333333333334\n",
            "Train loss: 0.09459961339815895\n"
          ],
          "name": "stdout"
        },
        {
          "output_type": "stream",
          "text": [
            "Epoch: 100%|██████████| 4/4 [11:24<00:00, 171.08s/it]"
          ],
          "name": "stderr"
        },
        {
          "output_type": "stream",
          "text": [
            "Validation Accuracy: 0.8240740740740741\n"
          ],
          "name": "stdout"
        },
        {
          "output_type": "stream",
          "text": [
            "\n"
          ],
          "name": "stderr"
        }
      ]
    },
    {
      "cell_type": "markdown",
      "metadata": {
        "id": "j7ZljJ6nXG21"
      },
      "source": [
        "#Training evaluation"
      ]
    },
    {
      "cell_type": "markdown",
      "metadata": {
        "id": "4ThCsTIgXIKI"
      },
      "source": [
        "The loss and accuracy values were stored in train_loss_set as defined at the\n",
        "beginning of the training loop."
      ]
    },
    {
      "cell_type": "code",
      "metadata": {
        "colab": {
          "base_uri": "https://localhost:8080/",
          "height": 513
        },
        "id": "m5w6ftB_BB_h",
        "outputId": "c6b3192d-3a64-4f17-f31c-95ddf1855016"
      },
      "source": [
        "plt.figure(figsize=(15,8))\n",
        "plt.title(\"Training loss\")\n",
        "plt.xlabel(\"Batch\")\n",
        "plt.ylabel(\"Loss\")\n",
        "plt.plot(train_loss_set)\n",
        "plt.show()"
      ],
      "execution_count": null,
      "outputs": [
        {
          "output_type": "display_data",
          "data": {
            "image/png": "[encoded data removed]",
            "text/plain": [
              "<Figure size 1080x576 with 1 Axes>"
            ]
          },
          "metadata": {
            "tags": [],
            "needs_background": "light"
          }
        }
      ]
    },
    {
      "cell_type": "markdown",
      "metadata": {
        "id": "jSHuenmdXRHT"
      },
      "source": [
        "#Predicting and evaluating using the holdout dataset "
      ]
    },
    {
      "cell_type": "markdown",
      "metadata": {
        "id": "dCsID9anXiWK"
      },
      "source": [
        "The BERT downstream model was trained with the in_domain_train.tsv dataset.\n",
        "The program will now make predictions using the holdout (testing) dataset\n",
        "contained in the out_of_domain_dev.tsv file. The goal is to predict whether the\n",
        "sentence is grammatically correct."
      ]
    },
    {
      "cell_type": "code",
      "metadata": {
        "id": "gom8rnzJBEVP"
      },
      "source": [
        "df = pd.read_csv(\"/content/out_of_domain_dev.tsv\", delimiter='\\t', header=None, names=['sentence_source', 'label', 'label_notes', 'sentence'])\n",
        "\n",
        "# Create sentence and label lists\n",
        "sentences = df.sentence.values\n",
        "\n",
        "# We need to add special tokens at the beginning and end of each sentence for BERT to work properly\n",
        "sentences = [\"[CLS] \" + sentence + \" [SEP]\" for sentence in sentences]\n",
        "labels = df.label.values\n",
        "\n",
        "tokenized_texts = [tokenizer.tokenize(sent) for sent in sentences]\n",
        "\n",
        "\n",
        "MAX_LEN = 128\n",
        "\n",
        "# Use the BERT tokenizer to convert the tokens to their index numbers in the BERT vocabulary\n",
        "input_ids = [tokenizer.convert_tokens_to_ids(x) for x in tokenized_texts]\n",
        "# Pad our input tokens\n",
        "input_ids = pad_sequences(input_ids, maxlen=MAX_LEN, dtype=\"long\", truncating=\"post\", padding=\"post\")\n",
        "# Create attention masks\n",
        "attention_masks = []\n",
        "\n",
        "# Create a mask of 1s for each token followed by 0s for padding\n",
        "for seq in input_ids:\n",
        "  seq_mask = [float(i>0) for i in seq]\n",
        "  attention_masks.append(seq_mask) \n",
        "\n",
        "prediction_inputs = torch.tensor(input_ids)\n",
        "prediction_masks = torch.tensor(attention_masks)\n",
        "prediction_labels = torch.tensor(labels)\n",
        "  \n",
        "batch_size = 32  \n",
        "\n",
        "\n",
        "prediction_data = TensorDataset(prediction_inputs, prediction_masks, prediction_labels)\n",
        "prediction_sampler = SequentialSampler(prediction_data)\n",
        "prediction_dataloader = DataLoader(prediction_data, sampler=prediction_sampler, batch_size=batch_size)"
      ],
      "execution_count": null,
      "outputs": []
    },
    {
      "cell_type": "markdown",
      "metadata": {
        "id": "rLp81I7cXs2H"
      },
      "source": [
        "#Evaluating using Matthews Correlation Coefficient"
      ]
    },
    {
      "cell_type": "markdown",
      "metadata": {
        "id": "ZpyaEcw7Xu5i"
      },
      "source": [
        "The Matthews Correlation Coefficient (MCC) was initially designed to measure the\n",
        "quality of binary classifications and can be modified to be a multi-class correlation\n",
        "coefficient. A two-class classification can be made with four probabilities at each\n",
        "prediction:\n",
        "\n",
        "• TP = True Positive\n",
        "\n",
        "• TN = True Negative\n",
        "\n",
        "• FP = False Positive\n",
        "\n",
        "• FN = False Negative"
      ]
    },
    {
      "cell_type": "code",
      "metadata": {
        "id": "UoJQGMiSX1bb"
      },
      "source": [
        ""
      ],
      "execution_count": null,
      "outputs": []
    },
    {
      "cell_type": "code",
      "metadata": {
        "id": "LlnIjGsEBPp3"
      },
      "source": [
        "# Put model in evaluation mode\n",
        "model.eval()\n",
        "\n",
        "# Tracking variables \n",
        "predictions , true_labels = [], []\n",
        "\n",
        "# Predict \n",
        "for batch in prediction_dataloader:\n",
        "  # Add batch to GPU\n",
        "  batch = tuple(t.to(device) for t in batch)\n",
        "  # Unpack the inputs from our dataloader\n",
        "  b_input_ids, b_input_mask, b_labels = batch\n",
        "  # Telling the model not to compute or store gradients, saving memory and speeding up prediction\n",
        "  with torch.no_grad():\n",
        "    # Forward pass, calculate logit predictions\n",
        "    logits = model(b_input_ids, token_type_ids=None, attention_mask=b_input_mask)\n",
        "\n",
        "  # Move logits and labels to CPU\n",
        "  logits = logits['logits'].detach().cpu().numpy()\n",
        "  label_ids = b_labels.to('cpu').numpy()\n",
        "  \n",
        "  # Store predictions and true labels\n",
        "  predictions.append(logits)\n",
        "  true_labels.append(label_ids)"
      ],
      "execution_count": null,
      "outputs": []
    },
    {
      "cell_type": "code",
      "metadata": {
        "colab": {
          "base_uri": "https://localhost:8080/"
        },
        "id": "S0RdO1z4BRUH",
        "outputId": "77a0b8b6-0550-4134-bb09-aa08c8c6b368"
      },
      "source": [
        "# Import and evaluate each test batch using Matthew's correlation coefficient\n",
        "from sklearn.metrics import matthews_corrcoef\n",
        "matthews_set = []\n",
        "\n",
        "for i in range(len(true_labels)):\n",
        "  matthews = matthews_corrcoef(true_labels[i],\n",
        "                 np.argmax(predictions[i], axis=1).flatten())\n",
        "  matthews_set.append(matthews)"
      ],
      "execution_count": null,
      "outputs": [
        {
          "output_type": "stream",
          "text": [
            "/usr/local/lib/python3.7/dist-packages/sklearn/metrics/_classification.py:900: RuntimeWarning: invalid value encountered in double_scalars\n",
            "  mcc = cov_ytyp / np.sqrt(cov_ytyt * cov_ypyp)\n"
          ],
          "name": "stderr"
        }
      ]
    },
    {
      "cell_type": "markdown",
      "metadata": {
        "id": "PGxWyosAY8yX"
      },
      "source": [
        "#The score of individual batches"
      ]
    },
    {
      "cell_type": "code",
      "metadata": {
        "colab": {
          "base_uri": "https://localhost:8080/"
        },
        "id": "oiRcIc2qBViH",
        "outputId": "b48e8bdb-dcee-4a62-c71a-73098448d76d"
      },
      "source": [
        "matthews_set"
      ],
      "execution_count": null,
      "outputs": [
        {
          "output_type": "execute_result",
          "data": {
            "text/plain": [
              "[0.049286405809014416,\n",
              " -0.21684543705982773,\n",
              " 0.4732058754737091,\n",
              " 0.23372319715296222,\n",
              " 0.24816038707378335,\n",
              " 0.7410010097502685,\n",
              " 0.4526019054848144,\n",
              " 0.47519096331149147,\n",
              " 0.8320502943378436,\n",
              " 0.8805899139163632,\n",
              " 0.9229582069908973,\n",
              " 0.7419408268023742,\n",
              " 0.8150678894028793,\n",
              " 0.7141684885491869,\n",
              " 0.1794871794871795,\n",
              " 0.49382916465843113,\n",
              " 0.0]"
            ]
          },
          "metadata": {
            "tags": []
          },
          "execution_count": 70
        }
      ]
    },
    {
      "cell_type": "markdown",
      "metadata": {
        "id": "mHb2mMslZQ9-"
      },
      "source": [
        "#Matthews evaluation for the whole dataset"
      ]
    },
    {
      "cell_type": "code",
      "metadata": {
        "colab": {
          "base_uri": "https://localhost:8080/"
        },
        "id": "B8wt8uWWBXyy",
        "outputId": "7bd5b3e3-69c6-4ccf-dc86-01de669ee648"
      },
      "source": [
        "flat_predictions = [item for sublist in predictions for item in sublist]\n",
        "flat_predictions = np.argmax(flat_predictions, axis=1).flatten()\n",
        "flat_true_labels = [item for sublist in true_labels for item in sublist]\n",
        "matthews_corrcoef(flat_true_labels, flat_predictions)"
      ],
      "execution_count": null,
      "outputs": [
        {
          "output_type": "execute_result",
          "data": {
            "text/plain": [
              "0.5347221406301049"
            ]
          },
          "metadata": {
            "tags": []
          },
          "execution_count": 71
        }
      ]
    }
  ]
}
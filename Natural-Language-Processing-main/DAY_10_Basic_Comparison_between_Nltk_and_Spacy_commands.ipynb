{
  "nbformat": 4,
  "nbformat_minor": 0,
  "metadata": {
    "colab": {
      "name": "DAY-10 Basic Comparison between Nltk and Spacy commands.ipynb",
      "provenance": [],
      "authorship_tag": "ABX9TyPvqiKGWhVTDidMCl2xt3gw",
      "include_colab_link": true
    },
    "kernelspec": {
      "name": "python3",
      "display_name": "Python 3"
    },
    "language_info": {
      "name": "python"
    }
  },
  "cells": [
    {
      "cell_type": "markdown",
      "metadata": {
        "id": "view-in-github",
        "colab_type": "text"
      },
      "source": [
        "<a href=\"https://colab.research.google.com/github/Ajay-Sai-Kiran/Natural-Language-Processing/blob/main/DAY_10_Basic_Comparison_between_Nltk_and_Spacy_commands.ipynb\" target=\"_parent\"><img src=\"https://colab.research.google.com/assets/colab-badge.svg\" alt=\"Open In Colab\"/></a>"
      ]
    },
    {
      "cell_type": "markdown",
      "source": [
        "#Basic Comparison between Nltk and Spacy commands"
      ],
      "metadata": {
        "id": "o5mMhQ11q_hM"
      }
    },
    {
      "cell_type": "code",
      "execution_count": 3,
      "metadata": {
        "id": "FxxfP4lcQh_r"
      },
      "outputs": [],
      "source": [
        "#SPACY\n",
        "import spacy \n",
        "#NLTK\n",
        "import nltk"
      ]
    },
    {
      "cell_type": "code",
      "source": [
        "\t\n",
        "text = \"India has reported 6,650 new cases of Covid-19 and 374 deaths in 24 hours, the government said on Friday. Omicron tally in the country has jumped to 358. Active caseload in the country stands at 77,516.\""
      ],
      "metadata": {
        "id": "7vYW7x-_QkLJ"
      },
      "execution_count": 25,
      "outputs": []
    },
    {
      "cell_type": "markdown",
      "source": [
        "#Word Tokenization"
      ],
      "metadata": {
        "id": "hnZdyB95rGQa"
      }
    },
    {
      "cell_type": "markdown",
      "source": [
        "#SpaCy:"
      ],
      "metadata": {
        "id": "3ZaBhBsjQuaJ"
      }
    },
    {
      "cell_type": "code",
      "source": [
        "nlp = spacy.load(\"en_core_web_sm\")\n",
        "doc = nlp(text)\n",
        "tokens = [token.text for token in doc]\n",
        "print(tokens)"
      ],
      "metadata": {
        "colab": {
          "base_uri": "https://localhost:8080/"
        },
        "id": "U1ROqfpbQsrU",
        "outputId": "1f5ede3e-5df5-4eec-b04c-bea27f8ff4c7"
      },
      "execution_count": 26,
      "outputs": [
        {
          "output_type": "stream",
          "name": "stdout",
          "text": [
            "['India', 'has', 'reported', '6,650', 'new', 'cases', 'of', 'Covid-19', 'and', '374', 'deaths', 'in', '24', 'hours', ',', 'the', 'government', 'said', 'on', 'Friday', '.', 'Omicron', 'tally', 'in', 'the', 'country', 'has', 'jumped', 'to', '358', '.', 'Active', 'caseload', 'in', 'the', 'country', 'stands', 'at', '77,516']\n"
          ]
        }
      ]
    },
    {
      "cell_type": "markdown",
      "source": [
        "#In nltk"
      ],
      "metadata": {
        "id": "8d0iqsPfQ01p"
      }
    },
    {
      "cell_type": "code",
      "source": [
        "import nltk\n",
        "nltk.download('punkt')"
      ],
      "metadata": {
        "colab": {
          "base_uri": "https://localhost:8080/"
        },
        "id": "PDllv5l9nS_f",
        "outputId": "70fc1dfa-1fe4-416d-ac06-ab454c9ba611"
      },
      "execution_count": 27,
      "outputs": [
        {
          "output_type": "stream",
          "name": "stdout",
          "text": [
            "[nltk_data] Downloading package punkt to /root/nltk_data...\n",
            "[nltk_data]   Package punkt is already up-to-date!\n"
          ]
        },
        {
          "output_type": "execute_result",
          "data": {
            "text/plain": [
              "True"
            ]
          },
          "metadata": {},
          "execution_count": 27
        }
      ]
    },
    {
      "cell_type": "code",
      "source": [
        "from nltk.tokenize import word_tokenize\n",
        "print(word_tokenize(text))"
      ],
      "metadata": {
        "id": "ujBmjndgRCBq",
        "colab": {
          "base_uri": "https://localhost:8080/"
        },
        "outputId": "2934c63e-bfc9-4b0a-dc1d-2352092273a1"
      },
      "execution_count": 28,
      "outputs": [
        {
          "output_type": "stream",
          "name": "stdout",
          "text": [
            "['India', 'has', 'reported', '6,650', 'new', 'cases', 'of', 'Covid-19', 'and', '374', 'deaths', 'in', '24', 'hours', ',', 'the', 'government', 'said', 'on', 'Friday', '.', 'Omicron', 'tally', 'in', 'the', 'country', 'has', 'jumped', 'to', '358', '.', 'Active', 'caseload', 'in', 'the', 'country', 'stands', 'at', '77,516']\n"
          ]
        }
      ]
    },
    {
      "cell_type": "markdown",
      "source": [
        "#Sentence Tokenization"
      ],
      "metadata": {
        "id": "-KMDv_UHnaBC"
      }
    },
    {
      "cell_type": "markdown",
      "source": [
        "#In Spacy"
      ],
      "metadata": {
        "id": "hE2dIxeXnqVr"
      }
    },
    {
      "cell_type": "code",
      "source": [
        "docu=nlp(text)\n",
        "for sent in docu.sents:\n",
        "  print(sent)"
      ],
      "metadata": {
        "id": "_eZGqnNFQ0QJ",
        "colab": {
          "base_uri": "https://localhost:8080/"
        },
        "outputId": "e785c306-2552-4721-8b37-71674ba2d8af"
      },
      "execution_count": 29,
      "outputs": [
        {
          "output_type": "stream",
          "name": "stdout",
          "text": [
            "India has reported 6,650 new cases of Covid-19 and 374 deaths in 24 hours, the government said on Friday.\n",
            "Omicron tally in the country has jumped to 358.\n",
            "Active caseload in the country stands at 77,516\n"
          ]
        }
      ]
    },
    {
      "cell_type": "markdown",
      "source": [
        "#In Nltk"
      ],
      "metadata": {
        "id": "lvrA_-CBns17"
      }
    },
    {
      "cell_type": "code",
      "source": [
        "from nltk.tokenize import sent_tokenize\n",
        "print(sent_tokenize(text))"
      ],
      "metadata": {
        "colab": {
          "base_uri": "https://localhost:8080/"
        },
        "id": "_jemKQLznn_1",
        "outputId": "2aa827dc-8814-4ca6-fb80-490cf263f193"
      },
      "execution_count": 30,
      "outputs": [
        {
          "output_type": "stream",
          "name": "stdout",
          "text": [
            "['India has reported 6,650 new cases of Covid-19 and 374 deaths in 24 hours, the government said on Friday.', 'Omicron tally in the country has jumped to 358.', 'Active caseload in the country stands at 77,516']\n"
          ]
        }
      ]
    },
    {
      "cell_type": "markdown",
      "source": [
        "#Stopword Removal"
      ],
      "metadata": {
        "id": "Na39KHSQn69b"
      }
    },
    {
      "cell_type": "markdown",
      "source": [
        "#In Spacy"
      ],
      "metadata": {
        "id": "cyba42Uyn8Ib"
      }
    },
    {
      "cell_type": "code",
      "source": [
        "doc = nlp(text)\n",
        "text_without_stp_wrds = [token.text for token in doc if token.is_stop == False]\n",
        "print(text_without_stp_wrds)"
      ],
      "metadata": {
        "colab": {
          "base_uri": "https://localhost:8080/"
        },
        "id": "-4SE98hXn3pg",
        "outputId": "c971e269-25f5-4aef-a40f-94c69cd50a12"
      },
      "execution_count": 31,
      "outputs": [
        {
          "output_type": "stream",
          "name": "stdout",
          "text": [
            "['India', 'reported', '6,650', 'new', 'cases', 'Covid-19', '374', 'deaths', '24', 'hours', ',', 'government', 'said', 'Friday', '.', 'Omicron', 'tally', 'country', 'jumped', '358', '.', 'Active', 'caseload', 'country', 'stands', '77,516']\n"
          ]
        }
      ]
    },
    {
      "cell_type": "markdown",
      "source": [
        "#In Nltk"
      ],
      "metadata": {
        "id": "W1D9qUAboIRK"
      }
    },
    {
      "cell_type": "code",
      "source": [
        "import nltk\n",
        "nltk.download('stopwords')"
      ],
      "metadata": {
        "colab": {
          "base_uri": "https://localhost:8080/"
        },
        "id": "nEyKMjJ9oRhD",
        "outputId": "8eaa5cac-dc44-4912-f3cf-1db23e43fd04"
      },
      "execution_count": 32,
      "outputs": [
        {
          "output_type": "stream",
          "name": "stdout",
          "text": [
            "[nltk_data] Downloading package stopwords to /root/nltk_data...\n",
            "[nltk_data]   Package stopwords is already up-to-date!\n"
          ]
        },
        {
          "output_type": "execute_result",
          "data": {
            "text/plain": [
              "True"
            ]
          },
          "metadata": {},
          "execution_count": 32
        }
      ]
    },
    {
      "cell_type": "code",
      "source": [
        "from nltk.corpus import stopwords \n",
        "from nltk.tokenize import word_tokenize \n",
        "   \n",
        "stop_words = set(stopwords.words('english')) \n",
        "words = text.split() \n",
        "text_without_sw = [token for token in words if not token in stop_words]\n",
        "print(text_without_sw)"
      ],
      "metadata": {
        "colab": {
          "base_uri": "https://localhost:8080/"
        },
        "id": "6TeBGasroLSq",
        "outputId": "b7728420-f728-47a0-de8d-802c453cf4f2"
      },
      "execution_count": 33,
      "outputs": [
        {
          "output_type": "stream",
          "name": "stdout",
          "text": [
            "['India', 'reported', '6,650', 'new', 'cases', 'Covid-19', '374', 'deaths', '24', 'hours,', 'government', 'said', 'Friday.', 'Omicron', 'tally', 'country', 'jumped', '358.', 'Active', 'caseload', 'country', 'stands', '77,516']\n"
          ]
        }
      ]
    },
    {
      "cell_type": "markdown",
      "source": [
        "#POS Tagging"
      ],
      "metadata": {
        "id": "1g-JKVfeoXJ0"
      }
    },
    {
      "cell_type": "markdown",
      "source": [
        "#In Spacy"
      ],
      "metadata": {
        "id": "iRCwf3jNoX6C"
      }
    },
    {
      "cell_type": "code",
      "source": [
        "doc = nlp(text)\n",
        "tokens_with_POS = [token.text + \" - \" + token.pos_ for token in doc]\n",
        "print(tokens_with_POS)"
      ],
      "metadata": {
        "colab": {
          "base_uri": "https://localhost:8080/"
        },
        "id": "OiXPajy7oVab",
        "outputId": "02911ac1-902d-4ae2-8e9a-8969f6dd0eb6"
      },
      "execution_count": 34,
      "outputs": [
        {
          "output_type": "stream",
          "name": "stdout",
          "text": [
            "['India - PROPN', 'has - AUX', 'reported - VERB', '6,650 - NUM', 'new - ADJ', 'cases - NOUN', 'of - ADP', 'Covid-19 - PROPN', 'and - CCONJ', '374 - NUM', 'deaths - NOUN', 'in - ADP', '24 - NUM', 'hours - NOUN', ', - PUNCT', 'the - DET', 'government - NOUN', 'said - VERB', 'on - ADP', 'Friday - PROPN', '. - PUNCT', 'Omicron - NOUN', 'tally - NOUN', 'in - ADP', 'the - DET', 'country - NOUN', 'has - AUX', 'jumped - VERB', 'to - ADP', '358 - NUM', '. - PUNCT', 'Active - ADJ', 'caseload - NOUN', 'in - ADP', 'the - DET', 'country - NOUN', 'stands - VERB', 'at - ADP', '77,516 - NUM']\n"
          ]
        }
      ]
    },
    {
      "cell_type": "markdown",
      "source": [
        "#In Nltk"
      ],
      "metadata": {
        "id": "Ez_Tnz03ofzy"
      }
    },
    {
      "cell_type": "code",
      "source": [
        "import nltk\n",
        "nltk.download('averaged_perceptron_tagger')"
      ],
      "metadata": {
        "colab": {
          "base_uri": "https://localhost:8080/"
        },
        "id": "dcGUsxe6otkD",
        "outputId": "7c77820c-cd05-48e7-df3e-246bbd90cd0c"
      },
      "execution_count": 35,
      "outputs": [
        {
          "output_type": "stream",
          "name": "stdout",
          "text": [
            "[nltk_data] Downloading package averaged_perceptron_tagger to\n",
            "[nltk_data]     /root/nltk_data...\n",
            "[nltk_data]   Package averaged_perceptron_tagger is already up-to-\n",
            "[nltk_data]       date!\n"
          ]
        },
        {
          "output_type": "execute_result",
          "data": {
            "text/plain": [
              "True"
            ]
          },
          "metadata": {},
          "execution_count": 35
        }
      ]
    },
    {
      "cell_type": "code",
      "source": [
        "from nltk.tag import pos_tag\n",
        "sent = nltk.word_tokenize(text)\n",
        "sent = nltk.pos_tag(sent)\n",
        "print(sent)"
      ],
      "metadata": {
        "colab": {
          "base_uri": "https://localhost:8080/"
        },
        "id": "4sNS3W2mohcD",
        "outputId": "8e47aeb6-45be-449b-f00a-6c7e4f6fe68d"
      },
      "execution_count": 36,
      "outputs": [
        {
          "output_type": "stream",
          "name": "stdout",
          "text": [
            "[('India', 'NNP'), ('has', 'VBZ'), ('reported', 'VBN'), ('6,650', 'CD'), ('new', 'JJ'), ('cases', 'NNS'), ('of', 'IN'), ('Covid-19', 'NNP'), ('and', 'CC'), ('374', 'CD'), ('deaths', 'NNS'), ('in', 'IN'), ('24', 'CD'), ('hours', 'NNS'), (',', ','), ('the', 'DT'), ('government', 'NN'), ('said', 'VBD'), ('on', 'IN'), ('Friday', 'NNP'), ('.', '.'), ('Omicron', 'NNP'), ('tally', 'RB'), ('in', 'IN'), ('the', 'DT'), ('country', 'NN'), ('has', 'VBZ'), ('jumped', 'VBN'), ('to', 'TO'), ('358', 'CD'), ('.', '.'), ('Active', 'JJ'), ('caseload', 'NN'), ('in', 'IN'), ('the', 'DT'), ('country', 'NN'), ('stands', 'VBZ'), ('at', 'IN'), ('77,516', 'CD')]\n"
          ]
        }
      ]
    },
    {
      "cell_type": "markdown",
      "source": [
        "#Named Entity Recognization"
      ],
      "metadata": {
        "id": "9sEbd11eozKF"
      }
    },
    {
      "cell_type": "markdown",
      "source": [
        "#In Spacy"
      ],
      "metadata": {
        "id": "iCvsWsaTozcj"
      }
    },
    {
      "cell_type": "code",
      "source": [
        "doc = nlp(text)\n",
        " \n",
        "for ent in doc.ents:\n",
        "    print(ent.text, ent.start_char, ent.end_char, ent.label_)"
      ],
      "metadata": {
        "colab": {
          "base_uri": "https://localhost:8080/"
        },
        "id": "qkTHet_mo4Hz",
        "outputId": "28aa96c4-3bf1-4875-c596-01bcf4fe129f"
      },
      "execution_count": 37,
      "outputs": [
        {
          "output_type": "stream",
          "name": "stdout",
          "text": [
            "India 0 5 GPE\n",
            "6,650 19 24 CARDINAL\n",
            "374 51 54 CARDINAL\n",
            "24 hours 65 73 TIME\n",
            "Friday 98 104 DATE\n",
            "358 149 152 CARDINAL\n",
            "77,516 195 201 CARDINAL\n"
          ]
        }
      ]
    },
    {
      "cell_type": "markdown",
      "source": [
        "#In Nltk"
      ],
      "metadata": {
        "id": "ZDAYWbTTpFej"
      }
    },
    {
      "cell_type": "code",
      "source": [
        "nltk.download('words')"
      ],
      "metadata": {
        "colab": {
          "base_uri": "https://localhost:8080/"
        },
        "id": "RO0DiEwJozku",
        "outputId": "706c5e9a-ae51-4be4-c8ab-bed01ef1d73d"
      },
      "execution_count": 38,
      "outputs": [
        {
          "output_type": "stream",
          "name": "stdout",
          "text": [
            "[nltk_data] Downloading package words to /root/nltk_data...\n",
            "[nltk_data]   Package words is already up-to-date!\n"
          ]
        },
        {
          "output_type": "execute_result",
          "data": {
            "text/plain": [
              "True"
            ]
          },
          "metadata": {},
          "execution_count": 38
        }
      ]
    },
    {
      "cell_type": "code",
      "source": [
        "import nltk\n",
        "nltk.download('maxent_ne_chunker')"
      ],
      "metadata": {
        "colab": {
          "base_uri": "https://localhost:8080/"
        },
        "id": "1m0cFt4PpRxD",
        "outputId": "f4dd400f-740f-4715-e4f1-d92bce3d9d44"
      },
      "execution_count": 39,
      "outputs": [
        {
          "output_type": "stream",
          "name": "stdout",
          "text": [
            "[nltk_data] Downloading package maxent_ne_chunker to\n",
            "[nltk_data]     /root/nltk_data...\n",
            "[nltk_data]   Package maxent_ne_chunker is already up-to-date!\n"
          ]
        },
        {
          "output_type": "execute_result",
          "data": {
            "text/plain": [
              "True"
            ]
          },
          "metadata": {},
          "execution_count": 39
        }
      ]
    },
    {
      "cell_type": "code",
      "source": [
        "from nltk import ne_chunk, pos_tag, word_tokenize\n",
        "print(nltk.ne_chunk(nltk.pos_tag(nltk.word_tokenize(text))))"
      ],
      "metadata": {
        "colab": {
          "base_uri": "https://localhost:8080/"
        },
        "id": "d04HwFUOpKvb",
        "outputId": "e624e848-d072-4dc7-ceb8-89abae20718f"
      },
      "execution_count": 40,
      "outputs": [
        {
          "output_type": "stream",
          "name": "stdout",
          "text": [
            "(S\n",
            "  (GPE India/NNP)\n",
            "  has/VBZ\n",
            "  reported/VBN\n",
            "  6,650/CD\n",
            "  new/JJ\n",
            "  cases/NNS\n",
            "  of/IN\n",
            "  Covid-19/NNP\n",
            "  and/CC\n",
            "  374/CD\n",
            "  deaths/NNS\n",
            "  in/IN\n",
            "  24/CD\n",
            "  hours/NNS\n",
            "  ,/,\n",
            "  the/DT\n",
            "  government/NN\n",
            "  said/VBD\n",
            "  on/IN\n",
            "  Friday/NNP\n",
            "  ./.\n",
            "  (PERSON Omicron/NNP)\n",
            "  tally/RB\n",
            "  in/IN\n",
            "  the/DT\n",
            "  country/NN\n",
            "  has/VBZ\n",
            "  jumped/VBN\n",
            "  to/TO\n",
            "  358/CD\n",
            "  ./.\n",
            "  Active/JJ\n",
            "  caseload/NN\n",
            "  in/IN\n",
            "  the/DT\n",
            "  country/NN\n",
            "  stands/VBZ\n",
            "  at/IN\n",
            "  77,516/CD)\n"
          ]
        }
      ]
    },
    {
      "cell_type": "code",
      "source": [
        "for sent in nltk.sent_tokenize(text):\n",
        "    for chunk in nltk.ne_chunk(nltk.pos_tag(nltk.word_tokenize(sent))):\n",
        "        if hasattr(chunk, 'label'):\n",
        "            print(chunk.label(), ' '.join(c[0] for c in chunk))"
      ],
      "metadata": {
        "colab": {
          "base_uri": "https://localhost:8080/"
        },
        "id": "a46DqTZYpdvj",
        "outputId": "83de679f-3cdb-431f-959d-71658edeffb9"
      },
      "execution_count": 41,
      "outputs": [
        {
          "output_type": "stream",
          "name": "stdout",
          "text": [
            "GPE India\n",
            "PERSON Omicron\n",
            "GPE Active\n"
          ]
        }
      ]
    }
  ]
}